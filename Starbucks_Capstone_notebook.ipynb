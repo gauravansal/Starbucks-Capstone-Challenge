{
 "cells": [
  {
   "cell_type": "markdown",
   "metadata": {},
   "source": [
    "# Starbucks Capstone Challenge\n",
    "\n",
    "### Introduction\n",
    "\n",
    "This data set contains simulated data that mimics customer behavior on the Starbucks rewards mobile app. Once every few days, Starbucks sends out an offer to users of the mobile app. An offer can be merely an advertisement for a drink or an actual offer such as a discount or BOGO (buy one get one free). Some users might not receive any offer during certain weeks. \n",
    "\n",
    "Not all users receive the same offer, and that is the challenge to solve with this data set.\n",
    "\n",
    "Your task is to combine transaction, demographic and offer data to determine which demographic groups respond best to which offer type. This data set is a simplified version of the real Starbucks app because the underlying simulator only has one product whereas Starbucks actually sells dozens of products.\n",
    "\n",
    "Every offer has a validity period before the offer expires. As an example, a BOGO offer might be valid for only 5 days. You'll see in the data set that informational offers have a validity period even though these ads are merely providing information about a product; for example, if an informational offer has 7 days of validity, you can assume the customer is feeling the influence of the offer for 7 days after receiving the advertisement.\n",
    "\n",
    "You'll be given transactional data showing user purchases made on the app including the timestamp of purchase and the amount of money spent on a purchase. This transactional data also has a record for each offer that a user receives as well as a record for when a user actually views the offer. There are also records for when a user completes an offer. \n",
    "\n",
    "Keep in mind as well that someone using the app might make a purchase through the app without having received an offer or seen an offer.\n",
    "\n",
    "### Example\n",
    "\n",
    "To give an example, a user could receive a discount offer buy 10 dollars get 2 off on Monday. The offer is valid for 10 days from receipt. If the customer accumulates at least 10 dollars in purchases during the validity period, the customer completes the offer.\n",
    "\n",
    "However, there are a few things to watch out for in this data set. Customers do not opt into the offers that they receive; in other words, a user can receive an offer, never actually view the offer, and still complete the offer. For example, a user might receive the \"buy 10 dollars get 2 dollars off offer\", but the user never opens the offer during the 10 day validity period. The customer spends 15 dollars during those ten days. There will be an offer completion record in the data set; however, the customer was not influenced by the offer because the customer never viewed the offer.\n",
    "\n",
    "### Cleaning\n",
    "\n",
    "This makes data cleaning especially important and tricky.\n",
    "\n",
    "You'll also want to take into account that some demographic groups will make purchases even if they don't receive an offer. From a business perspective, if a customer is going to make a 10 dollar purchase without an offer anyway, you wouldn't want to send a buy 10 dollars get 2 dollars off offer. You'll want to try to assess what a certain demographic group will buy when not receiving any offers.\n",
    "\n",
    "### Final Advice\n",
    "\n",
    "Because this is a capstone project, you are free to analyze the data any way you see fit. For example, you could build a machine learning model that predicts how much someone will spend based on demographics and offer type. Or you could build a model that predicts whether or not someone will respond to an offer. Or, you don't need to build a machine learning model at all. You could develop a set of heuristics that determine what offer you should send to each customer (i.e., 75 percent of women customers who were 35 years old responded to offer A vs 40 percent from the same demographic to offer B, so send offer A)."
   ]
  },
  {
   "cell_type": "markdown",
   "metadata": {},
   "source": [
    "# Data Sets\n",
    "\n",
    "The data is contained in three files:\n",
    "\n",
    "* portfolio.json - containing offer ids and meta data about each offer (duration, type, etc.)\n",
    "* profile.json - demographic data for each customer\n",
    "* transcript.json - records for transactions, offers received, offers viewed, and offers completed\n",
    "\n",
    "Here is the schema and explanation of each variable in the files:\n",
    "\n",
    "**portfolio.json**\n",
    "* id (string) - offer id\n",
    "* offer_type (string) - type of offer ie BOGO, discount, informational\n",
    "* difficulty (int) - minimum required spend to complete an offer\n",
    "* reward (int) - reward given for completing an offer\n",
    "* duration (int) - time for offer to be open, in days\n",
    "* channels (list of strings)\n",
    "\n",
    "**profile.json**\n",
    "* age (int) - age of the customer \n",
    "* became_member_on (int) - date when customer created an app account\n",
    "* gender (str) - gender of the customer (note some entries contain 'O' for other rather than M or F)\n",
    "* id (str) - customer id\n",
    "* income (float) - customer's income\n",
    "\n",
    "**transcript.json**\n",
    "* event (str) - record description (ie transaction, offer received, offer viewed, etc.)\n",
    "* person (str) - customer id\n",
    "* time (int) - time in hours since start of test. The data begins at time t=0\n",
    "* value - (dict of strings) - either an offer id or transaction amount depending on the record"
   ]
  },
  {
   "cell_type": "markdown",
   "metadata": {},
   "source": [
    "## Problem Statement"
   ]
  },
  {
   "cell_type": "markdown",
   "metadata": {},
   "source": [
    "**Traditional marketing analytics or scoreboards are essential for evaluating the success or failure of organisation's past marketing activities. But today's marketers or organisations can leverage advanced marketing techniques like predictive modeling for customer behavior, predictive lead scoring, and all sorts of strategies based on predictive analytics insights. Predictive techniques can make an organisation marketing investment much more efficient and helps in regularly validating results. Connecting customer information to the operational data provides valuable insight into customer behavior and the health of your overall business. In this project, Starbucks wants to connect offer data, customer data and transaction data(operational data) to gain insights about customer behaviour and overall effectiveness of offers as a value for business**.\n",
    "\n",
    "***Therefore, with the above key statement in mind, below is the main objective or problem motivation or problem statement:***\n",
    "\n",
    "**Build a model that predicts whether a customer would respond to an offer or not.**\n",
    "\n",
    "***The entire analysis would contain below steps:***\n",
    "\n",
    "1. Analyse each of the portfolio, profile and transaction data.\n",
    "2. Clean and tranform each of the portfolio, profile and transaction data.\n",
    "3. Combine portfolio, profile and transaction data.\n",
    "4. Select a performance metric to analyse performance of the model and to compare different models.\n",
    "5. Compute the performance of a baseline model against which performance of other different models would be compared.\n",
    "6. Select best performing model based on the metric and training time.\n",
    "7. Calculate the feature importances given by best estimator of the trained model.\n",
    "8. Compute the performance of best model on test set and visualize the performance via confusion matrix plot.\n",
    "\n",
    "\n",
    "The resulting solution will be that best model would be able to determine which customers would respond."
   ]
  },
  {
   "cell_type": "code",
   "execution_count": 1,
   "metadata": {},
   "outputs": [],
   "source": [
    "import pandas as pd\n",
    "import numpy as np\n",
    "import math\n",
    "import json\n",
    "from datetime import datetime\n",
    "import matplotlib.pyplot as plt\n",
    "import seaborn as sns\n",
    "import os\n",
    "import time\n",
    "from sklearn.preprocessing import StandardScaler, MinMaxScaler\n",
    "from sklearn.model_selection import train_test_split, StratifiedKFold\n",
    "from sklearn.linear_model import LogisticRegression\n",
    "from sklearn.ensemble import RandomForestClassifier, AdaBoostClassifier, GradientBoostingClassifier\n",
    "from sklearn.model_selection import GridSearchCV\n",
    "from sklearn.metrics import f1_score, precision_score, recall_score, confusion_matrix\n",
    "from sklearn.utils.multiclass import unique_labels\n",
    "\n",
    "% matplotlib inline"
   ]
  },
  {
   "cell_type": "code",
   "execution_count": 2,
   "metadata": {},
   "outputs": [],
   "source": [
    "# read in the json files\n",
    "#portfolio = pd.read_json('data/portfolio.json', orient='records', lines=True)\n",
    "#profile = pd.read_json('data/profile.json', orient='records', lines=True)\n",
    "#transcript = pd.read_json('data/transcript.json', orient='records', lines=True)"
   ]
  },
  {
   "cell_type": "markdown",
   "metadata": {},
   "source": [
    "## Analyze portfolio data"
   ]
  },
  {
   "cell_type": "code",
   "execution_count": 3,
   "metadata": {},
   "outputs": [
    {
     "data": {
      "text/html": [
       "<div>\n",
       "<style scoped>\n",
       "    .dataframe tbody tr th:only-of-type {\n",
       "        vertical-align: middle;\n",
       "    }\n",
       "\n",
       "    .dataframe tbody tr th {\n",
       "        vertical-align: top;\n",
       "    }\n",
       "\n",
       "    .dataframe thead th {\n",
       "        text-align: right;\n",
       "    }\n",
       "</style>\n",
       "<table border=\"1\" class=\"dataframe\">\n",
       "  <thead>\n",
       "    <tr style=\"text-align: right;\">\n",
       "      <th></th>\n",
       "      <th>channels</th>\n",
       "      <th>difficulty</th>\n",
       "      <th>duration</th>\n",
       "      <th>id</th>\n",
       "      <th>offer_type</th>\n",
       "      <th>reward</th>\n",
       "    </tr>\n",
       "  </thead>\n",
       "  <tbody>\n",
       "    <tr>\n",
       "      <th>0</th>\n",
       "      <td>[email, mobile, social]</td>\n",
       "      <td>10</td>\n",
       "      <td>7</td>\n",
       "      <td>ae264e3637204a6fb9bb56bc8210ddfd</td>\n",
       "      <td>bogo</td>\n",
       "      <td>10</td>\n",
       "    </tr>\n",
       "    <tr>\n",
       "      <th>1</th>\n",
       "      <td>[web, email, mobile, social]</td>\n",
       "      <td>10</td>\n",
       "      <td>5</td>\n",
       "      <td>4d5c57ea9a6940dd891ad53e9dbe8da0</td>\n",
       "      <td>bogo</td>\n",
       "      <td>10</td>\n",
       "    </tr>\n",
       "    <tr>\n",
       "      <th>2</th>\n",
       "      <td>[web, email, mobile]</td>\n",
       "      <td>0</td>\n",
       "      <td>4</td>\n",
       "      <td>3f207df678b143eea3cee63160fa8bed</td>\n",
       "      <td>informational</td>\n",
       "      <td>0</td>\n",
       "    </tr>\n",
       "    <tr>\n",
       "      <th>3</th>\n",
       "      <td>[web, email, mobile]</td>\n",
       "      <td>5</td>\n",
       "      <td>7</td>\n",
       "      <td>9b98b8c7a33c4b65b9aebfe6a799e6d9</td>\n",
       "      <td>bogo</td>\n",
       "      <td>5</td>\n",
       "    </tr>\n",
       "    <tr>\n",
       "      <th>4</th>\n",
       "      <td>[web, email]</td>\n",
       "      <td>20</td>\n",
       "      <td>10</td>\n",
       "      <td>0b1e1539f2cc45b7b9fa7c272da2e1d7</td>\n",
       "      <td>discount</td>\n",
       "      <td>5</td>\n",
       "    </tr>\n",
       "    <tr>\n",
       "      <th>5</th>\n",
       "      <td>[web, email, mobile, social]</td>\n",
       "      <td>7</td>\n",
       "      <td>7</td>\n",
       "      <td>2298d6c36e964ae4a3e7e9706d1fb8c2</td>\n",
       "      <td>discount</td>\n",
       "      <td>3</td>\n",
       "    </tr>\n",
       "    <tr>\n",
       "      <th>6</th>\n",
       "      <td>[web, email, mobile, social]</td>\n",
       "      <td>10</td>\n",
       "      <td>10</td>\n",
       "      <td>fafdcd668e3743c1bb461111dcafc2a4</td>\n",
       "      <td>discount</td>\n",
       "      <td>2</td>\n",
       "    </tr>\n",
       "    <tr>\n",
       "      <th>7</th>\n",
       "      <td>[email, mobile, social]</td>\n",
       "      <td>0</td>\n",
       "      <td>3</td>\n",
       "      <td>5a8bc65990b245e5a138643cd4eb9837</td>\n",
       "      <td>informational</td>\n",
       "      <td>0</td>\n",
       "    </tr>\n",
       "    <tr>\n",
       "      <th>8</th>\n",
       "      <td>[web, email, mobile, social]</td>\n",
       "      <td>5</td>\n",
       "      <td>5</td>\n",
       "      <td>f19421c1d4aa40978ebb69ca19b0e20d</td>\n",
       "      <td>bogo</td>\n",
       "      <td>5</td>\n",
       "    </tr>\n",
       "    <tr>\n",
       "      <th>9</th>\n",
       "      <td>[web, email, mobile]</td>\n",
       "      <td>10</td>\n",
       "      <td>7</td>\n",
       "      <td>2906b810c7d4411798c6938adc9daaa5</td>\n",
       "      <td>discount</td>\n",
       "      <td>2</td>\n",
       "    </tr>\n",
       "  </tbody>\n",
       "</table>\n",
       "</div>"
      ],
      "text/plain": [
       "                       channels  difficulty  duration  \\\n",
       "0       [email, mobile, social]          10         7   \n",
       "1  [web, email, mobile, social]          10         5   \n",
       "2          [web, email, mobile]           0         4   \n",
       "3          [web, email, mobile]           5         7   \n",
       "4                  [web, email]          20        10   \n",
       "5  [web, email, mobile, social]           7         7   \n",
       "6  [web, email, mobile, social]          10        10   \n",
       "7       [email, mobile, social]           0         3   \n",
       "8  [web, email, mobile, social]           5         5   \n",
       "9          [web, email, mobile]          10         7   \n",
       "\n",
       "                                 id     offer_type  reward  \n",
       "0  ae264e3637204a6fb9bb56bc8210ddfd           bogo      10  \n",
       "1  4d5c57ea9a6940dd891ad53e9dbe8da0           bogo      10  \n",
       "2  3f207df678b143eea3cee63160fa8bed  informational       0  \n",
       "3  9b98b8c7a33c4b65b9aebfe6a799e6d9           bogo       5  \n",
       "4  0b1e1539f2cc45b7b9fa7c272da2e1d7       discount       5  \n",
       "5  2298d6c36e964ae4a3e7e9706d1fb8c2       discount       3  \n",
       "6  fafdcd668e3743c1bb461111dcafc2a4       discount       2  \n",
       "7  5a8bc65990b245e5a138643cd4eb9837  informational       0  \n",
       "8  f19421c1d4aa40978ebb69ca19b0e20d           bogo       5  \n",
       "9  2906b810c7d4411798c6938adc9daaa5       discount       2  "
      ]
     },
     "execution_count": 3,
     "metadata": {},
     "output_type": "execute_result"
    }
   ],
   "source": [
    "# Load portfolio data\n",
    "portfolio = pd.read_json('data/portfolio.json', orient='records', lines=True)\n",
    "portfolio"
   ]
  },
  {
   "cell_type": "code",
   "execution_count": 4,
   "metadata": {},
   "outputs": [
    {
     "name": "stdout",
     "output_type": "stream",
     "text": [
      "<class 'pandas.core.frame.DataFrame'>\n",
      "RangeIndex: 10 entries, 0 to 9\n",
      "Data columns (total 6 columns):\n",
      "channels      10 non-null object\n",
      "difficulty    10 non-null int64\n",
      "duration      10 non-null int64\n",
      "id            10 non-null object\n",
      "offer_type    10 non-null object\n",
      "reward        10 non-null int64\n",
      "dtypes: int64(3), object(3)\n",
      "memory usage: 560.0+ bytes\n"
     ]
    }
   ],
   "source": [
    "# Print portfolio info\n",
    "portfolio.info()"
   ]
  },
  {
   "cell_type": "code",
   "execution_count": 5,
   "metadata": {},
   "outputs": [
    {
     "data": {
      "text/plain": [
       "channels      0\n",
       "difficulty    0\n",
       "duration      0\n",
       "id            0\n",
       "offer_type    0\n",
       "reward        0\n",
       "dtype: int64"
      ]
     },
     "execution_count": 5,
     "metadata": {},
     "output_type": "execute_result"
    }
   ],
   "source": [
    "# Calculate null values in portfolio dataframe\n",
    "portfolio.isnull().sum()"
   ]
  },
  {
   "cell_type": "markdown",
   "metadata": {},
   "source": [
    "**From above, we can observe that there are no null values in portfolio dataframe**."
   ]
  },
  {
   "cell_type": "code",
   "execution_count": 6,
   "metadata": {},
   "outputs": [],
   "source": [
    "# Change name of feature id to offer_id\n",
    "portfolio.rename(columns={'id': 'offer_id'}, inplace=True)"
   ]
  },
  {
   "cell_type": "code",
   "execution_count": 7,
   "metadata": {},
   "outputs": [
    {
     "data": {
      "text/plain": [
       "offer_type\n",
       "bogo             4\n",
       "discount         4\n",
       "informational    2\n",
       "Name: offer_id, dtype: int64"
      ]
     },
     "execution_count": 7,
     "metadata": {},
     "output_type": "execute_result"
    }
   ],
   "source": [
    "# Compute count of offert type\n",
    "portfolio.groupby(['offer_type'])['offer_id'].count()"
   ]
  },
  {
   "cell_type": "markdown",
   "metadata": {},
   "source": [
    "**From above , we can observe that there are 3 offer types i.e. 4 bogo offers, 4 discount offers and 2 informational offers**."
   ]
  },
  {
   "cell_type": "code",
   "execution_count": 8,
   "metadata": {},
   "outputs": [
    {
     "data": {
      "text/plain": [
       "array(['bogo', 'informational', 'discount'], dtype=object)"
      ]
     },
     "execution_count": 8,
     "metadata": {},
     "output_type": "execute_result"
    }
   ],
   "source": [
    "# Calculate unique values of feature offer_type\n",
    "portfolio['offer_type'].unique()"
   ]
  },
  {
   "cell_type": "code",
   "execution_count": 9,
   "metadata": {},
   "outputs": [
    {
     "name": "stdout",
     "output_type": "stream",
     "text": [
      "bogo id's are: ['ae264e3637204a6fb9bb56bc8210ddfd', '4d5c57ea9a6940dd891ad53e9dbe8da0', '9b98b8c7a33c4b65b9aebfe6a799e6d9', 'f19421c1d4aa40978ebb69ca19b0e20d']\n",
      "\n",
      "discount id's are: ['0b1e1539f2cc45b7b9fa7c272da2e1d7', '2298d6c36e964ae4a3e7e9706d1fb8c2', 'fafdcd668e3743c1bb461111dcafc2a4', '2906b810c7d4411798c6938adc9daaa5']\n",
      "\n",
      "informational id's are: ['3f207df678b143eea3cee63160fa8bed', '5a8bc65990b245e5a138643cd4eb9837']\n"
     ]
    }
   ],
   "source": [
    "# Calculate offer id's for each offer type\n",
    "bogo_id = portfolio[portfolio['offer_type'] == 'bogo']['offer_id'].values.tolist()\n",
    "print(\"bogo id's are: {}\\n\".format(bogo_id))\n",
    "discount_id = portfolio[portfolio['offer_type'] == 'discount']['offer_id'].values.tolist()\n",
    "print(\"discount id's are: {}\\n\".format(discount_id))\n",
    "inform_id = portfolio[portfolio['offer_type'] == 'informational']['offer_id'].values.tolist()\n",
    "print(\"informational id's are: {}\".format(inform_id))"
   ]
  },
  {
   "cell_type": "code",
   "execution_count": 10,
   "metadata": {},
   "outputs": [
    {
     "data": {
      "text/html": [
       "<div>\n",
       "<style scoped>\n",
       "    .dataframe tbody tr th:only-of-type {\n",
       "        vertical-align: middle;\n",
       "    }\n",
       "\n",
       "    .dataframe tbody tr th {\n",
       "        vertical-align: top;\n",
       "    }\n",
       "\n",
       "    .dataframe thead th {\n",
       "        text-align: right;\n",
       "    }\n",
       "</style>\n",
       "<table border=\"1\" class=\"dataframe\">\n",
       "  <thead>\n",
       "    <tr style=\"text-align: right;\">\n",
       "      <th></th>\n",
       "      <th>offer_id</th>\n",
       "      <th>difficulty</th>\n",
       "      <th>duration</th>\n",
       "      <th>reward</th>\n",
       "      <th>bogo</th>\n",
       "      <th>discount</th>\n",
       "      <th>informational</th>\n",
       "      <th>web</th>\n",
       "      <th>email</th>\n",
       "      <th>mobile</th>\n",
       "      <th>social</th>\n",
       "    </tr>\n",
       "  </thead>\n",
       "  <tbody>\n",
       "    <tr>\n",
       "      <th>0</th>\n",
       "      <td>ae264e3637204a6fb9bb56bc8210ddfd</td>\n",
       "      <td>10</td>\n",
       "      <td>168</td>\n",
       "      <td>10</td>\n",
       "      <td>1</td>\n",
       "      <td>0</td>\n",
       "      <td>0</td>\n",
       "      <td>0</td>\n",
       "      <td>1</td>\n",
       "      <td>1</td>\n",
       "      <td>1</td>\n",
       "    </tr>\n",
       "    <tr>\n",
       "      <th>1</th>\n",
       "      <td>4d5c57ea9a6940dd891ad53e9dbe8da0</td>\n",
       "      <td>10</td>\n",
       "      <td>120</td>\n",
       "      <td>10</td>\n",
       "      <td>1</td>\n",
       "      <td>0</td>\n",
       "      <td>0</td>\n",
       "      <td>1</td>\n",
       "      <td>1</td>\n",
       "      <td>1</td>\n",
       "      <td>1</td>\n",
       "    </tr>\n",
       "    <tr>\n",
       "      <th>2</th>\n",
       "      <td>3f207df678b143eea3cee63160fa8bed</td>\n",
       "      <td>0</td>\n",
       "      <td>96</td>\n",
       "      <td>0</td>\n",
       "      <td>0</td>\n",
       "      <td>0</td>\n",
       "      <td>1</td>\n",
       "      <td>1</td>\n",
       "      <td>1</td>\n",
       "      <td>1</td>\n",
       "      <td>0</td>\n",
       "    </tr>\n",
       "    <tr>\n",
       "      <th>3</th>\n",
       "      <td>9b98b8c7a33c4b65b9aebfe6a799e6d9</td>\n",
       "      <td>5</td>\n",
       "      <td>168</td>\n",
       "      <td>5</td>\n",
       "      <td>1</td>\n",
       "      <td>0</td>\n",
       "      <td>0</td>\n",
       "      <td>1</td>\n",
       "      <td>1</td>\n",
       "      <td>1</td>\n",
       "      <td>0</td>\n",
       "    </tr>\n",
       "    <tr>\n",
       "      <th>4</th>\n",
       "      <td>0b1e1539f2cc45b7b9fa7c272da2e1d7</td>\n",
       "      <td>20</td>\n",
       "      <td>240</td>\n",
       "      <td>5</td>\n",
       "      <td>0</td>\n",
       "      <td>1</td>\n",
       "      <td>0</td>\n",
       "      <td>1</td>\n",
       "      <td>1</td>\n",
       "      <td>0</td>\n",
       "      <td>0</td>\n",
       "    </tr>\n",
       "    <tr>\n",
       "      <th>5</th>\n",
       "      <td>2298d6c36e964ae4a3e7e9706d1fb8c2</td>\n",
       "      <td>7</td>\n",
       "      <td>168</td>\n",
       "      <td>3</td>\n",
       "      <td>0</td>\n",
       "      <td>1</td>\n",
       "      <td>0</td>\n",
       "      <td>1</td>\n",
       "      <td>1</td>\n",
       "      <td>1</td>\n",
       "      <td>1</td>\n",
       "    </tr>\n",
       "    <tr>\n",
       "      <th>6</th>\n",
       "      <td>fafdcd668e3743c1bb461111dcafc2a4</td>\n",
       "      <td>10</td>\n",
       "      <td>240</td>\n",
       "      <td>2</td>\n",
       "      <td>0</td>\n",
       "      <td>1</td>\n",
       "      <td>0</td>\n",
       "      <td>1</td>\n",
       "      <td>1</td>\n",
       "      <td>1</td>\n",
       "      <td>1</td>\n",
       "    </tr>\n",
       "    <tr>\n",
       "      <th>7</th>\n",
       "      <td>5a8bc65990b245e5a138643cd4eb9837</td>\n",
       "      <td>0</td>\n",
       "      <td>72</td>\n",
       "      <td>0</td>\n",
       "      <td>0</td>\n",
       "      <td>0</td>\n",
       "      <td>1</td>\n",
       "      <td>0</td>\n",
       "      <td>1</td>\n",
       "      <td>1</td>\n",
       "      <td>1</td>\n",
       "    </tr>\n",
       "    <tr>\n",
       "      <th>8</th>\n",
       "      <td>f19421c1d4aa40978ebb69ca19b0e20d</td>\n",
       "      <td>5</td>\n",
       "      <td>120</td>\n",
       "      <td>5</td>\n",
       "      <td>1</td>\n",
       "      <td>0</td>\n",
       "      <td>0</td>\n",
       "      <td>1</td>\n",
       "      <td>1</td>\n",
       "      <td>1</td>\n",
       "      <td>1</td>\n",
       "    </tr>\n",
       "    <tr>\n",
       "      <th>9</th>\n",
       "      <td>2906b810c7d4411798c6938adc9daaa5</td>\n",
       "      <td>10</td>\n",
       "      <td>168</td>\n",
       "      <td>2</td>\n",
       "      <td>0</td>\n",
       "      <td>1</td>\n",
       "      <td>0</td>\n",
       "      <td>1</td>\n",
       "      <td>1</td>\n",
       "      <td>1</td>\n",
       "      <td>0</td>\n",
       "    </tr>\n",
       "  </tbody>\n",
       "</table>\n",
       "</div>"
      ],
      "text/plain": [
       "                           offer_id  difficulty  duration  reward  bogo  \\\n",
       "0  ae264e3637204a6fb9bb56bc8210ddfd          10       168      10     1   \n",
       "1  4d5c57ea9a6940dd891ad53e9dbe8da0          10       120      10     1   \n",
       "2  3f207df678b143eea3cee63160fa8bed           0        96       0     0   \n",
       "3  9b98b8c7a33c4b65b9aebfe6a799e6d9           5       168       5     1   \n",
       "4  0b1e1539f2cc45b7b9fa7c272da2e1d7          20       240       5     0   \n",
       "5  2298d6c36e964ae4a3e7e9706d1fb8c2           7       168       3     0   \n",
       "6  fafdcd668e3743c1bb461111dcafc2a4          10       240       2     0   \n",
       "7  5a8bc65990b245e5a138643cd4eb9837           0        72       0     0   \n",
       "8  f19421c1d4aa40978ebb69ca19b0e20d           5       120       5     1   \n",
       "9  2906b810c7d4411798c6938adc9daaa5          10       168       2     0   \n",
       "\n",
       "   discount  informational  web  email  mobile  social  \n",
       "0         0              0    0      1       1       1  \n",
       "1         0              0    1      1       1       1  \n",
       "2         0              1    1      1       1       0  \n",
       "3         0              0    1      1       1       0  \n",
       "4         1              0    1      1       0       0  \n",
       "5         1              0    1      1       1       1  \n",
       "6         1              0    1      1       1       1  \n",
       "7         0              1    0      1       1       1  \n",
       "8         0              0    1      1       1       1  \n",
       "9         1              0    1      1       1       0  "
      ]
     },
     "execution_count": 10,
     "metadata": {},
     "output_type": "execute_result"
    }
   ],
   "source": [
    "# Convert time feature from days to hours\n",
    "portfolio['duration'] = portfolio['duration']*24\n",
    "\n",
    "# Make separate columns for values in feature channels list\n",
    "portfolio['web'] = portfolio['channels'].apply(lambda x: int(1) if 'web' in x else int(0))\n",
    "portfolio['email'] = portfolio['channels'].apply(lambda x: int(1) if 'email' in x else int(0))\n",
    "portfolio['mobile'] = portfolio['channels'].apply(lambda x: int(1) if 'mobile' in x else int(0))\n",
    "portfolio['social'] = portfolio['channels'].apply(lambda x: int(1) if 'social' in x else int(0))\n",
    "\n",
    "# Drop channels column\n",
    "portfolio.drop(columns=['channels'],axis=1, inplace=True)\n",
    "\n",
    "# OneHotEncoding fetaure offer_type\n",
    "portfolio = pd.get_dummies(portfolio, columns=['offer_type'], prefix='', prefix_sep='')\n",
    "\n",
    "# Re-order columns of portfolio dataframe\n",
    "col_order = ['offer_id', 'difficulty', 'duration', 'reward', 'bogo', 'discount', 'informational', 'web', 'email',\\\n",
    "             'mobile', 'social']\n",
    "portfolio = portfolio.reindex(col_order, axis=1)\n",
    "\n",
    "# Print portfolio dataframe\n",
    "portfolio"
   ]
  },
  {
   "cell_type": "code",
   "execution_count": 11,
   "metadata": {},
   "outputs": [
    {
     "data": {
      "text/plain": [
       "(10, 11)"
      ]
     },
     "execution_count": 11,
     "metadata": {},
     "output_type": "execute_result"
    }
   ],
   "source": [
    "# Print shape of portfolio dataframe\n",
    "portfolio.shape"
   ]
  },
  {
   "cell_type": "code",
   "execution_count": 12,
   "metadata": {},
   "outputs": [
    {
     "data": {
      "text/plain": [
       "Index(['offer_id', 'difficulty', 'duration', 'reward', 'bogo', 'discount',\n",
       "       'informational', 'web', 'email', 'mobile', 'social'],\n",
       "      dtype='object')"
      ]
     },
     "execution_count": 12,
     "metadata": {},
     "output_type": "execute_result"
    }
   ],
   "source": [
    "# Print features of portfolio dataframe\n",
    "portfolio.columns"
   ]
  },
  {
   "cell_type": "markdown",
   "metadata": {},
   "source": [
    "## Analyze profile data"
   ]
  },
  {
   "cell_type": "code",
   "execution_count": 13,
   "metadata": {},
   "outputs": [
    {
     "data": {
      "text/html": [
       "<div>\n",
       "<style scoped>\n",
       "    .dataframe tbody tr th:only-of-type {\n",
       "        vertical-align: middle;\n",
       "    }\n",
       "\n",
       "    .dataframe tbody tr th {\n",
       "        vertical-align: top;\n",
       "    }\n",
       "\n",
       "    .dataframe thead th {\n",
       "        text-align: right;\n",
       "    }\n",
       "</style>\n",
       "<table border=\"1\" class=\"dataframe\">\n",
       "  <thead>\n",
       "    <tr style=\"text-align: right;\">\n",
       "      <th></th>\n",
       "      <th>age</th>\n",
       "      <th>became_member_on</th>\n",
       "      <th>gender</th>\n",
       "      <th>id</th>\n",
       "      <th>income</th>\n",
       "    </tr>\n",
       "  </thead>\n",
       "  <tbody>\n",
       "    <tr>\n",
       "      <th>0</th>\n",
       "      <td>118</td>\n",
       "      <td>20170212</td>\n",
       "      <td>None</td>\n",
       "      <td>68be06ca386d4c31939f3a4f0e3dd783</td>\n",
       "      <td>NaN</td>\n",
       "    </tr>\n",
       "    <tr>\n",
       "      <th>1</th>\n",
       "      <td>55</td>\n",
       "      <td>20170715</td>\n",
       "      <td>F</td>\n",
       "      <td>0610b486422d4921ae7d2bf64640c50b</td>\n",
       "      <td>112000.0</td>\n",
       "    </tr>\n",
       "    <tr>\n",
       "      <th>2</th>\n",
       "      <td>118</td>\n",
       "      <td>20180712</td>\n",
       "      <td>None</td>\n",
       "      <td>38fe809add3b4fcf9315a9694bb96ff5</td>\n",
       "      <td>NaN</td>\n",
       "    </tr>\n",
       "    <tr>\n",
       "      <th>3</th>\n",
       "      <td>75</td>\n",
       "      <td>20170509</td>\n",
       "      <td>F</td>\n",
       "      <td>78afa995795e4d85b5d9ceeca43f5fef</td>\n",
       "      <td>100000.0</td>\n",
       "    </tr>\n",
       "    <tr>\n",
       "      <th>4</th>\n",
       "      <td>118</td>\n",
       "      <td>20170804</td>\n",
       "      <td>None</td>\n",
       "      <td>a03223e636434f42ac4c3df47e8bac43</td>\n",
       "      <td>NaN</td>\n",
       "    </tr>\n",
       "  </tbody>\n",
       "</table>\n",
       "</div>"
      ],
      "text/plain": [
       "   age  became_member_on gender                                id    income\n",
       "0  118          20170212   None  68be06ca386d4c31939f3a4f0e3dd783       NaN\n",
       "1   55          20170715      F  0610b486422d4921ae7d2bf64640c50b  112000.0\n",
       "2  118          20180712   None  38fe809add3b4fcf9315a9694bb96ff5       NaN\n",
       "3   75          20170509      F  78afa995795e4d85b5d9ceeca43f5fef  100000.0\n",
       "4  118          20170804   None  a03223e636434f42ac4c3df47e8bac43       NaN"
      ]
     },
     "execution_count": 13,
     "metadata": {},
     "output_type": "execute_result"
    }
   ],
   "source": [
    "# Load profile data \n",
    "profile = pd.read_json('data/profile.json', orient='records', lines=True)\n",
    "profile.head()"
   ]
  },
  {
   "cell_type": "code",
   "execution_count": 14,
   "metadata": {},
   "outputs": [
    {
     "name": "stdout",
     "output_type": "stream",
     "text": [
      "<class 'pandas.core.frame.DataFrame'>\n",
      "RangeIndex: 17000 entries, 0 to 16999\n",
      "Data columns (total 5 columns):\n",
      "age                 17000 non-null int64\n",
      "became_member_on    17000 non-null int64\n",
      "gender              14825 non-null object\n",
      "id                  17000 non-null object\n",
      "income              14825 non-null float64\n",
      "dtypes: float64(1), int64(2), object(2)\n",
      "memory usage: 664.1+ KB\n"
     ]
    }
   ],
   "source": [
    "# Print profile dataframe info\n",
    "profile.info()"
   ]
  },
  {
   "cell_type": "code",
   "execution_count": 15,
   "metadata": {},
   "outputs": [
    {
     "data": {
      "text/plain": [
       "(17000, 5)"
      ]
     },
     "execution_count": 15,
     "metadata": {},
     "output_type": "execute_result"
    }
   ],
   "source": [
    "# Print shape of profile dataframe\n",
    "profile.shape"
   ]
  },
  {
   "cell_type": "code",
   "execution_count": 16,
   "metadata": {},
   "outputs": [
    {
     "data": {
      "text/plain": [
       "age                    0\n",
       "became_member_on       0\n",
       "gender              2175\n",
       "id                     0\n",
       "income              2175\n",
       "dtype: int64"
      ]
     },
     "execution_count": 16,
     "metadata": {},
     "output_type": "execute_result"
    }
   ],
   "source": [
    "# Calculate null values in profile dataframe\n",
    "profile.isnull().sum(0)"
   ]
  },
  {
   "cell_type": "markdown",
   "metadata": {},
   "source": [
    "**From above, we can observe that gender and income features each have 2175 null values**."
   ]
  },
  {
   "cell_type": "code",
   "execution_count": 17,
   "metadata": {},
   "outputs": [
    {
     "data": {
      "text/plain": [
       "17000"
      ]
     },
     "execution_count": 17,
     "metadata": {},
     "output_type": "execute_result"
    }
   ],
   "source": [
    "# Calculate count of unique id i.e. customers\n",
    "len(profile['id'].unique())"
   ]
  },
  {
   "cell_type": "code",
   "execution_count": 18,
   "metadata": {},
   "outputs": [],
   "source": [
    "# Change name of feature id to customer_id in profile dataframe\n",
    "profile.rename(columns={'id': 'customer_id'}, inplace=True)"
   ]
  },
  {
   "cell_type": "code",
   "execution_count": 19,
   "metadata": {},
   "outputs": [
    {
     "data": {
      "text/plain": [
       "17000"
      ]
     },
     "execution_count": 19,
     "metadata": {},
     "output_type": "execute_result"
    }
   ],
   "source": [
    "# Calculate count of unique id i.e. customers\n",
    "len(profile['customer_id'].unique())"
   ]
  },
  {
   "cell_type": "code",
   "execution_count": 20,
   "metadata": {},
   "outputs": [
    {
     "data": {
      "text/plain": [
       "M    8484\n",
       "F    6129\n",
       "O     212\n",
       "Name: gender, dtype: int64"
      ]
     },
     "execution_count": 20,
     "metadata": {},
     "output_type": "execute_result"
    }
   ],
   "source": [
    "# Calculate count of unique gender\n",
    "profile['gender'].value_counts().sort_values(ascending=False)"
   ]
  },
  {
   "cell_type": "code",
   "execution_count": 21,
   "metadata": {},
   "outputs": [
    {
     "data": {
      "text/plain": [
       "118    2175\n",
       "101       5\n",
       "100      12\n",
       "99        5\n",
       "98        5\n",
       "97       13\n",
       "96        8\n",
       "95       22\n",
       "94       33\n",
       "93       29\n",
       "92       40\n",
       "91       47\n",
       "90       52\n",
       "89       53\n",
       "88       64\n",
       "87       66\n",
       "86       54\n",
       "85       70\n",
       "84       83\n",
       "83      102\n",
       "82      105\n",
       "81      118\n",
       "80      116\n",
       "79      117\n",
       "78      135\n",
       "77      141\n",
       "76      155\n",
       "75      159\n",
       "74      193\n",
       "73      209\n",
       "       ... \n",
       "47      232\n",
       "46      212\n",
       "45      231\n",
       "44      192\n",
       "43      215\n",
       "42      227\n",
       "41      189\n",
       "40      202\n",
       "39      182\n",
       "38      172\n",
       "37      197\n",
       "36      175\n",
       "35      118\n",
       "34      147\n",
       "33      152\n",
       "32      139\n",
       "31      113\n",
       "30      131\n",
       "29      129\n",
       "28      137\n",
       "27      139\n",
       "26      157\n",
       "25      136\n",
       "24      139\n",
       "23      126\n",
       "22      131\n",
       "21      140\n",
       "20      135\n",
       "19      135\n",
       "18       70\n",
       "Name: age, Length: 85, dtype: int64"
      ]
     },
     "execution_count": 21,
     "metadata": {},
     "output_type": "execute_result"
    }
   ],
   "source": [
    "# Calculate count of unique age\n",
    "profile['age'].value_counts().sort_index(ascending=False)"
   ]
  },
  {
   "cell_type": "markdown",
   "metadata": {},
   "source": [
    "**From above, we can observe that there are 2175 observations with age 118 which is also the maximum age. The number of observations for this age is way too much than the number of observations for second highest age 101 which is only 5 which indicates that there are more people with age 118 than with age 101 which seems unrealistic. Also, the number of observations with age 118 i.e. 2175 is equal to the number of missing values in features gender and income. Let us analyse the profile data for age 118 more**."
   ]
  },
  {
   "cell_type": "code",
   "execution_count": 22,
   "metadata": {},
   "outputs": [
    {
     "data": {
      "text/html": [
       "<div>\n",
       "<style scoped>\n",
       "    .dataframe tbody tr th:only-of-type {\n",
       "        vertical-align: middle;\n",
       "    }\n",
       "\n",
       "    .dataframe tbody tr th {\n",
       "        vertical-align: top;\n",
       "    }\n",
       "\n",
       "    .dataframe thead th {\n",
       "        text-align: right;\n",
       "    }\n",
       "</style>\n",
       "<table border=\"1\" class=\"dataframe\">\n",
       "  <thead>\n",
       "    <tr style=\"text-align: right;\">\n",
       "      <th></th>\n",
       "      <th>age</th>\n",
       "      <th>became_member_on</th>\n",
       "      <th>gender</th>\n",
       "      <th>customer_id</th>\n",
       "      <th>income</th>\n",
       "    </tr>\n",
       "  </thead>\n",
       "  <tbody>\n",
       "    <tr>\n",
       "      <th>0</th>\n",
       "      <td>118</td>\n",
       "      <td>20170212</td>\n",
       "      <td>None</td>\n",
       "      <td>68be06ca386d4c31939f3a4f0e3dd783</td>\n",
       "      <td>NaN</td>\n",
       "    </tr>\n",
       "    <tr>\n",
       "      <th>2</th>\n",
       "      <td>118</td>\n",
       "      <td>20180712</td>\n",
       "      <td>None</td>\n",
       "      <td>38fe809add3b4fcf9315a9694bb96ff5</td>\n",
       "      <td>NaN</td>\n",
       "    </tr>\n",
       "    <tr>\n",
       "      <th>4</th>\n",
       "      <td>118</td>\n",
       "      <td>20170804</td>\n",
       "      <td>None</td>\n",
       "      <td>a03223e636434f42ac4c3df47e8bac43</td>\n",
       "      <td>NaN</td>\n",
       "    </tr>\n",
       "    <tr>\n",
       "      <th>6</th>\n",
       "      <td>118</td>\n",
       "      <td>20170925</td>\n",
       "      <td>None</td>\n",
       "      <td>8ec6ce2a7e7949b1bf142def7d0e0586</td>\n",
       "      <td>NaN</td>\n",
       "    </tr>\n",
       "    <tr>\n",
       "      <th>7</th>\n",
       "      <td>118</td>\n",
       "      <td>20171002</td>\n",
       "      <td>None</td>\n",
       "      <td>68617ca6246f4fbc85e91a2a49552598</td>\n",
       "      <td>NaN</td>\n",
       "    </tr>\n",
       "  </tbody>\n",
       "</table>\n",
       "</div>"
      ],
      "text/plain": [
       "   age  became_member_on gender                       customer_id  income\n",
       "0  118          20170212   None  68be06ca386d4c31939f3a4f0e3dd783     NaN\n",
       "2  118          20180712   None  38fe809add3b4fcf9315a9694bb96ff5     NaN\n",
       "4  118          20170804   None  a03223e636434f42ac4c3df47e8bac43     NaN\n",
       "6  118          20170925   None  8ec6ce2a7e7949b1bf142def7d0e0586     NaN\n",
       "7  118          20171002   None  68617ca6246f4fbc85e91a2a49552598     NaN"
      ]
     },
     "execution_count": 22,
     "metadata": {},
     "output_type": "execute_result"
    }
   ],
   "source": [
    "# Print few records of profile dataframe for age 118\n",
    "profile_age_118 = profile[profile['age'] == 118]\n",
    "profile_age_118.head()"
   ]
  },
  {
   "cell_type": "code",
   "execution_count": 23,
   "metadata": {},
   "outputs": [
    {
     "data": {
      "text/plain": [
       "2175"
      ]
     },
     "execution_count": 23,
     "metadata": {},
     "output_type": "execute_result"
    }
   ],
   "source": [
    "# Number of observations with age 118\n",
    "profile_age_118.shape[0]"
   ]
  },
  {
   "cell_type": "code",
   "execution_count": 24,
   "metadata": {},
   "outputs": [
    {
     "data": {
      "text/plain": [
       "2175"
      ]
     },
     "execution_count": 24,
     "metadata": {},
     "output_type": "execute_result"
    }
   ],
   "source": [
    "# Calculate unique customer_id's with age 118\n",
    "len(profile[profile['age'] == 118]['customer_id'].unique())"
   ]
  },
  {
   "cell_type": "markdown",
   "metadata": {},
   "source": [
    "**From above, we can observe that there are 2175 unique customers with age 118**."
   ]
  },
  {
   "cell_type": "code",
   "execution_count": 25,
   "metadata": {},
   "outputs": [
    {
     "name": "stdout",
     "output_type": "stream",
     "text": [
      "None\n",
      "2175\n"
     ]
    }
   ],
   "source": [
    "# Analyze gender feature of customers with age 118\n",
    "print(profile_age_118['gender'].unique()[0])\n",
    "print(profile_age_118['gender'].shape[0])"
   ]
  },
  {
   "cell_type": "code",
   "execution_count": 26,
   "metadata": {},
   "outputs": [
    {
     "name": "stdout",
     "output_type": "stream",
     "text": [
      "nan\n",
      "2175\n"
     ]
    }
   ],
   "source": [
    "# Analyze income features of customers with age 118\n",
    "print(profile_age_118['income'].unique()[0])\n",
    "print(profile_age_118['income'].shape[0])"
   ]
  },
  {
   "cell_type": "markdown",
   "metadata": {},
   "source": [
    "**From above, we can observe that all customers with age 118 have gender as None and income as nan i.e. all customers with age 118 has missing values in gender and income features. Also, only customers with age 118 corresponds to missing values in gender and income features in profile dataframe**."
   ]
  },
  {
   "cell_type": "code",
   "execution_count": 27,
   "metadata": {},
   "outputs": [
    {
     "data": {
      "image/png": "[encoded data removed]",
      "text/plain": [
       "<matplotlib.figure.Figure at 0x7fa7fadaa128>"
      ]
     },
     "metadata": {
      "needs_background": "light"
     },
     "output_type": "display_data"
    }
   ],
   "source": [
    "# Plot distribution of ages in profile dataframe \n",
    "profile['age'].value_counts().sort_index(ascending=True).plot.bar(figsize=(20,8), fontsize=12,color='teal');\n",
    "plt.xlabel('Age', fontsize=18)\n",
    "plt.ylabel('Count', fontsize=18)\n",
    "plt.title('Distribution of age counts', fontsize=18)\n",
    "plt.show()"
   ]
  },
  {
   "cell_type": "code",
   "execution_count": 28,
   "metadata": {},
   "outputs": [
    {
     "data": {
      "image/png": "[encoded data removed]",
      "text/plain": [
       "<matplotlib.figure.Figure at 0x7fa7f9135e80>"
      ]
     },
     "metadata": {
      "needs_background": "light"
     },
     "output_type": "display_data"
    }
   ],
   "source": [
    "# Plot distribution of ages count in profile dataframe in descending order\n",
    "profile['age'].value_counts().sort_values(ascending=False).plot.bar(figsize=(20,8), fontsize=12,color='teal');\n",
    "plt.xlabel('Age', fontsize=18)\n",
    "plt.ylabel('Count', fontsize=18)\n",
    "plt.title('Distribution of age counts (descending)', fontsize=18)\n",
    "plt.show()"
   ]
  },
  {
   "cell_type": "markdown",
   "metadata": {},
   "source": [
    "**From above, we can cleary see that customers with age 118 clearly stand out in distribution plot. Therefore, dropping these customers from profile dataframe as these customers do not have any gender and income and also the number of customers with age 118 which is 2175 is unrealistic**."
   ]
  },
  {
   "cell_type": "code",
   "execution_count": 29,
   "metadata": {},
   "outputs": [
    {
     "data": {
      "text/html": [
       "<div>\n",
       "<style scoped>\n",
       "    .dataframe tbody tr th:only-of-type {\n",
       "        vertical-align: middle;\n",
       "    }\n",
       "\n",
       "    .dataframe tbody tr th {\n",
       "        vertical-align: top;\n",
       "    }\n",
       "\n",
       "    .dataframe thead th {\n",
       "        text-align: right;\n",
       "    }\n",
       "</style>\n",
       "<table border=\"1\" class=\"dataframe\">\n",
       "  <thead>\n",
       "    <tr style=\"text-align: right;\">\n",
       "      <th></th>\n",
       "      <th>age</th>\n",
       "      <th>became_member_on</th>\n",
       "      <th>gender</th>\n",
       "      <th>customer_id</th>\n",
       "      <th>income</th>\n",
       "    </tr>\n",
       "  </thead>\n",
       "  <tbody>\n",
       "    <tr>\n",
       "      <th>1</th>\n",
       "      <td>55</td>\n",
       "      <td>20170715</td>\n",
       "      <td>F</td>\n",
       "      <td>0610b486422d4921ae7d2bf64640c50b</td>\n",
       "      <td>112000.0</td>\n",
       "    </tr>\n",
       "    <tr>\n",
       "      <th>3</th>\n",
       "      <td>75</td>\n",
       "      <td>20170509</td>\n",
       "      <td>F</td>\n",
       "      <td>78afa995795e4d85b5d9ceeca43f5fef</td>\n",
       "      <td>100000.0</td>\n",
       "    </tr>\n",
       "    <tr>\n",
       "      <th>5</th>\n",
       "      <td>68</td>\n",
       "      <td>20180426</td>\n",
       "      <td>M</td>\n",
       "      <td>e2127556f4f64592b11af22de27a7932</td>\n",
       "      <td>70000.0</td>\n",
       "    </tr>\n",
       "    <tr>\n",
       "      <th>8</th>\n",
       "      <td>65</td>\n",
       "      <td>20180209</td>\n",
       "      <td>M</td>\n",
       "      <td>389bc3fa690240e798340f5a15918d5c</td>\n",
       "      <td>53000.0</td>\n",
       "    </tr>\n",
       "    <tr>\n",
       "      <th>12</th>\n",
       "      <td>58</td>\n",
       "      <td>20171111</td>\n",
       "      <td>M</td>\n",
       "      <td>2eeac8d8feae4a8cad5a6af0499a211d</td>\n",
       "      <td>51000.0</td>\n",
       "    </tr>\n",
       "  </tbody>\n",
       "</table>\n",
       "</div>"
      ],
      "text/plain": [
       "    age  became_member_on gender                       customer_id    income\n",
       "1    55          20170715      F  0610b486422d4921ae7d2bf64640c50b  112000.0\n",
       "3    75          20170509      F  78afa995795e4d85b5d9ceeca43f5fef  100000.0\n",
       "5    68          20180426      M  e2127556f4f64592b11af22de27a7932   70000.0\n",
       "8    65          20180209      M  389bc3fa690240e798340f5a15918d5c   53000.0\n",
       "12   58          20171111      M  2eeac8d8feae4a8cad5a6af0499a211d   51000.0"
      ]
     },
     "execution_count": 29,
     "metadata": {},
     "output_type": "execute_result"
    }
   ],
   "source": [
    "# Remove customers with age 118\n",
    "profile.drop(index=profile_age_118.index, inplace=True)\n",
    "profile.head()"
   ]
  },
  {
   "cell_type": "code",
   "execution_count": 30,
   "metadata": {},
   "outputs": [
    {
     "data": {
      "text/plain": [
       "(14825, 5)"
      ]
     },
     "execution_count": 30,
     "metadata": {},
     "output_type": "execute_result"
    }
   ],
   "source": [
    "# Shape of profile dataframe after dropping customers with age 118\n",
    "profile.shape"
   ]
  },
  {
   "cell_type": "code",
   "execution_count": 31,
   "metadata": {},
   "outputs": [
    {
     "name": "stdout",
     "output_type": "stream",
     "text": [
      "<class 'pandas.core.frame.DataFrame'>\n",
      "Int64Index: 14825 entries, 1 to 16999\n",
      "Data columns (total 5 columns):\n",
      "age                 14825 non-null int64\n",
      "became_member_on    14825 non-null int64\n",
      "gender              14825 non-null object\n",
      "customer_id         14825 non-null object\n",
      "income              14825 non-null float64\n",
      "dtypes: float64(1), int64(2), object(2)\n",
      "memory usage: 694.9+ KB\n"
     ]
    }
   ],
   "source": [
    "# Print profile dataframe info after removing customers with age 118\n",
    "profile.info()"
   ]
  },
  {
   "cell_type": "markdown",
   "metadata": {},
   "source": [
    "**From above, we can observe that after removing customer with age 118, there are no null values in any features of profile dataframe**."
   ]
  },
  {
   "cell_type": "markdown",
   "metadata": {},
   "source": [
    "#### Analyze feature 'age'"
   ]
  },
  {
   "cell_type": "code",
   "execution_count": 32,
   "metadata": {
    "scrolled": true
   },
   "outputs": [
    {
     "data": {
      "image/png": "[encoded data removed]",
      "text/plain": [
       "<matplotlib.figure.Figure at 0x7fa7f95e91d0>"
      ]
     },
     "metadata": {
      "needs_background": "light"
     },
     "output_type": "display_data"
    }
   ],
   "source": [
    "# Plot distribution of ages in profile dataframe after observations with age 118 has been dropped \n",
    "profile['age'].value_counts().sort_index(ascending=True).plot.bar(figsize=(20,6), fontsize=12,color='teal');\n",
    "plt.xlabel('Age', fontsize=18)\n",
    "plt.ylabel('Count', fontsize=18)\n",
    "plt.title('Distribution of age counts(without age 118)', fontsize=18)\n",
    "plt.show()"
   ]
  },
  {
   "cell_type": "markdown",
   "metadata": {},
   "source": [
    "**From above plot, we can observe that the feature age after dropping age 118 is uniformly distributed**. "
   ]
  },
  {
   "cell_type": "code",
   "execution_count": 33,
   "metadata": {},
   "outputs": [],
   "source": [
    "# Convert fetaure 'age' into 'age_bins' & 'age_by_decade' which would be helpful in determining\n",
    "# if a particular age is influenced more by an offer\n",
    "profile['age_bins'] = pd.cut(profile['age'], bins=range(10,120,10), right=False)\n",
    "profile['age_by_decade'] = pd.cut(profile['age'], bins=range(10,120,10),\\\n",
    "                                  right=False, labels=['10s','20s', '30s', '40s', '50s','60s', '70s', '80s', '90s', '100s'])"
   ]
  },
  {
   "cell_type": "code",
   "execution_count": 34,
   "metadata": {},
   "outputs": [
    {
     "data": {
      "text/html": [
       "<div>\n",
       "<style scoped>\n",
       "    .dataframe tbody tr th:only-of-type {\n",
       "        vertical-align: middle;\n",
       "    }\n",
       "\n",
       "    .dataframe tbody tr th {\n",
       "        vertical-align: top;\n",
       "    }\n",
       "\n",
       "    .dataframe thead th {\n",
       "        text-align: right;\n",
       "    }\n",
       "</style>\n",
       "<table border=\"1\" class=\"dataframe\">\n",
       "  <thead>\n",
       "    <tr style=\"text-align: right;\">\n",
       "      <th></th>\n",
       "      <th>age</th>\n",
       "      <th>became_member_on</th>\n",
       "      <th>gender</th>\n",
       "      <th>customer_id</th>\n",
       "      <th>income</th>\n",
       "      <th>age_bins</th>\n",
       "      <th>age_by_decade</th>\n",
       "    </tr>\n",
       "  </thead>\n",
       "  <tbody>\n",
       "    <tr>\n",
       "      <th>1</th>\n",
       "      <td>55</td>\n",
       "      <td>20170715</td>\n",
       "      <td>F</td>\n",
       "      <td>0610b486422d4921ae7d2bf64640c50b</td>\n",
       "      <td>112000.0</td>\n",
       "      <td>[50, 60)</td>\n",
       "      <td>50s</td>\n",
       "    </tr>\n",
       "    <tr>\n",
       "      <th>3</th>\n",
       "      <td>75</td>\n",
       "      <td>20170509</td>\n",
       "      <td>F</td>\n",
       "      <td>78afa995795e4d85b5d9ceeca43f5fef</td>\n",
       "      <td>100000.0</td>\n",
       "      <td>[70, 80)</td>\n",
       "      <td>70s</td>\n",
       "    </tr>\n",
       "    <tr>\n",
       "      <th>5</th>\n",
       "      <td>68</td>\n",
       "      <td>20180426</td>\n",
       "      <td>M</td>\n",
       "      <td>e2127556f4f64592b11af22de27a7932</td>\n",
       "      <td>70000.0</td>\n",
       "      <td>[60, 70)</td>\n",
       "      <td>60s</td>\n",
       "    </tr>\n",
       "    <tr>\n",
       "      <th>8</th>\n",
       "      <td>65</td>\n",
       "      <td>20180209</td>\n",
       "      <td>M</td>\n",
       "      <td>389bc3fa690240e798340f5a15918d5c</td>\n",
       "      <td>53000.0</td>\n",
       "      <td>[60, 70)</td>\n",
       "      <td>60s</td>\n",
       "    </tr>\n",
       "    <tr>\n",
       "      <th>12</th>\n",
       "      <td>58</td>\n",
       "      <td>20171111</td>\n",
       "      <td>M</td>\n",
       "      <td>2eeac8d8feae4a8cad5a6af0499a211d</td>\n",
       "      <td>51000.0</td>\n",
       "      <td>[50, 60)</td>\n",
       "      <td>50s</td>\n",
       "    </tr>\n",
       "  </tbody>\n",
       "</table>\n",
       "</div>"
      ],
      "text/plain": [
       "    age  became_member_on gender                       customer_id    income  \\\n",
       "1    55          20170715      F  0610b486422d4921ae7d2bf64640c50b  112000.0   \n",
       "3    75          20170509      F  78afa995795e4d85b5d9ceeca43f5fef  100000.0   \n",
       "5    68          20180426      M  e2127556f4f64592b11af22de27a7932   70000.0   \n",
       "8    65          20180209      M  389bc3fa690240e798340f5a15918d5c   53000.0   \n",
       "12   58          20171111      M  2eeac8d8feae4a8cad5a6af0499a211d   51000.0   \n",
       "\n",
       "    age_bins age_by_decade  \n",
       "1   [50, 60)           50s  \n",
       "3   [70, 80)           70s  \n",
       "5   [60, 70)           60s  \n",
       "8   [60, 70)           60s  \n",
       "12  [50, 60)           50s  "
      ]
     },
     "execution_count": 34,
     "metadata": {},
     "output_type": "execute_result"
    }
   ],
   "source": [
    "profile.head()"
   ]
  },
  {
   "cell_type": "code",
   "execution_count": 35,
   "metadata": {},
   "outputs": [
    {
     "data": {
      "text/plain": [
       "[[50, 60), [70, 80), [60, 70), [20, 30), [40, 50), [30, 40), [90, 100), [80, 90), [10, 20), [100, 110)]\n",
       "Categories (10, interval[int64]): [[10, 20) < [20, 30) < [30, 40) < [40, 50) ... [70, 80) < [80, 90) < [90, 100) < [100, 110)]"
      ]
     },
     "execution_count": 35,
     "metadata": {},
     "output_type": "execute_result"
    }
   ],
   "source": [
    "# Print unique 'age_bins'\n",
    "profile['age_bins'].unique()"
   ]
  },
  {
   "cell_type": "code",
   "execution_count": 36,
   "metadata": {},
   "outputs": [
    {
     "data": {
      "text/plain": [
       "[10, 20)       205\n",
       "[20, 30)      1369\n",
       "[30, 40)      1526\n",
       "[40, 50)      2309\n",
       "[50, 60)      3541\n",
       "[60, 70)      2991\n",
       "[70, 80)      1782\n",
       "[80, 90)       831\n",
       "[90, 100)      254\n",
       "[100, 110)      17\n",
       "Name: age_bins, dtype: int64"
      ]
     },
     "execution_count": 36,
     "metadata": {},
     "output_type": "execute_result"
    }
   ],
   "source": [
    "# Print value count of each unique 'age_bins'\n",
    "profile['age_bins'].value_counts().sort_index()"
   ]
  },
  {
   "cell_type": "code",
   "execution_count": 37,
   "metadata": {},
   "outputs": [
    {
     "data": {
      "text/plain": [
       "[50s, 70s, 60s, 20s, 40s, 30s, 90s, 80s, 10s, 100s]\n",
       "Categories (10, object): [10s < 20s < 30s < 40s ... 70s < 80s < 90s < 100s]"
      ]
     },
     "execution_count": 37,
     "metadata": {},
     "output_type": "execute_result"
    }
   ],
   "source": [
    "# Print unique 'age_by_decade'\n",
    "profile['age_by_decade'].unique()"
   ]
  },
  {
   "cell_type": "code",
   "execution_count": 38,
   "metadata": {},
   "outputs": [
    {
     "data": {
      "text/plain": [
       "10s      205\n",
       "20s     1369\n",
       "30s     1526\n",
       "40s     2309\n",
       "50s     3541\n",
       "60s     2991\n",
       "70s     1782\n",
       "80s      831\n",
       "90s      254\n",
       "100s      17\n",
       "Name: age_by_decade, dtype: int64"
      ]
     },
     "execution_count": 38,
     "metadata": {},
     "output_type": "execute_result"
    }
   ],
   "source": [
    "# Print value count of each unique 'age_by_decade'\n",
    "profile['age_by_decade'].value_counts().sort_index()"
   ]
  },
  {
   "cell_type": "markdown",
   "metadata": {},
   "source": [
    "**From above, we can observe that each unique 'age_bins' has a corresponding 'age_by_decade' value. Therefore, for 'age_bins' `[10, 20), [20, 30), [30, 40), [40, 50), [50, 60), [60, 70), [70, 80), [80, 90), [90, 100), [100, 110)` there is corresponding 'age_by_decade' value which is `[10s, 20s, 30s, 40s, 50s, 60s, 70s, 80s, 90s, 100s]`. Therefore, we can drop feature 'age_bins' and also original feature 'age'**."
   ]
  },
  {
   "cell_type": "code",
   "execution_count": 39,
   "metadata": {},
   "outputs": [
    {
     "data": {
      "text/html": [
       "<div>\n",
       "<style scoped>\n",
       "    .dataframe tbody tr th:only-of-type {\n",
       "        vertical-align: middle;\n",
       "    }\n",
       "\n",
       "    .dataframe tbody tr th {\n",
       "        vertical-align: top;\n",
       "    }\n",
       "\n",
       "    .dataframe thead th {\n",
       "        text-align: right;\n",
       "    }\n",
       "</style>\n",
       "<table border=\"1\" class=\"dataframe\">\n",
       "  <thead>\n",
       "    <tr style=\"text-align: right;\">\n",
       "      <th></th>\n",
       "      <th>became_member_on</th>\n",
       "      <th>gender</th>\n",
       "      <th>customer_id</th>\n",
       "      <th>income</th>\n",
       "      <th>age_by_decade</th>\n",
       "    </tr>\n",
       "  </thead>\n",
       "  <tbody>\n",
       "    <tr>\n",
       "      <th>1</th>\n",
       "      <td>20170715</td>\n",
       "      <td>F</td>\n",
       "      <td>0610b486422d4921ae7d2bf64640c50b</td>\n",
       "      <td>112000.0</td>\n",
       "      <td>50s</td>\n",
       "    </tr>\n",
       "    <tr>\n",
       "      <th>3</th>\n",
       "      <td>20170509</td>\n",
       "      <td>F</td>\n",
       "      <td>78afa995795e4d85b5d9ceeca43f5fef</td>\n",
       "      <td>100000.0</td>\n",
       "      <td>70s</td>\n",
       "    </tr>\n",
       "    <tr>\n",
       "      <th>5</th>\n",
       "      <td>20180426</td>\n",
       "      <td>M</td>\n",
       "      <td>e2127556f4f64592b11af22de27a7932</td>\n",
       "      <td>70000.0</td>\n",
       "      <td>60s</td>\n",
       "    </tr>\n",
       "    <tr>\n",
       "      <th>8</th>\n",
       "      <td>20180209</td>\n",
       "      <td>M</td>\n",
       "      <td>389bc3fa690240e798340f5a15918d5c</td>\n",
       "      <td>53000.0</td>\n",
       "      <td>60s</td>\n",
       "    </tr>\n",
       "    <tr>\n",
       "      <th>12</th>\n",
       "      <td>20171111</td>\n",
       "      <td>M</td>\n",
       "      <td>2eeac8d8feae4a8cad5a6af0499a211d</td>\n",
       "      <td>51000.0</td>\n",
       "      <td>50s</td>\n",
       "    </tr>\n",
       "  </tbody>\n",
       "</table>\n",
       "</div>"
      ],
      "text/plain": [
       "    became_member_on gender                       customer_id    income  \\\n",
       "1           20170715      F  0610b486422d4921ae7d2bf64640c50b  112000.0   \n",
       "3           20170509      F  78afa995795e4d85b5d9ceeca43f5fef  100000.0   \n",
       "5           20180426      M  e2127556f4f64592b11af22de27a7932   70000.0   \n",
       "8           20180209      M  389bc3fa690240e798340f5a15918d5c   53000.0   \n",
       "12          20171111      M  2eeac8d8feae4a8cad5a6af0499a211d   51000.0   \n",
       "\n",
       "   age_by_decade  \n",
       "1            50s  \n",
       "3            70s  \n",
       "5            60s  \n",
       "8            60s  \n",
       "12           50s  "
      ]
     },
     "execution_count": 39,
     "metadata": {},
     "output_type": "execute_result"
    }
   ],
   "source": [
    "# Drop feature 'age' & age_bins'\n",
    "profile.drop(columns=['age', 'age_bins'], inplace=True)\n",
    "profile.head()"
   ]
  },
  {
   "cell_type": "code",
   "execution_count": 40,
   "metadata": {},
   "outputs": [
    {
     "data": {
      "text/html": [
       "<div>\n",
       "<style scoped>\n",
       "    .dataframe tbody tr th:only-of-type {\n",
       "        vertical-align: middle;\n",
       "    }\n",
       "\n",
       "    .dataframe tbody tr th {\n",
       "        vertical-align: top;\n",
       "    }\n",
       "\n",
       "    .dataframe thead th {\n",
       "        text-align: right;\n",
       "    }\n",
       "</style>\n",
       "<table border=\"1\" class=\"dataframe\">\n",
       "  <thead>\n",
       "    <tr style=\"text-align: right;\">\n",
       "      <th></th>\n",
       "      <th>became_member_on</th>\n",
       "      <th>gender</th>\n",
       "      <th>customer_id</th>\n",
       "      <th>income</th>\n",
       "      <th>age_10s</th>\n",
       "      <th>age_20s</th>\n",
       "      <th>age_30s</th>\n",
       "      <th>age_40s</th>\n",
       "      <th>age_50s</th>\n",
       "      <th>age_60s</th>\n",
       "      <th>age_70s</th>\n",
       "      <th>age_80s</th>\n",
       "      <th>age_90s</th>\n",
       "      <th>age_100s</th>\n",
       "    </tr>\n",
       "  </thead>\n",
       "  <tbody>\n",
       "    <tr>\n",
       "      <th>1</th>\n",
       "      <td>20170715</td>\n",
       "      <td>F</td>\n",
       "      <td>0610b486422d4921ae7d2bf64640c50b</td>\n",
       "      <td>112000.0</td>\n",
       "      <td>0</td>\n",
       "      <td>0</td>\n",
       "      <td>0</td>\n",
       "      <td>0</td>\n",
       "      <td>1</td>\n",
       "      <td>0</td>\n",
       "      <td>0</td>\n",
       "      <td>0</td>\n",
       "      <td>0</td>\n",
       "      <td>0</td>\n",
       "    </tr>\n",
       "    <tr>\n",
       "      <th>3</th>\n",
       "      <td>20170509</td>\n",
       "      <td>F</td>\n",
       "      <td>78afa995795e4d85b5d9ceeca43f5fef</td>\n",
       "      <td>100000.0</td>\n",
       "      <td>0</td>\n",
       "      <td>0</td>\n",
       "      <td>0</td>\n",
       "      <td>0</td>\n",
       "      <td>0</td>\n",
       "      <td>0</td>\n",
       "      <td>1</td>\n",
       "      <td>0</td>\n",
       "      <td>0</td>\n",
       "      <td>0</td>\n",
       "    </tr>\n",
       "    <tr>\n",
       "      <th>5</th>\n",
       "      <td>20180426</td>\n",
       "      <td>M</td>\n",
       "      <td>e2127556f4f64592b11af22de27a7932</td>\n",
       "      <td>70000.0</td>\n",
       "      <td>0</td>\n",
       "      <td>0</td>\n",
       "      <td>0</td>\n",
       "      <td>0</td>\n",
       "      <td>0</td>\n",
       "      <td>1</td>\n",
       "      <td>0</td>\n",
       "      <td>0</td>\n",
       "      <td>0</td>\n",
       "      <td>0</td>\n",
       "    </tr>\n",
       "    <tr>\n",
       "      <th>8</th>\n",
       "      <td>20180209</td>\n",
       "      <td>M</td>\n",
       "      <td>389bc3fa690240e798340f5a15918d5c</td>\n",
       "      <td>53000.0</td>\n",
       "      <td>0</td>\n",
       "      <td>0</td>\n",
       "      <td>0</td>\n",
       "      <td>0</td>\n",
       "      <td>0</td>\n",
       "      <td>1</td>\n",
       "      <td>0</td>\n",
       "      <td>0</td>\n",
       "      <td>0</td>\n",
       "      <td>0</td>\n",
       "    </tr>\n",
       "    <tr>\n",
       "      <th>12</th>\n",
       "      <td>20171111</td>\n",
       "      <td>M</td>\n",
       "      <td>2eeac8d8feae4a8cad5a6af0499a211d</td>\n",
       "      <td>51000.0</td>\n",
       "      <td>0</td>\n",
       "      <td>0</td>\n",
       "      <td>0</td>\n",
       "      <td>0</td>\n",
       "      <td>1</td>\n",
       "      <td>0</td>\n",
       "      <td>0</td>\n",
       "      <td>0</td>\n",
       "      <td>0</td>\n",
       "      <td>0</td>\n",
       "    </tr>\n",
       "  </tbody>\n",
       "</table>\n",
       "</div>"
      ],
      "text/plain": [
       "    became_member_on gender                       customer_id    income  \\\n",
       "1           20170715      F  0610b486422d4921ae7d2bf64640c50b  112000.0   \n",
       "3           20170509      F  78afa995795e4d85b5d9ceeca43f5fef  100000.0   \n",
       "5           20180426      M  e2127556f4f64592b11af22de27a7932   70000.0   \n",
       "8           20180209      M  389bc3fa690240e798340f5a15918d5c   53000.0   \n",
       "12          20171111      M  2eeac8d8feae4a8cad5a6af0499a211d   51000.0   \n",
       "\n",
       "    age_10s  age_20s  age_30s  age_40s  age_50s  age_60s  age_70s  age_80s  \\\n",
       "1         0        0        0        0        1        0        0        0   \n",
       "3         0        0        0        0        0        0        1        0   \n",
       "5         0        0        0        0        0        1        0        0   \n",
       "8         0        0        0        0        0        1        0        0   \n",
       "12        0        0        0        0        1        0        0        0   \n",
       "\n",
       "    age_90s  age_100s  \n",
       "1         0         0  \n",
       "3         0         0  \n",
       "5         0         0  \n",
       "8         0         0  \n",
       "12        0         0  "
      ]
     },
     "execution_count": 40,
     "metadata": {},
     "output_type": "execute_result"
    }
   ],
   "source": [
    "# OneHotEncoding feature 'age_by_decade'\n",
    "profile = pd.get_dummies(profile, columns=['age_by_decade'], prefix='age', prefix_sep='_')\n",
    "profile.head()"
   ]
  },
  {
   "cell_type": "markdown",
   "metadata": {},
   "source": [
    "#### Analyze feature 'became_member_on'"
   ]
  },
  {
   "cell_type": "code",
   "execution_count": 41,
   "metadata": {},
   "outputs": [
    {
     "data": {
      "text/plain": [
       "pandas.core.series.Series"
      ]
     },
     "execution_count": 41,
     "metadata": {},
     "output_type": "execute_result"
    }
   ],
   "source": [
    "# Print type of feature 'became_member_on'\n",
    "type(profile['became_member_on'])"
   ]
  },
  {
   "cell_type": "code",
   "execution_count": 42,
   "metadata": {},
   "outputs": [
    {
     "data": {
      "text/plain": [
       "pandas.core.indexes.accessors.DatetimeProperties"
      ]
     },
     "execution_count": 42,
     "metadata": {},
     "output_type": "execute_result"
    }
   ],
   "source": [
    "# Convert type of feature 'became_member_on' to type Datetime\n",
    "type(pd.to_datetime(profile['became_member_on'],format='%Y%m%d').dt)"
   ]
  },
  {
   "cell_type": "code",
   "execution_count": 43,
   "metadata": {},
   "outputs": [
    {
     "data": {
      "text/plain": [
       "2013     274\n",
       "2014     662\n",
       "2015    1597\n",
       "2016    3024\n",
       "2017    5599\n",
       "2018    3669\n",
       "Name: became_member_on, dtype: int64"
      ]
     },
     "execution_count": 43,
     "metadata": {},
     "output_type": "execute_result"
    }
   ],
   "source": [
    "# Calculate year in which the customer became member\n",
    "pd.to_datetime(profile['became_member_on'],format='%Y%m%d').dt.year.value_counts().sort_index(ascending=True)"
   ]
  },
  {
   "cell_type": "code",
   "execution_count": 44,
   "metadata": {},
   "outputs": [
    {
     "data": {
      "image/png": "[encoded data removed]",
      "text/plain": [
       "<matplotlib.figure.Figure at 0x7fa7f989d780>"
      ]
     },
     "metadata": {
      "needs_background": "light"
     },
     "output_type": "display_data"
    }
   ],
   "source": [
    "# Plot distribution of customer count per year in which the customer became member \n",
    "pd.to_datetime(profile['became_member_on'],\\\n",
    "               format='%Y%m%d').dt.year.value_counts().sort_index(ascending=True).plot.bar(figsize=(8,6),\\\n",
    "                                                                                           fontsize=12,color='teal');\n",
    "plt.xlabel('Age', fontsize=18)\n",
    "plt.ylabel('Count', fontsize=18)\n",
    "plt.title('Distribution of customers per year', fontsize=18)\n",
    "plt.show()"
   ]
  },
  {
   "cell_type": "markdown",
   "metadata": {},
   "source": [
    "**From above, we can observe that the number of customers which became member increased every year except 2018. We are not sure, for how many months in 2018, the data was simulated. Therefore, we can conculde that the customer membership increased every year**. "
   ]
  },
  {
   "cell_type": "code",
   "execution_count": 45,
   "metadata": {},
   "outputs": [
    {
     "data": {
      "text/plain": [
       "8     1395\n",
       "10    1386\n",
       "12    1372\n",
       "1     1327\n",
       "9     1299\n",
       "11    1268\n",
       "7     1189\n",
       "5     1152\n",
       "3     1145\n",
       "4     1145\n",
       "6     1105\n",
       "2     1042\n",
       "Name: became_member_on, dtype: int64"
      ]
     },
     "execution_count": 45,
     "metadata": {},
     "output_type": "execute_result"
    }
   ],
   "source": [
    "# Calculate month in which the customer became member\n",
    "pd.to_datetime(profile['became_member_on'],format='%Y%m%d').dt.month.value_counts().sort_values(ascending=False)"
   ]
  },
  {
   "cell_type": "code",
   "execution_count": 46,
   "metadata": {},
   "outputs": [
    {
     "data": {
      "image/png": "[encoded data removed]",
      "text/plain": [
       "<matplotlib.figure.Figure at 0x7fa7f98ad0f0>"
      ]
     },
     "metadata": {
      "needs_background": "light"
     },
     "output_type": "display_data"
    }
   ],
   "source": [
    "# Plot distribution of customer count per month in which the customer became member \n",
    "pd.to_datetime(profile['became_member_on'],\\\n",
    "               format='%Y%m%d').dt.month.value_counts().sort_values(ascending=True).plot.bar(figsize=(10,6),\\\n",
    "                                                                                           fontsize=12,color='teal');\n",
    "plt.xlabel('Age', fontsize=18)\n",
    "plt.ylabel('Count', fontsize=18)\n",
    "plt.title('Distribution of customers per month', fontsize=18)\n",
    "plt.show()"
   ]
  },
  {
   "cell_type": "markdown",
   "metadata": {},
   "source": [
    "**From above, we can observe that customer membership increased during later cold season especially in (August, September, October, November, December, January) which makes sense too as customers have more coffee during cold weather**."
   ]
  },
  {
   "cell_type": "code",
   "execution_count": 47,
   "metadata": {},
   "outputs": [
    {
     "data": {
      "text/html": [
       "<div>\n",
       "<style scoped>\n",
       "    .dataframe tbody tr th:only-of-type {\n",
       "        vertical-align: middle;\n",
       "    }\n",
       "\n",
       "    .dataframe tbody tr th {\n",
       "        vertical-align: top;\n",
       "    }\n",
       "\n",
       "    .dataframe thead th {\n",
       "        text-align: right;\n",
       "    }\n",
       "</style>\n",
       "<table border=\"1\" class=\"dataframe\">\n",
       "  <thead>\n",
       "    <tr style=\"text-align: right;\">\n",
       "      <th></th>\n",
       "      <th>gender</th>\n",
       "      <th>customer_id</th>\n",
       "      <th>income</th>\n",
       "      <th>age_10s</th>\n",
       "      <th>age_20s</th>\n",
       "      <th>age_30s</th>\n",
       "      <th>age_40s</th>\n",
       "      <th>age_50s</th>\n",
       "      <th>age_60s</th>\n",
       "      <th>age_70s</th>\n",
       "      <th>age_80s</th>\n",
       "      <th>age_90s</th>\n",
       "      <th>age_100s</th>\n",
       "      <th>membership_tenure</th>\n",
       "      <th>membership_year</th>\n",
       "      <th>membership_month</th>\n",
       "    </tr>\n",
       "  </thead>\n",
       "  <tbody>\n",
       "    <tr>\n",
       "      <th>1</th>\n",
       "      <td>F</td>\n",
       "      <td>0610b486422d4921ae7d2bf64640c50b</td>\n",
       "      <td>112000.0</td>\n",
       "      <td>0</td>\n",
       "      <td>0</td>\n",
       "      <td>0</td>\n",
       "      <td>0</td>\n",
       "      <td>1</td>\n",
       "      <td>0</td>\n",
       "      <td>0</td>\n",
       "      <td>0</td>\n",
       "      <td>0</td>\n",
       "      <td>0</td>\n",
       "      <td>898</td>\n",
       "      <td>2017</td>\n",
       "      <td>7</td>\n",
       "    </tr>\n",
       "    <tr>\n",
       "      <th>3</th>\n",
       "      <td>F</td>\n",
       "      <td>78afa995795e4d85b5d9ceeca43f5fef</td>\n",
       "      <td>100000.0</td>\n",
       "      <td>0</td>\n",
       "      <td>0</td>\n",
       "      <td>0</td>\n",
       "      <td>0</td>\n",
       "      <td>0</td>\n",
       "      <td>0</td>\n",
       "      <td>1</td>\n",
       "      <td>0</td>\n",
       "      <td>0</td>\n",
       "      <td>0</td>\n",
       "      <td>965</td>\n",
       "      <td>2017</td>\n",
       "      <td>5</td>\n",
       "    </tr>\n",
       "    <tr>\n",
       "      <th>5</th>\n",
       "      <td>M</td>\n",
       "      <td>e2127556f4f64592b11af22de27a7932</td>\n",
       "      <td>70000.0</td>\n",
       "      <td>0</td>\n",
       "      <td>0</td>\n",
       "      <td>0</td>\n",
       "      <td>0</td>\n",
       "      <td>0</td>\n",
       "      <td>1</td>\n",
       "      <td>0</td>\n",
       "      <td>0</td>\n",
       "      <td>0</td>\n",
       "      <td>0</td>\n",
       "      <td>613</td>\n",
       "      <td>2018</td>\n",
       "      <td>4</td>\n",
       "    </tr>\n",
       "    <tr>\n",
       "      <th>8</th>\n",
       "      <td>M</td>\n",
       "      <td>389bc3fa690240e798340f5a15918d5c</td>\n",
       "      <td>53000.0</td>\n",
       "      <td>0</td>\n",
       "      <td>0</td>\n",
       "      <td>0</td>\n",
       "      <td>0</td>\n",
       "      <td>0</td>\n",
       "      <td>1</td>\n",
       "      <td>0</td>\n",
       "      <td>0</td>\n",
       "      <td>0</td>\n",
       "      <td>0</td>\n",
       "      <td>689</td>\n",
       "      <td>2018</td>\n",
       "      <td>2</td>\n",
       "    </tr>\n",
       "    <tr>\n",
       "      <th>12</th>\n",
       "      <td>M</td>\n",
       "      <td>2eeac8d8feae4a8cad5a6af0499a211d</td>\n",
       "      <td>51000.0</td>\n",
       "      <td>0</td>\n",
       "      <td>0</td>\n",
       "      <td>0</td>\n",
       "      <td>0</td>\n",
       "      <td>1</td>\n",
       "      <td>0</td>\n",
       "      <td>0</td>\n",
       "      <td>0</td>\n",
       "      <td>0</td>\n",
       "      <td>0</td>\n",
       "      <td>779</td>\n",
       "      <td>2017</td>\n",
       "      <td>11</td>\n",
       "    </tr>\n",
       "  </tbody>\n",
       "</table>\n",
       "</div>"
      ],
      "text/plain": [
       "   gender                       customer_id    income  age_10s  age_20s  \\\n",
       "1       F  0610b486422d4921ae7d2bf64640c50b  112000.0        0        0   \n",
       "3       F  78afa995795e4d85b5d9ceeca43f5fef  100000.0        0        0   \n",
       "5       M  e2127556f4f64592b11af22de27a7932   70000.0        0        0   \n",
       "8       M  389bc3fa690240e798340f5a15918d5c   53000.0        0        0   \n",
       "12      M  2eeac8d8feae4a8cad5a6af0499a211d   51000.0        0        0   \n",
       "\n",
       "    age_30s  age_40s  age_50s  age_60s  age_70s  age_80s  age_90s  age_100s  \\\n",
       "1         0        0        1        0        0        0        0         0   \n",
       "3         0        0        0        0        1        0        0         0   \n",
       "5         0        0        0        1        0        0        0         0   \n",
       "8         0        0        0        1        0        0        0         0   \n",
       "12        0        0        1        0        0        0        0         0   \n",
       "\n",
       "    membership_tenure  membership_year  membership_month  \n",
       "1                 898             2017                 7  \n",
       "3                 965             2017                 5  \n",
       "5                 613             2018                 4  \n",
       "8                 689             2018                 2  \n",
       "12                779             2017                11  "
      ]
     },
     "execution_count": 47,
     "metadata": {},
     "output_type": "execute_result"
    }
   ],
   "source": [
    "# Create feature 'membership_tenure' of customers from feature 'became_member_on'\n",
    "profile['membership_tenure'] = (datetime.today().date() - pd.to_datetime(profile['became_member_on'],\\\n",
    "                                                                     format='%Y%m%d').dt.date).dt.days\n",
    "\n",
    "# Create feature 'membership_year' in which customer became member from feature 'became_member_on'\n",
    "profile['membership_year'] = pd.to_datetime(profile['became_member_on'],format='%Y%m%d').dt.year\n",
    "\n",
    "# Create feature 'membership_month' in which customer became member from feature 'became_member_on'\n",
    "profile['membership_month'] = pd.to_datetime(profile['became_member_on'],format='%Y%m%d').dt.month\n",
    "\n",
    "# Drop feature 'became_member_on'\n",
    "profile.drop(columns=['became_member_on'], axis=1, inplace=True)\n",
    "profile.head()"
   ]
  },
  {
   "cell_type": "markdown",
   "metadata": {},
   "source": [
    "#### Analyze feature 'gender'"
   ]
  },
  {
   "cell_type": "code",
   "execution_count": 48,
   "metadata": {},
   "outputs": [
    {
     "data": {
      "image/png": "[encoded data removed]",
      "text/plain": [
       "<matplotlib.figure.Figure at 0x7fa7f9558e80>"
      ]
     },
     "metadata": {
      "needs_background": "light"
     },
     "output_type": "display_data"
    }
   ],
   "source": [
    "# Plot distribution of gender in profile dataframe\n",
    "profile['gender'].value_counts().sort_index(ascending=True).plot.bar(figsize=(10,6), fontsize=12,color='teal');\n",
    "plt.xlabel('Gender', fontsize=18)\n",
    "plt.ylabel('Count', fontsize=18)\n",
    "plt.xticks(rotation='horizontal')\n",
    "plt.title('Distribution of gender counts', fontsize=18)\n",
    "plt.show()"
   ]
  },
  {
   "cell_type": "markdown",
   "metadata": {},
   "source": [
    "**From above, we can observe that there are more males members than female members**."
   ]
  },
  {
   "cell_type": "code",
   "execution_count": 49,
   "metadata": {},
   "outputs": [
    {
     "data": {
      "text/html": [
       "<div>\n",
       "<style scoped>\n",
       "    .dataframe tbody tr th:only-of-type {\n",
       "        vertical-align: middle;\n",
       "    }\n",
       "\n",
       "    .dataframe tbody tr th {\n",
       "        vertical-align: top;\n",
       "    }\n",
       "\n",
       "    .dataframe thead th {\n",
       "        text-align: right;\n",
       "    }\n",
       "</style>\n",
       "<table border=\"1\" class=\"dataframe\">\n",
       "  <thead>\n",
       "    <tr style=\"text-align: right;\">\n",
       "      <th></th>\n",
       "      <th>membership_year</th>\n",
       "      <th>gender</th>\n",
       "      <th>gender_count</th>\n",
       "    </tr>\n",
       "  </thead>\n",
       "  <tbody>\n",
       "    <tr>\n",
       "      <th>0</th>\n",
       "      <td>2013</td>\n",
       "      <td>M</td>\n",
       "      <td>197</td>\n",
       "    </tr>\n",
       "    <tr>\n",
       "      <th>1</th>\n",
       "      <td>2013</td>\n",
       "      <td>F</td>\n",
       "      <td>74</td>\n",
       "    </tr>\n",
       "    <tr>\n",
       "      <th>2</th>\n",
       "      <td>2013</td>\n",
       "      <td>O</td>\n",
       "      <td>3</td>\n",
       "    </tr>\n",
       "    <tr>\n",
       "      <th>3</th>\n",
       "      <td>2014</td>\n",
       "      <td>M</td>\n",
       "      <td>520</td>\n",
       "    </tr>\n",
       "    <tr>\n",
       "      <th>4</th>\n",
       "      <td>2014</td>\n",
       "      <td>F</td>\n",
       "      <td>138</td>\n",
       "    </tr>\n",
       "    <tr>\n",
       "      <th>5</th>\n",
       "      <td>2014</td>\n",
       "      <td>O</td>\n",
       "      <td>4</td>\n",
       "    </tr>\n",
       "    <tr>\n",
       "      <th>6</th>\n",
       "      <td>2015</td>\n",
       "      <td>M</td>\n",
       "      <td>905</td>\n",
       "    </tr>\n",
       "    <tr>\n",
       "      <th>7</th>\n",
       "      <td>2015</td>\n",
       "      <td>F</td>\n",
       "      <td>663</td>\n",
       "    </tr>\n",
       "    <tr>\n",
       "      <th>8</th>\n",
       "      <td>2015</td>\n",
       "      <td>O</td>\n",
       "      <td>29</td>\n",
       "    </tr>\n",
       "    <tr>\n",
       "      <th>9</th>\n",
       "      <td>2016</td>\n",
       "      <td>F</td>\n",
       "      <td>1509</td>\n",
       "    </tr>\n",
       "    <tr>\n",
       "      <th>10</th>\n",
       "      <td>2016</td>\n",
       "      <td>M</td>\n",
       "      <td>1483</td>\n",
       "    </tr>\n",
       "    <tr>\n",
       "      <th>11</th>\n",
       "      <td>2016</td>\n",
       "      <td>O</td>\n",
       "      <td>32</td>\n",
       "    </tr>\n",
       "    <tr>\n",
       "      <th>12</th>\n",
       "      <td>2017</td>\n",
       "      <td>M</td>\n",
       "      <td>3067</td>\n",
       "    </tr>\n",
       "    <tr>\n",
       "      <th>13</th>\n",
       "      <td>2017</td>\n",
       "      <td>F</td>\n",
       "      <td>2443</td>\n",
       "    </tr>\n",
       "    <tr>\n",
       "      <th>14</th>\n",
       "      <td>2017</td>\n",
       "      <td>O</td>\n",
       "      <td>89</td>\n",
       "    </tr>\n",
       "    <tr>\n",
       "      <th>15</th>\n",
       "      <td>2018</td>\n",
       "      <td>M</td>\n",
       "      <td>2312</td>\n",
       "    </tr>\n",
       "    <tr>\n",
       "      <th>16</th>\n",
       "      <td>2018</td>\n",
       "      <td>F</td>\n",
       "      <td>1302</td>\n",
       "    </tr>\n",
       "    <tr>\n",
       "      <th>17</th>\n",
       "      <td>2018</td>\n",
       "      <td>O</td>\n",
       "      <td>55</td>\n",
       "    </tr>\n",
       "  </tbody>\n",
       "</table>\n",
       "</div>"
      ],
      "text/plain": [
       "    membership_year gender  gender_count\n",
       "0              2013      M           197\n",
       "1              2013      F            74\n",
       "2              2013      O             3\n",
       "3              2014      M           520\n",
       "4              2014      F           138\n",
       "5              2014      O             4\n",
       "6              2015      M           905\n",
       "7              2015      F           663\n",
       "8              2015      O            29\n",
       "9              2016      F          1509\n",
       "10             2016      M          1483\n",
       "11             2016      O            32\n",
       "12             2017      M          3067\n",
       "13             2017      F          2443\n",
       "14             2017      O            89\n",
       "15             2018      M          2312\n",
       "16             2018      F          1302\n",
       "17             2018      O            55"
      ]
     },
     "execution_count": 49,
     "metadata": {},
     "output_type": "execute_result"
    }
   ],
   "source": [
    "# Create gender_by_year_df dataframe to be used to create visualization\n",
    "gender_by_year_df = pd.DataFrame(profile.groupby(['membership_year'])['gender'].value_counts())\n",
    "gender_by_year_df.rename(columns = {'gender': 'gender_count'}, inplace=True)\n",
    "gender_by_year_df.reset_index(inplace=True)\n",
    "gender_by_year_df"
   ]
  },
  {
   "cell_type": "code",
   "execution_count": 50,
   "metadata": {},
   "outputs": [
    {
     "data": {
      "image/png": "[encoded data removed]",
      "text/plain": [
       "<matplotlib.figure.Figure at 0x7fa7f97b8748>"
      ]
     },
     "metadata": {
      "needs_background": "light"
     },
     "output_type": "display_data"
    }
   ],
   "source": [
    "# PLot gender counts per membership year\n",
    "fig, ax = plt.subplots(figsize=(10, 6),\n",
    "                       nrows=1,\n",
    "                       ncols=1)\n",
    "\n",
    "sns.barplot(x='membership_year', y='gender_count', hue='gender', data=gender_by_year_df)\n",
    "plt.xlabel('Membership year')\n",
    "plt.ylabel('Count')\n",
    "plt.title('Gender counts by membership year')\n",
    "plt.show()"
   ]
  },
  {
   "cell_type": "markdown",
   "metadata": {},
   "source": [
    "**From above plot, we can observe that male membership is either nearly equal or more than female membership. So, male membership is more than female membership which is more than others membership**."
   ]
  },
  {
   "cell_type": "markdown",
   "metadata": {},
   "source": [
    "#### Analyze feature 'income'"
   ]
  },
  {
   "cell_type": "code",
   "execution_count": 51,
   "metadata": {},
   "outputs": [
    {
     "data": {
      "text/plain": [
       "array([  30000.,   31000.,   32000.,   33000.,   34000.,   35000.,\n",
       "         36000.,   37000.,   38000.,   39000.,   40000.,   41000.,\n",
       "         42000.,   43000.,   44000.,   45000.,   46000.,   47000.,\n",
       "         48000.,   49000.,   50000.,   51000.,   52000.,   53000.,\n",
       "         54000.,   55000.,   56000.,   57000.,   58000.,   59000.,\n",
       "         60000.,   61000.,   62000.,   63000.,   64000.,   65000.,\n",
       "         66000.,   67000.,   68000.,   69000.,   70000.,   71000.,\n",
       "         72000.,   73000.,   74000.,   75000.,   76000.,   77000.,\n",
       "         78000.,   79000.,   80000.,   81000.,   82000.,   83000.,\n",
       "         84000.,   85000.,   86000.,   87000.,   88000.,   89000.,\n",
       "         90000.,   91000.,   92000.,   93000.,   94000.,   95000.,\n",
       "         96000.,   97000.,   98000.,   99000.,  100000.,  101000.,\n",
       "        102000.,  103000.,  104000.,  105000.,  106000.,  107000.,\n",
       "        108000.,  109000.,  110000.,  111000.,  112000.,  113000.,\n",
       "        114000.,  115000.,  116000.,  117000.,  118000.,  119000.,  120000.])"
      ]
     },
     "execution_count": 51,
     "metadata": {},
     "output_type": "execute_result"
    }
   ],
   "source": [
    "# Print unique values of feature income\n",
    "np.sort(profile['income'].unique())"
   ]
  },
  {
   "cell_type": "code",
   "execution_count": 52,
   "metadata": {},
   "outputs": [
    {
     "data": {
      "text/plain": [
       "30000.0      88\n",
       "31000.0     223\n",
       "32000.0     216\n",
       "33000.0     213\n",
       "34000.0     199\n",
       "35000.0     206\n",
       "36000.0     192\n",
       "37000.0     209\n",
       "38000.0     185\n",
       "39000.0     209\n",
       "40000.0     195\n",
       "41000.0     204\n",
       "42000.0     181\n",
       "43000.0     169\n",
       "44000.0     180\n",
       "45000.0     196\n",
       "46000.0     181\n",
       "47000.0     192\n",
       "48000.0     186\n",
       "49000.0     157\n",
       "50000.0     253\n",
       "51000.0     268\n",
       "52000.0     281\n",
       "53000.0     282\n",
       "54000.0     272\n",
       "55000.0     254\n",
       "56000.0     281\n",
       "57000.0     288\n",
       "58000.0     239\n",
       "59000.0     243\n",
       "           ... \n",
       "91000.0     106\n",
       "92000.0     140\n",
       "93000.0     132\n",
       "94000.0     106\n",
       "95000.0     126\n",
       "96000.0     132\n",
       "97000.0     124\n",
       "98000.0     112\n",
       "99000.0     123\n",
       "100000.0     87\n",
       "101000.0     48\n",
       "102000.0     48\n",
       "103000.0     59\n",
       "104000.0     55\n",
       "105000.0     58\n",
       "106000.0     56\n",
       "107000.0     45\n",
       "108000.0     57\n",
       "109000.0     62\n",
       "110000.0     58\n",
       "111000.0     55\n",
       "112000.0     45\n",
       "113000.0     54\n",
       "114000.0     53\n",
       "115000.0     50\n",
       "116000.0     46\n",
       "117000.0     32\n",
       "118000.0     58\n",
       "119000.0     54\n",
       "120000.0     13\n",
       "Name: income, Length: 91, dtype: int64"
      ]
     },
     "execution_count": 52,
     "metadata": {},
     "output_type": "execute_result"
    }
   ],
   "source": [
    "# Print value counts for each unique income\n",
    "profile['income'].value_counts().sort_index()"
   ]
  },
  {
   "cell_type": "code",
   "execution_count": 53,
   "metadata": {},
   "outputs": [
    {
     "data": {
      "image/png": "[encoded data removed]",
      "text/plain": [
       "<matplotlib.figure.Figure at 0x7fa7f9378da0>"
      ]
     },
     "metadata": {
      "needs_background": "light"
     },
     "output_type": "display_data"
    }
   ],
   "source": [
    "# Plot distribution of feature 'income' in profile dataframe\n",
    "profile['income'].value_counts().sort_index(ascending=True).plot.bar(figsize=(20,6), fontsize=12,color='teal');\n",
    "plt.xlabel('Income', fontsize=18)\n",
    "plt.ylabel('Count', fontsize=18)\n",
    "plt.xticks(rotation='vertical')\n",
    "plt.title('Distribution of Income', fontsize=18)\n",
    "plt.show()"
   ]
  },
  {
   "cell_type": "markdown",
   "metadata": {},
   "source": [
    "**From above plot, we can observe that income appears to be non-uniformaly distributed across income range and have low distribution with high income which seems reasonable**."
   ]
  },
  {
   "cell_type": "code",
   "execution_count": 54,
   "metadata": {},
   "outputs": [
    {
     "data": {
      "image/png": "[encoded data removed]",
      "text/plain": [
       "<matplotlib.figure.Figure at 0x7fa7f97e5080>"
      ]
     },
     "metadata": {
      "needs_background": "light"
     },
     "output_type": "display_data"
    }
   ],
   "source": [
    "# Plot histograms of income per gender\n",
    "fig, ax = plt.subplots(figsize=(20, 6),\n",
    "                       nrows=1,\n",
    "                       ncols=3,\n",
    "                       sharex=True,\n",
    "                       sharey=True)\n",
    "\n",
    "plt.subplot(131)\n",
    "plt.hist(profile.loc[profile['gender'] == 'M', 'income'], bins=20, facecolor='b', alpha=0.75)\n",
    "plt.xlabel('Income(M)', fontsize=12)\n",
    "plt.ylabel('Counts', fontsize=12)\n",
    "plt.title('Histogram of Income(M)', fontsize=12)\n",
    "plt.grid(True)\n",
    "\n",
    "plt.subplot(132)\n",
    "plt.hist(profile.loc[profile['gender'] == 'F', 'income'], bins=20, facecolor='r', alpha=0.75)\n",
    "plt.xlabel('Income(F)', fontsize=12)\n",
    "plt.ylabel('Counts', fontsize=12)\n",
    "plt.title('Histogram of Income(F)', fontsize=12)\n",
    "plt.grid(True)\n",
    "\n",
    "plt.subplot(133)\n",
    "plt.hist(profile.loc[profile['gender'] == 'O', 'income'], bins=20, facecolor='g', alpha=0.75)\n",
    "plt.xlabel('Income(O)', fontsize=12)\n",
    "plt.ylabel('Counts', fontsize=12)\n",
    "plt.title('Histogram of Income(O)', fontsize=12)\n",
    "plt.grid(True)\n",
    "\n",
    "plt.show()"
   ]
  },
  {
   "cell_type": "markdown",
   "metadata": {},
   "source": [
    "**From above, we can observe that the distribution of income per gender appears similar for males and females where minimum and maiximum income for both males and females is nearly same with male income slightly biased towards lower income. Also, income distribution for Others is also similar to males and females with minimum & maximum income less than (males & females)**."
   ]
  },
  {
   "cell_type": "code",
   "execution_count": 55,
   "metadata": {},
   "outputs": [
    {
     "data": {
      "text/html": [
       "<div>\n",
       "<style scoped>\n",
       "    .dataframe tbody tr th:only-of-type {\n",
       "        vertical-align: middle;\n",
       "    }\n",
       "\n",
       "    .dataframe tbody tr th {\n",
       "        vertical-align: top;\n",
       "    }\n",
       "\n",
       "    .dataframe thead th {\n",
       "        text-align: right;\n",
       "    }\n",
       "</style>\n",
       "<table border=\"1\" class=\"dataframe\">\n",
       "  <thead>\n",
       "    <tr style=\"text-align: right;\">\n",
       "      <th></th>\n",
       "      <th>customer_id</th>\n",
       "      <th>income</th>\n",
       "      <th>age_10s</th>\n",
       "      <th>age_20s</th>\n",
       "      <th>age_30s</th>\n",
       "      <th>age_40s</th>\n",
       "      <th>age_50s</th>\n",
       "      <th>age_60s</th>\n",
       "      <th>age_70s</th>\n",
       "      <th>age_80s</th>\n",
       "      <th>...</th>\n",
       "      <th>month_6</th>\n",
       "      <th>month_7</th>\n",
       "      <th>month_8</th>\n",
       "      <th>month_9</th>\n",
       "      <th>month_10</th>\n",
       "      <th>month_11</th>\n",
       "      <th>month_12</th>\n",
       "      <th>F</th>\n",
       "      <th>M</th>\n",
       "      <th>O</th>\n",
       "    </tr>\n",
       "  </thead>\n",
       "  <tbody>\n",
       "    <tr>\n",
       "      <th>1</th>\n",
       "      <td>0610b486422d4921ae7d2bf64640c50b</td>\n",
       "      <td>112000.0</td>\n",
       "      <td>0</td>\n",
       "      <td>0</td>\n",
       "      <td>0</td>\n",
       "      <td>0</td>\n",
       "      <td>1</td>\n",
       "      <td>0</td>\n",
       "      <td>0</td>\n",
       "      <td>0</td>\n",
       "      <td>...</td>\n",
       "      <td>0</td>\n",
       "      <td>1</td>\n",
       "      <td>0</td>\n",
       "      <td>0</td>\n",
       "      <td>0</td>\n",
       "      <td>0</td>\n",
       "      <td>0</td>\n",
       "      <td>1</td>\n",
       "      <td>0</td>\n",
       "      <td>0</td>\n",
       "    </tr>\n",
       "    <tr>\n",
       "      <th>3</th>\n",
       "      <td>78afa995795e4d85b5d9ceeca43f5fef</td>\n",
       "      <td>100000.0</td>\n",
       "      <td>0</td>\n",
       "      <td>0</td>\n",
       "      <td>0</td>\n",
       "      <td>0</td>\n",
       "      <td>0</td>\n",
       "      <td>0</td>\n",
       "      <td>1</td>\n",
       "      <td>0</td>\n",
       "      <td>...</td>\n",
       "      <td>0</td>\n",
       "      <td>0</td>\n",
       "      <td>0</td>\n",
       "      <td>0</td>\n",
       "      <td>0</td>\n",
       "      <td>0</td>\n",
       "      <td>0</td>\n",
       "      <td>1</td>\n",
       "      <td>0</td>\n",
       "      <td>0</td>\n",
       "    </tr>\n",
       "    <tr>\n",
       "      <th>5</th>\n",
       "      <td>e2127556f4f64592b11af22de27a7932</td>\n",
       "      <td>70000.0</td>\n",
       "      <td>0</td>\n",
       "      <td>0</td>\n",
       "      <td>0</td>\n",
       "      <td>0</td>\n",
       "      <td>0</td>\n",
       "      <td>1</td>\n",
       "      <td>0</td>\n",
       "      <td>0</td>\n",
       "      <td>...</td>\n",
       "      <td>0</td>\n",
       "      <td>0</td>\n",
       "      <td>0</td>\n",
       "      <td>0</td>\n",
       "      <td>0</td>\n",
       "      <td>0</td>\n",
       "      <td>0</td>\n",
       "      <td>0</td>\n",
       "      <td>1</td>\n",
       "      <td>0</td>\n",
       "    </tr>\n",
       "    <tr>\n",
       "      <th>8</th>\n",
       "      <td>389bc3fa690240e798340f5a15918d5c</td>\n",
       "      <td>53000.0</td>\n",
       "      <td>0</td>\n",
       "      <td>0</td>\n",
       "      <td>0</td>\n",
       "      <td>0</td>\n",
       "      <td>0</td>\n",
       "      <td>1</td>\n",
       "      <td>0</td>\n",
       "      <td>0</td>\n",
       "      <td>...</td>\n",
       "      <td>0</td>\n",
       "      <td>0</td>\n",
       "      <td>0</td>\n",
       "      <td>0</td>\n",
       "      <td>0</td>\n",
       "      <td>0</td>\n",
       "      <td>0</td>\n",
       "      <td>0</td>\n",
       "      <td>1</td>\n",
       "      <td>0</td>\n",
       "    </tr>\n",
       "    <tr>\n",
       "      <th>12</th>\n",
       "      <td>2eeac8d8feae4a8cad5a6af0499a211d</td>\n",
       "      <td>51000.0</td>\n",
       "      <td>0</td>\n",
       "      <td>0</td>\n",
       "      <td>0</td>\n",
       "      <td>0</td>\n",
       "      <td>1</td>\n",
       "      <td>0</td>\n",
       "      <td>0</td>\n",
       "      <td>0</td>\n",
       "      <td>...</td>\n",
       "      <td>0</td>\n",
       "      <td>0</td>\n",
       "      <td>0</td>\n",
       "      <td>0</td>\n",
       "      <td>0</td>\n",
       "      <td>1</td>\n",
       "      <td>0</td>\n",
       "      <td>0</td>\n",
       "      <td>1</td>\n",
       "      <td>0</td>\n",
       "    </tr>\n",
       "  </tbody>\n",
       "</table>\n",
       "<p>5 rows × 34 columns</p>\n",
       "</div>"
      ],
      "text/plain": [
       "                         customer_id    income  age_10s  age_20s  age_30s  \\\n",
       "1   0610b486422d4921ae7d2bf64640c50b  112000.0        0        0        0   \n",
       "3   78afa995795e4d85b5d9ceeca43f5fef  100000.0        0        0        0   \n",
       "5   e2127556f4f64592b11af22de27a7932   70000.0        0        0        0   \n",
       "8   389bc3fa690240e798340f5a15918d5c   53000.0        0        0        0   \n",
       "12  2eeac8d8feae4a8cad5a6af0499a211d   51000.0        0        0        0   \n",
       "\n",
       "    age_40s  age_50s  age_60s  age_70s  age_80s ...  month_6  month_7  \\\n",
       "1         0        1        0        0        0 ...        0        1   \n",
       "3         0        0        0        1        0 ...        0        0   \n",
       "5         0        0        1        0        0 ...        0        0   \n",
       "8         0        0        1        0        0 ...        0        0   \n",
       "12        0        1        0        0        0 ...        0        0   \n",
       "\n",
       "    month_8  month_9  month_10  month_11  month_12  F  M  O  \n",
       "1         0        0         0         0         0  1  0  0  \n",
       "3         0        0         0         0         0  1  0  0  \n",
       "5         0        0         0         0         0  0  1  0  \n",
       "8         0        0         0         0         0  0  1  0  \n",
       "12        0        0         0         1         0  0  1  0  \n",
       "\n",
       "[5 rows x 34 columns]"
      ]
     },
     "execution_count": 55,
     "metadata": {},
     "output_type": "execute_result"
    }
   ],
   "source": [
    "# OneHotEncoding feature 'membership_year'\n",
    "profile = pd.get_dummies(profile, columns=['membership_year'], prefix='', prefix_sep='')\n",
    "\n",
    "# OneHotEncoding feature 'membership_month'\n",
    "profile = pd.get_dummies(profile, columns=['membership_month'], prefix='month', prefix_sep='_')\n",
    "\n",
    "# OneHotEncoding feature 'gender'\n",
    "profile = pd.get_dummies(profile, columns=['gender'], prefix='', prefix_sep='')\n",
    "\n",
    "profile.head()"
   ]
  },
  {
   "cell_type": "code",
   "execution_count": 56,
   "metadata": {},
   "outputs": [
    {
     "data": {
      "text/plain": [
       "[[110000, 120000), [100000, 110000), [70000, 80000), [50000, 60000), [50000, 60000), ..., [50000, 60000), [70000, 80000), [70000, 80000), [50000, 60000), [80000, 90000)]\n",
       "Length: 14825\n",
       "Categories (10, interval[int64]): [[30000, 40000) < [40000, 50000) < [50000, 60000) < [60000, 70000) ... [90000, 100000) < [100000, 110000) < [110000, 120000) < [120000, 130000)]"
      ]
     },
     "execution_count": 56,
     "metadata": {},
     "output_type": "execute_result"
    }
   ],
   "source": [
    "# Create bins of feature 'income'\n",
    "pd.cut(profile['income'], bins=range(30000,140000,10000), right=False).values"
   ]
  },
  {
   "cell_type": "code",
   "execution_count": 57,
   "metadata": {},
   "outputs": [
    {
     "data": {
      "text/html": [
       "<div>\n",
       "<style scoped>\n",
       "    .dataframe tbody tr th:only-of-type {\n",
       "        vertical-align: middle;\n",
       "    }\n",
       "\n",
       "    .dataframe tbody tr th {\n",
       "        vertical-align: top;\n",
       "    }\n",
       "\n",
       "    .dataframe thead th {\n",
       "        text-align: right;\n",
       "    }\n",
       "</style>\n",
       "<table border=\"1\" class=\"dataframe\">\n",
       "  <thead>\n",
       "    <tr style=\"text-align: right;\">\n",
       "      <th></th>\n",
       "      <th>customer_id</th>\n",
       "      <th>income</th>\n",
       "      <th>age_10s</th>\n",
       "      <th>age_20s</th>\n",
       "      <th>age_30s</th>\n",
       "      <th>age_40s</th>\n",
       "      <th>age_50s</th>\n",
       "      <th>age_60s</th>\n",
       "      <th>age_70s</th>\n",
       "      <th>age_80s</th>\n",
       "      <th>...</th>\n",
       "      <th>month_7</th>\n",
       "      <th>month_8</th>\n",
       "      <th>month_9</th>\n",
       "      <th>month_10</th>\n",
       "      <th>month_11</th>\n",
       "      <th>month_12</th>\n",
       "      <th>F</th>\n",
       "      <th>M</th>\n",
       "      <th>O</th>\n",
       "      <th>income_by_range</th>\n",
       "    </tr>\n",
       "  </thead>\n",
       "  <tbody>\n",
       "    <tr>\n",
       "      <th>1</th>\n",
       "      <td>0610b486422d4921ae7d2bf64640c50b</td>\n",
       "      <td>112000.0</td>\n",
       "      <td>0</td>\n",
       "      <td>0</td>\n",
       "      <td>0</td>\n",
       "      <td>0</td>\n",
       "      <td>1</td>\n",
       "      <td>0</td>\n",
       "      <td>0</td>\n",
       "      <td>0</td>\n",
       "      <td>...</td>\n",
       "      <td>1</td>\n",
       "      <td>0</td>\n",
       "      <td>0</td>\n",
       "      <td>0</td>\n",
       "      <td>0</td>\n",
       "      <td>0</td>\n",
       "      <td>1</td>\n",
       "      <td>0</td>\n",
       "      <td>0</td>\n",
       "      <td>110ths</td>\n",
       "    </tr>\n",
       "    <tr>\n",
       "      <th>3</th>\n",
       "      <td>78afa995795e4d85b5d9ceeca43f5fef</td>\n",
       "      <td>100000.0</td>\n",
       "      <td>0</td>\n",
       "      <td>0</td>\n",
       "      <td>0</td>\n",
       "      <td>0</td>\n",
       "      <td>0</td>\n",
       "      <td>0</td>\n",
       "      <td>1</td>\n",
       "      <td>0</td>\n",
       "      <td>...</td>\n",
       "      <td>0</td>\n",
       "      <td>0</td>\n",
       "      <td>0</td>\n",
       "      <td>0</td>\n",
       "      <td>0</td>\n",
       "      <td>0</td>\n",
       "      <td>1</td>\n",
       "      <td>0</td>\n",
       "      <td>0</td>\n",
       "      <td>100ths</td>\n",
       "    </tr>\n",
       "    <tr>\n",
       "      <th>5</th>\n",
       "      <td>e2127556f4f64592b11af22de27a7932</td>\n",
       "      <td>70000.0</td>\n",
       "      <td>0</td>\n",
       "      <td>0</td>\n",
       "      <td>0</td>\n",
       "      <td>0</td>\n",
       "      <td>0</td>\n",
       "      <td>1</td>\n",
       "      <td>0</td>\n",
       "      <td>0</td>\n",
       "      <td>...</td>\n",
       "      <td>0</td>\n",
       "      <td>0</td>\n",
       "      <td>0</td>\n",
       "      <td>0</td>\n",
       "      <td>0</td>\n",
       "      <td>0</td>\n",
       "      <td>0</td>\n",
       "      <td>1</td>\n",
       "      <td>0</td>\n",
       "      <td>70ths</td>\n",
       "    </tr>\n",
       "    <tr>\n",
       "      <th>8</th>\n",
       "      <td>389bc3fa690240e798340f5a15918d5c</td>\n",
       "      <td>53000.0</td>\n",
       "      <td>0</td>\n",
       "      <td>0</td>\n",
       "      <td>0</td>\n",
       "      <td>0</td>\n",
       "      <td>0</td>\n",
       "      <td>1</td>\n",
       "      <td>0</td>\n",
       "      <td>0</td>\n",
       "      <td>...</td>\n",
       "      <td>0</td>\n",
       "      <td>0</td>\n",
       "      <td>0</td>\n",
       "      <td>0</td>\n",
       "      <td>0</td>\n",
       "      <td>0</td>\n",
       "      <td>0</td>\n",
       "      <td>1</td>\n",
       "      <td>0</td>\n",
       "      <td>50ths</td>\n",
       "    </tr>\n",
       "    <tr>\n",
       "      <th>12</th>\n",
       "      <td>2eeac8d8feae4a8cad5a6af0499a211d</td>\n",
       "      <td>51000.0</td>\n",
       "      <td>0</td>\n",
       "      <td>0</td>\n",
       "      <td>0</td>\n",
       "      <td>0</td>\n",
       "      <td>1</td>\n",
       "      <td>0</td>\n",
       "      <td>0</td>\n",
       "      <td>0</td>\n",
       "      <td>...</td>\n",
       "      <td>0</td>\n",
       "      <td>0</td>\n",
       "      <td>0</td>\n",
       "      <td>0</td>\n",
       "      <td>1</td>\n",
       "      <td>0</td>\n",
       "      <td>0</td>\n",
       "      <td>1</td>\n",
       "      <td>0</td>\n",
       "      <td>50ths</td>\n",
       "    </tr>\n",
       "  </tbody>\n",
       "</table>\n",
       "<p>5 rows × 35 columns</p>\n",
       "</div>"
      ],
      "text/plain": [
       "                         customer_id    income  age_10s  age_20s  age_30s  \\\n",
       "1   0610b486422d4921ae7d2bf64640c50b  112000.0        0        0        0   \n",
       "3   78afa995795e4d85b5d9ceeca43f5fef  100000.0        0        0        0   \n",
       "5   e2127556f4f64592b11af22de27a7932   70000.0        0        0        0   \n",
       "8   389bc3fa690240e798340f5a15918d5c   53000.0        0        0        0   \n",
       "12  2eeac8d8feae4a8cad5a6af0499a211d   51000.0        0        0        0   \n",
       "\n",
       "    age_40s  age_50s  age_60s  age_70s  age_80s       ...         month_7  \\\n",
       "1         0        1        0        0        0       ...               1   \n",
       "3         0        0        0        1        0       ...               0   \n",
       "5         0        0        1        0        0       ...               0   \n",
       "8         0        0        1        0        0       ...               0   \n",
       "12        0        1        0        0        0       ...               0   \n",
       "\n",
       "    month_8  month_9  month_10  month_11  month_12  F  M  O  income_by_range  \n",
       "1         0        0         0         0         0  1  0  0           110ths  \n",
       "3         0        0         0         0         0  1  0  0           100ths  \n",
       "5         0        0         0         0         0  0  1  0            70ths  \n",
       "8         0        0         0         0         0  0  1  0            50ths  \n",
       "12        0        0         0         1         0  0  1  0            50ths  \n",
       "\n",
       "[5 rows x 35 columns]"
      ]
     },
     "execution_count": 57,
     "metadata": {},
     "output_type": "execute_result"
    }
   ],
   "source": [
    "# Convert feature 'income' into 'income_by_range' which would be helpful in determining\n",
    "# if a particular income range is influenced more by an offer\n",
    "profile['income_by_range'] = pd.cut(profile['income'], bins=range(30000,140000,10000), right=False,\\\n",
    "                                    labels=['30ths','40ths', '50ths', '60ths', '70ths','80ths', '90ths',\\\n",
    "                                            '100ths', '110ths', '120ths'])\n",
    "profile.head()"
   ]
  },
  {
   "cell_type": "code",
   "execution_count": 58,
   "metadata": {},
   "outputs": [
    {
     "data": {
      "text/plain": [
       "30ths     1940\n",
       "40ths     1841\n",
       "50ths     2661\n",
       "60ths     2328\n",
       "70ths     2338\n",
       "80ths     1409\n",
       "90ths     1215\n",
       "100ths     575\n",
       "110ths     505\n",
       "120ths      13\n",
       "Name: income_by_range, dtype: int64"
      ]
     },
     "execution_count": 58,
     "metadata": {},
     "output_type": "execute_result"
    }
   ],
   "source": [
    "# Print unique values of feature 'income_by_range'\n",
    "profile['income_by_range'].value_counts().sort_index(ascending=True)"
   ]
  },
  {
   "cell_type": "markdown",
   "metadata": {},
   "source": [
    "**From above, we can observe that for each income bin there is a label i.e. for bins `[30000, 40000) < [40000, 50000) < [50000, 60000) < [60000, 70000) < [70000, 80000) < [80000, 90000) < [90000, 100000) < [100000, 110000) < [110000, 120000) < [120000, 130000)]` there is a label which are `['30ths','40ths', '50ths', '60ths', '70ths','80ths', '90ths', '100ths', '110ths', '120ths']`. Therefore, we can drop feature 'income'**."
   ]
  },
  {
   "cell_type": "code",
   "execution_count": 59,
   "metadata": {},
   "outputs": [],
   "source": [
    "# Drop feature 'income'\n",
    "profile.drop(columns=['income'], inplace=True)"
   ]
  },
  {
   "cell_type": "code",
   "execution_count": 60,
   "metadata": {},
   "outputs": [
    {
     "data": {
      "text/html": [
       "<div>\n",
       "<style scoped>\n",
       "    .dataframe tbody tr th:only-of-type {\n",
       "        vertical-align: middle;\n",
       "    }\n",
       "\n",
       "    .dataframe tbody tr th {\n",
       "        vertical-align: top;\n",
       "    }\n",
       "\n",
       "    .dataframe thead th {\n",
       "        text-align: right;\n",
       "    }\n",
       "</style>\n",
       "<table border=\"1\" class=\"dataframe\">\n",
       "  <thead>\n",
       "    <tr style=\"text-align: right;\">\n",
       "      <th></th>\n",
       "      <th>customer_id</th>\n",
       "      <th>age_10s</th>\n",
       "      <th>age_20s</th>\n",
       "      <th>age_30s</th>\n",
       "      <th>age_40s</th>\n",
       "      <th>age_50s</th>\n",
       "      <th>age_60s</th>\n",
       "      <th>age_70s</th>\n",
       "      <th>age_80s</th>\n",
       "      <th>age_90s</th>\n",
       "      <th>...</th>\n",
       "      <th>income_30ths</th>\n",
       "      <th>income_40ths</th>\n",
       "      <th>income_50ths</th>\n",
       "      <th>income_60ths</th>\n",
       "      <th>income_70ths</th>\n",
       "      <th>income_80ths</th>\n",
       "      <th>income_90ths</th>\n",
       "      <th>income_100ths</th>\n",
       "      <th>income_110ths</th>\n",
       "      <th>income_120ths</th>\n",
       "    </tr>\n",
       "  </thead>\n",
       "  <tbody>\n",
       "    <tr>\n",
       "      <th>1</th>\n",
       "      <td>0610b486422d4921ae7d2bf64640c50b</td>\n",
       "      <td>0</td>\n",
       "      <td>0</td>\n",
       "      <td>0</td>\n",
       "      <td>0</td>\n",
       "      <td>1</td>\n",
       "      <td>0</td>\n",
       "      <td>0</td>\n",
       "      <td>0</td>\n",
       "      <td>0</td>\n",
       "      <td>...</td>\n",
       "      <td>0</td>\n",
       "      <td>0</td>\n",
       "      <td>0</td>\n",
       "      <td>0</td>\n",
       "      <td>0</td>\n",
       "      <td>0</td>\n",
       "      <td>0</td>\n",
       "      <td>0</td>\n",
       "      <td>1</td>\n",
       "      <td>0</td>\n",
       "    </tr>\n",
       "    <tr>\n",
       "      <th>3</th>\n",
       "      <td>78afa995795e4d85b5d9ceeca43f5fef</td>\n",
       "      <td>0</td>\n",
       "      <td>0</td>\n",
       "      <td>0</td>\n",
       "      <td>0</td>\n",
       "      <td>0</td>\n",
       "      <td>0</td>\n",
       "      <td>1</td>\n",
       "      <td>0</td>\n",
       "      <td>0</td>\n",
       "      <td>...</td>\n",
       "      <td>0</td>\n",
       "      <td>0</td>\n",
       "      <td>0</td>\n",
       "      <td>0</td>\n",
       "      <td>0</td>\n",
       "      <td>0</td>\n",
       "      <td>0</td>\n",
       "      <td>1</td>\n",
       "      <td>0</td>\n",
       "      <td>0</td>\n",
       "    </tr>\n",
       "    <tr>\n",
       "      <th>5</th>\n",
       "      <td>e2127556f4f64592b11af22de27a7932</td>\n",
       "      <td>0</td>\n",
       "      <td>0</td>\n",
       "      <td>0</td>\n",
       "      <td>0</td>\n",
       "      <td>0</td>\n",
       "      <td>1</td>\n",
       "      <td>0</td>\n",
       "      <td>0</td>\n",
       "      <td>0</td>\n",
       "      <td>...</td>\n",
       "      <td>0</td>\n",
       "      <td>0</td>\n",
       "      <td>0</td>\n",
       "      <td>0</td>\n",
       "      <td>1</td>\n",
       "      <td>0</td>\n",
       "      <td>0</td>\n",
       "      <td>0</td>\n",
       "      <td>0</td>\n",
       "      <td>0</td>\n",
       "    </tr>\n",
       "    <tr>\n",
       "      <th>8</th>\n",
       "      <td>389bc3fa690240e798340f5a15918d5c</td>\n",
       "      <td>0</td>\n",
       "      <td>0</td>\n",
       "      <td>0</td>\n",
       "      <td>0</td>\n",
       "      <td>0</td>\n",
       "      <td>1</td>\n",
       "      <td>0</td>\n",
       "      <td>0</td>\n",
       "      <td>0</td>\n",
       "      <td>...</td>\n",
       "      <td>0</td>\n",
       "      <td>0</td>\n",
       "      <td>1</td>\n",
       "      <td>0</td>\n",
       "      <td>0</td>\n",
       "      <td>0</td>\n",
       "      <td>0</td>\n",
       "      <td>0</td>\n",
       "      <td>0</td>\n",
       "      <td>0</td>\n",
       "    </tr>\n",
       "    <tr>\n",
       "      <th>12</th>\n",
       "      <td>2eeac8d8feae4a8cad5a6af0499a211d</td>\n",
       "      <td>0</td>\n",
       "      <td>0</td>\n",
       "      <td>0</td>\n",
       "      <td>0</td>\n",
       "      <td>1</td>\n",
       "      <td>0</td>\n",
       "      <td>0</td>\n",
       "      <td>0</td>\n",
       "      <td>0</td>\n",
       "      <td>...</td>\n",
       "      <td>0</td>\n",
       "      <td>0</td>\n",
       "      <td>1</td>\n",
       "      <td>0</td>\n",
       "      <td>0</td>\n",
       "      <td>0</td>\n",
       "      <td>0</td>\n",
       "      <td>0</td>\n",
       "      <td>0</td>\n",
       "      <td>0</td>\n",
       "    </tr>\n",
       "  </tbody>\n",
       "</table>\n",
       "<p>5 rows × 43 columns</p>\n",
       "</div>"
      ],
      "text/plain": [
       "                         customer_id  age_10s  age_20s  age_30s  age_40s  \\\n",
       "1   0610b486422d4921ae7d2bf64640c50b        0        0        0        0   \n",
       "3   78afa995795e4d85b5d9ceeca43f5fef        0        0        0        0   \n",
       "5   e2127556f4f64592b11af22de27a7932        0        0        0        0   \n",
       "8   389bc3fa690240e798340f5a15918d5c        0        0        0        0   \n",
       "12  2eeac8d8feae4a8cad5a6af0499a211d        0        0        0        0   \n",
       "\n",
       "    age_50s  age_60s  age_70s  age_80s  age_90s      ...        income_30ths  \\\n",
       "1         1        0        0        0        0      ...                   0   \n",
       "3         0        0        1        0        0      ...                   0   \n",
       "5         0        1        0        0        0      ...                   0   \n",
       "8         0        1        0        0        0      ...                   0   \n",
       "12        1        0        0        0        0      ...                   0   \n",
       "\n",
       "    income_40ths  income_50ths  income_60ths  income_70ths  income_80ths  \\\n",
       "1              0             0             0             0             0   \n",
       "3              0             0             0             0             0   \n",
       "5              0             0             0             1             0   \n",
       "8              0             1             0             0             0   \n",
       "12             0             1             0             0             0   \n",
       "\n",
       "    income_90ths  income_100ths  income_110ths  income_120ths  \n",
       "1              0              0              1              0  \n",
       "3              0              1              0              0  \n",
       "5              0              0              0              0  \n",
       "8              0              0              0              0  \n",
       "12             0              0              0              0  \n",
       "\n",
       "[5 rows x 43 columns]"
      ]
     },
     "execution_count": 60,
     "metadata": {},
     "output_type": "execute_result"
    }
   ],
   "source": [
    "# OneHotEncoding feature 'income_by_range'\n",
    "profile = pd.get_dummies(profile, columns=['income_by_range'], prefix='income', prefix_sep='_')\n",
    "profile.head()"
   ]
  },
  {
   "cell_type": "code",
   "execution_count": 61,
   "metadata": {},
   "outputs": [
    {
     "data": {
      "text/plain": [
       "Index(['customer_id', 'age_10s', 'age_20s', 'age_30s', 'age_40s', 'age_50s',\n",
       "       'age_60s', 'age_70s', 'age_80s', 'age_90s', 'age_100s',\n",
       "       'membership_tenure', '2013', '2014', '2015', '2016', '2017', '2018',\n",
       "       'month_1', 'month_2', 'month_3', 'month_4', 'month_5', 'month_6',\n",
       "       'month_7', 'month_8', 'month_9', 'month_10', 'month_11', 'month_12',\n",
       "       'F', 'M', 'O', 'income_30ths', 'income_40ths', 'income_50ths',\n",
       "       'income_60ths', 'income_70ths', 'income_80ths', 'income_90ths',\n",
       "       'income_100ths', 'income_110ths', 'income_120ths'],\n",
       "      dtype='object')"
      ]
     },
     "execution_count": 61,
     "metadata": {},
     "output_type": "execute_result"
    }
   ],
   "source": [
    "# Print column names of profile dataframe\n",
    "profile.columns"
   ]
  },
  {
   "cell_type": "code",
   "execution_count": 62,
   "metadata": {},
   "outputs": [
    {
     "data": {
      "text/plain": [
       "43"
      ]
     },
     "execution_count": 62,
     "metadata": {},
     "output_type": "execute_result"
    }
   ],
   "source": [
    "# Print number of columns\n",
    "len(profile.columns)"
   ]
  },
  {
   "cell_type": "code",
   "execution_count": 63,
   "metadata": {},
   "outputs": [
    {
     "data": {
      "text/html": [
       "<div>\n",
       "<style scoped>\n",
       "    .dataframe tbody tr th:only-of-type {\n",
       "        vertical-align: middle;\n",
       "    }\n",
       "\n",
       "    .dataframe tbody tr th {\n",
       "        vertical-align: top;\n",
       "    }\n",
       "\n",
       "    .dataframe thead th {\n",
       "        text-align: right;\n",
       "    }\n",
       "</style>\n",
       "<table border=\"1\" class=\"dataframe\">\n",
       "  <thead>\n",
       "    <tr style=\"text-align: right;\">\n",
       "      <th></th>\n",
       "      <th>customer_id</th>\n",
       "      <th>membership_tenure</th>\n",
       "      <th>F</th>\n",
       "      <th>M</th>\n",
       "      <th>O</th>\n",
       "      <th>age_10s</th>\n",
       "      <th>age_20s</th>\n",
       "      <th>age_30s</th>\n",
       "      <th>age_40s</th>\n",
       "      <th>age_50s</th>\n",
       "      <th>...</th>\n",
       "      <th>income_30ths</th>\n",
       "      <th>income_40ths</th>\n",
       "      <th>income_50ths</th>\n",
       "      <th>income_60ths</th>\n",
       "      <th>income_70ths</th>\n",
       "      <th>income_80ths</th>\n",
       "      <th>income_90ths</th>\n",
       "      <th>income_100ths</th>\n",
       "      <th>income_110ths</th>\n",
       "      <th>income_120ths</th>\n",
       "    </tr>\n",
       "  </thead>\n",
       "  <tbody>\n",
       "    <tr>\n",
       "      <th>1</th>\n",
       "      <td>0610b486422d4921ae7d2bf64640c50b</td>\n",
       "      <td>898</td>\n",
       "      <td>1</td>\n",
       "      <td>0</td>\n",
       "      <td>0</td>\n",
       "      <td>0</td>\n",
       "      <td>0</td>\n",
       "      <td>0</td>\n",
       "      <td>0</td>\n",
       "      <td>1</td>\n",
       "      <td>...</td>\n",
       "      <td>0</td>\n",
       "      <td>0</td>\n",
       "      <td>0</td>\n",
       "      <td>0</td>\n",
       "      <td>0</td>\n",
       "      <td>0</td>\n",
       "      <td>0</td>\n",
       "      <td>0</td>\n",
       "      <td>1</td>\n",
       "      <td>0</td>\n",
       "    </tr>\n",
       "    <tr>\n",
       "      <th>3</th>\n",
       "      <td>78afa995795e4d85b5d9ceeca43f5fef</td>\n",
       "      <td>965</td>\n",
       "      <td>1</td>\n",
       "      <td>0</td>\n",
       "      <td>0</td>\n",
       "      <td>0</td>\n",
       "      <td>0</td>\n",
       "      <td>0</td>\n",
       "      <td>0</td>\n",
       "      <td>0</td>\n",
       "      <td>...</td>\n",
       "      <td>0</td>\n",
       "      <td>0</td>\n",
       "      <td>0</td>\n",
       "      <td>0</td>\n",
       "      <td>0</td>\n",
       "      <td>0</td>\n",
       "      <td>0</td>\n",
       "      <td>1</td>\n",
       "      <td>0</td>\n",
       "      <td>0</td>\n",
       "    </tr>\n",
       "    <tr>\n",
       "      <th>5</th>\n",
       "      <td>e2127556f4f64592b11af22de27a7932</td>\n",
       "      <td>613</td>\n",
       "      <td>0</td>\n",
       "      <td>1</td>\n",
       "      <td>0</td>\n",
       "      <td>0</td>\n",
       "      <td>0</td>\n",
       "      <td>0</td>\n",
       "      <td>0</td>\n",
       "      <td>0</td>\n",
       "      <td>...</td>\n",
       "      <td>0</td>\n",
       "      <td>0</td>\n",
       "      <td>0</td>\n",
       "      <td>0</td>\n",
       "      <td>1</td>\n",
       "      <td>0</td>\n",
       "      <td>0</td>\n",
       "      <td>0</td>\n",
       "      <td>0</td>\n",
       "      <td>0</td>\n",
       "    </tr>\n",
       "    <tr>\n",
       "      <th>8</th>\n",
       "      <td>389bc3fa690240e798340f5a15918d5c</td>\n",
       "      <td>689</td>\n",
       "      <td>0</td>\n",
       "      <td>1</td>\n",
       "      <td>0</td>\n",
       "      <td>0</td>\n",
       "      <td>0</td>\n",
       "      <td>0</td>\n",
       "      <td>0</td>\n",
       "      <td>0</td>\n",
       "      <td>...</td>\n",
       "      <td>0</td>\n",
       "      <td>0</td>\n",
       "      <td>1</td>\n",
       "      <td>0</td>\n",
       "      <td>0</td>\n",
       "      <td>0</td>\n",
       "      <td>0</td>\n",
       "      <td>0</td>\n",
       "      <td>0</td>\n",
       "      <td>0</td>\n",
       "    </tr>\n",
       "    <tr>\n",
       "      <th>12</th>\n",
       "      <td>2eeac8d8feae4a8cad5a6af0499a211d</td>\n",
       "      <td>779</td>\n",
       "      <td>0</td>\n",
       "      <td>1</td>\n",
       "      <td>0</td>\n",
       "      <td>0</td>\n",
       "      <td>0</td>\n",
       "      <td>0</td>\n",
       "      <td>0</td>\n",
       "      <td>1</td>\n",
       "      <td>...</td>\n",
       "      <td>0</td>\n",
       "      <td>0</td>\n",
       "      <td>1</td>\n",
       "      <td>0</td>\n",
       "      <td>0</td>\n",
       "      <td>0</td>\n",
       "      <td>0</td>\n",
       "      <td>0</td>\n",
       "      <td>0</td>\n",
       "      <td>0</td>\n",
       "    </tr>\n",
       "  </tbody>\n",
       "</table>\n",
       "<p>5 rows × 43 columns</p>\n",
       "</div>"
      ],
      "text/plain": [
       "                         customer_id  membership_tenure  F  M  O  age_10s  \\\n",
       "1   0610b486422d4921ae7d2bf64640c50b                898  1  0  0        0   \n",
       "3   78afa995795e4d85b5d9ceeca43f5fef                965  1  0  0        0   \n",
       "5   e2127556f4f64592b11af22de27a7932                613  0  1  0        0   \n",
       "8   389bc3fa690240e798340f5a15918d5c                689  0  1  0        0   \n",
       "12  2eeac8d8feae4a8cad5a6af0499a211d                779  0  1  0        0   \n",
       "\n",
       "    age_20s  age_30s  age_40s  age_50s      ...        income_30ths  \\\n",
       "1         0        0        0        1      ...                   0   \n",
       "3         0        0        0        0      ...                   0   \n",
       "5         0        0        0        0      ...                   0   \n",
       "8         0        0        0        0      ...                   0   \n",
       "12        0        0        0        1      ...                   0   \n",
       "\n",
       "    income_40ths  income_50ths  income_60ths  income_70ths  income_80ths  \\\n",
       "1              0             0             0             0             0   \n",
       "3              0             0             0             0             0   \n",
       "5              0             0             0             1             0   \n",
       "8              0             1             0             0             0   \n",
       "12             0             1             0             0             0   \n",
       "\n",
       "    income_90ths  income_100ths  income_110ths  income_120ths  \n",
       "1              0              0              1              0  \n",
       "3              0              1              0              0  \n",
       "5              0              0              0              0  \n",
       "8              0              0              0              0  \n",
       "12             0              0              0              0  \n",
       "\n",
       "[5 rows x 43 columns]"
      ]
     },
     "execution_count": 63,
     "metadata": {},
     "output_type": "execute_result"
    }
   ],
   "source": [
    "# Re-order columns of profile dataframe\n",
    "profile_col_order = ['customer_id', 'membership_tenure', 'F', 'M', 'O',\\\n",
    "                     'age_10s', 'age_20s', 'age_30s', 'age_40s', 'age_50s',\\\n",
    "                     'age_60s', 'age_70s', 'age_80s', 'age_90s', 'age_100s',\\\n",
    "                     '2013', '2014', '2015', '2016', '2017', '2018',\\\n",
    "                     'month_1', 'month_2', 'month_3', 'month_4', 'month_5', 'month_6',\\\n",
    "                     'month_7', 'month_8', 'month_9', 'month_10', 'month_11', 'month_12',\\\n",
    "                     'income_30ths', 'income_40ths', 'income_50ths','income_60ths', 'income_70ths',\\\n",
    "                     'income_80ths', 'income_90ths','income_100ths', 'income_110ths', 'income_120ths']\n",
    "\n",
    "profile = profile.reindex(profile_col_order, axis=1)\n",
    "profile.head()"
   ]
  },
  {
   "cell_type": "code",
   "execution_count": 64,
   "metadata": {},
   "outputs": [
    {
     "data": {
      "text/plain": [
       "(14825, 43)"
      ]
     },
     "execution_count": 64,
     "metadata": {},
     "output_type": "execute_result"
    }
   ],
   "source": [
    "# Print shape of profile dataframe\n",
    "profile.shape"
   ]
  },
  {
   "cell_type": "markdown",
   "metadata": {},
   "source": [
    "## Analyze transcript data"
   ]
  },
  {
   "cell_type": "code",
   "execution_count": 65,
   "metadata": {},
   "outputs": [
    {
     "data": {
      "text/html": [
       "<div>\n",
       "<style scoped>\n",
       "    .dataframe tbody tr th:only-of-type {\n",
       "        vertical-align: middle;\n",
       "    }\n",
       "\n",
       "    .dataframe tbody tr th {\n",
       "        vertical-align: top;\n",
       "    }\n",
       "\n",
       "    .dataframe thead th {\n",
       "        text-align: right;\n",
       "    }\n",
       "</style>\n",
       "<table border=\"1\" class=\"dataframe\">\n",
       "  <thead>\n",
       "    <tr style=\"text-align: right;\">\n",
       "      <th></th>\n",
       "      <th>event</th>\n",
       "      <th>person</th>\n",
       "      <th>time</th>\n",
       "      <th>value</th>\n",
       "    </tr>\n",
       "  </thead>\n",
       "  <tbody>\n",
       "    <tr>\n",
       "      <th>0</th>\n",
       "      <td>offer received</td>\n",
       "      <td>78afa995795e4d85b5d9ceeca43f5fef</td>\n",
       "      <td>0</td>\n",
       "      <td>{'offer id': '9b98b8c7a33c4b65b9aebfe6a799e6d9'}</td>\n",
       "    </tr>\n",
       "    <tr>\n",
       "      <th>1</th>\n",
       "      <td>offer received</td>\n",
       "      <td>a03223e636434f42ac4c3df47e8bac43</td>\n",
       "      <td>0</td>\n",
       "      <td>{'offer id': '0b1e1539f2cc45b7b9fa7c272da2e1d7'}</td>\n",
       "    </tr>\n",
       "    <tr>\n",
       "      <th>2</th>\n",
       "      <td>offer received</td>\n",
       "      <td>e2127556f4f64592b11af22de27a7932</td>\n",
       "      <td>0</td>\n",
       "      <td>{'offer id': '2906b810c7d4411798c6938adc9daaa5'}</td>\n",
       "    </tr>\n",
       "    <tr>\n",
       "      <th>3</th>\n",
       "      <td>offer received</td>\n",
       "      <td>8ec6ce2a7e7949b1bf142def7d0e0586</td>\n",
       "      <td>0</td>\n",
       "      <td>{'offer id': 'fafdcd668e3743c1bb461111dcafc2a4'}</td>\n",
       "    </tr>\n",
       "    <tr>\n",
       "      <th>4</th>\n",
       "      <td>offer received</td>\n",
       "      <td>68617ca6246f4fbc85e91a2a49552598</td>\n",
       "      <td>0</td>\n",
       "      <td>{'offer id': '4d5c57ea9a6940dd891ad53e9dbe8da0'}</td>\n",
       "    </tr>\n",
       "  </tbody>\n",
       "</table>\n",
       "</div>"
      ],
      "text/plain": [
       "            event                            person  time  \\\n",
       "0  offer received  78afa995795e4d85b5d9ceeca43f5fef     0   \n",
       "1  offer received  a03223e636434f42ac4c3df47e8bac43     0   \n",
       "2  offer received  e2127556f4f64592b11af22de27a7932     0   \n",
       "3  offer received  8ec6ce2a7e7949b1bf142def7d0e0586     0   \n",
       "4  offer received  68617ca6246f4fbc85e91a2a49552598     0   \n",
       "\n",
       "                                              value  \n",
       "0  {'offer id': '9b98b8c7a33c4b65b9aebfe6a799e6d9'}  \n",
       "1  {'offer id': '0b1e1539f2cc45b7b9fa7c272da2e1d7'}  \n",
       "2  {'offer id': '2906b810c7d4411798c6938adc9daaa5'}  \n",
       "3  {'offer id': 'fafdcd668e3743c1bb461111dcafc2a4'}  \n",
       "4  {'offer id': '4d5c57ea9a6940dd891ad53e9dbe8da0'}  "
      ]
     },
     "execution_count": 65,
     "metadata": {},
     "output_type": "execute_result"
    }
   ],
   "source": [
    "# Load transcript data\n",
    "transcript = pd.read_json('data/transcript.json', orient='records', lines=True)\n",
    "transcript.head()"
   ]
  },
  {
   "cell_type": "code",
   "execution_count": 66,
   "metadata": {},
   "outputs": [
    {
     "name": "stdout",
     "output_type": "stream",
     "text": [
      "<class 'pandas.core.frame.DataFrame'>\n",
      "RangeIndex: 306534 entries, 0 to 306533\n",
      "Data columns (total 4 columns):\n",
      "event     306534 non-null object\n",
      "person    306534 non-null object\n",
      "time      306534 non-null int64\n",
      "value     306534 non-null object\n",
      "dtypes: int64(1), object(3)\n",
      "memory usage: 9.4+ MB\n"
     ]
    }
   ],
   "source": [
    "# Print transcript dataframe info\n",
    "transcript.info()"
   ]
  },
  {
   "cell_type": "code",
   "execution_count": 67,
   "metadata": {},
   "outputs": [
    {
     "data": {
      "text/plain": [
       "(306534, 4)"
      ]
     },
     "execution_count": 67,
     "metadata": {},
     "output_type": "execute_result"
    }
   ],
   "source": [
    "# Print shape of transcript dataframe\n",
    "transcript.shape"
   ]
  },
  {
   "cell_type": "code",
   "execution_count": 68,
   "metadata": {},
   "outputs": [
    {
     "data": {
      "text/plain": [
       "event     0\n",
       "person    0\n",
       "time      0\n",
       "value     0\n",
       "dtype: int64"
      ]
     },
     "execution_count": 68,
     "metadata": {},
     "output_type": "execute_result"
    }
   ],
   "source": [
    "# Calculate null values in transcript dataframe\n",
    "transcript.isnull().sum()"
   ]
  },
  {
   "cell_type": "markdown",
   "metadata": {},
   "source": [
    "**From above, we can observe that there is no null values in transcript dataframe**."
   ]
  },
  {
   "cell_type": "code",
   "execution_count": 69,
   "metadata": {},
   "outputs": [],
   "source": [
    "# # Change name of feature person to customer_id in transcript dataframe\n",
    "transcript.rename(columns={'person': 'customer_id'}, inplace=True)"
   ]
  },
  {
   "cell_type": "code",
   "execution_count": 70,
   "metadata": {},
   "outputs": [
    {
     "name": "stdout",
     "output_type": "stream",
     "text": [
      "False    272762\n",
      "True      33772\n",
      "Name: customer_id, dtype: int64\n"
     ]
    }
   ],
   "source": [
    "# Compute number of observations in transcript dataframe with customers having age 118\n",
    "id_age_118 = profile_age_118['customer_id'].unique().tolist()\n",
    "print(transcript['customer_id'].isin(id_age_118).value_counts())"
   ]
  },
  {
   "cell_type": "code",
   "execution_count": 71,
   "metadata": {},
   "outputs": [
    {
     "data": {
      "text/plain": [
       "11.02"
      ]
     },
     "execution_count": 71,
     "metadata": {},
     "output_type": "execute_result"
    }
   ],
   "source": [
    "# Percentage of observations in transcript dataframe with customers having age 118\n",
    "round((transcript['customer_id'].isin(id_age_118).sum()/transcript.shape[0])*100,2)"
   ]
  },
  {
   "cell_type": "markdown",
   "metadata": {},
   "source": [
    "**From above, we observe that there are 11.02 % i.e. 33772 observations in transcript dataframe which belong to customers with age 118. Therefore, removing observations with customers having age 118 as we will still have around 89% of data for further analysis**."
   ]
  },
  {
   "cell_type": "code",
   "execution_count": 72,
   "metadata": {},
   "outputs": [
    {
     "data": {
      "text/html": [
       "<div>\n",
       "<style scoped>\n",
       "    .dataframe tbody tr th:only-of-type {\n",
       "        vertical-align: middle;\n",
       "    }\n",
       "\n",
       "    .dataframe tbody tr th {\n",
       "        vertical-align: top;\n",
       "    }\n",
       "\n",
       "    .dataframe thead th {\n",
       "        text-align: right;\n",
       "    }\n",
       "</style>\n",
       "<table border=\"1\" class=\"dataframe\">\n",
       "  <thead>\n",
       "    <tr style=\"text-align: right;\">\n",
       "      <th></th>\n",
       "      <th>event</th>\n",
       "      <th>customer_id</th>\n",
       "      <th>time</th>\n",
       "      <th>value</th>\n",
       "    </tr>\n",
       "  </thead>\n",
       "  <tbody>\n",
       "    <tr>\n",
       "      <th>0</th>\n",
       "      <td>offer received</td>\n",
       "      <td>78afa995795e4d85b5d9ceeca43f5fef</td>\n",
       "      <td>0</td>\n",
       "      <td>{'offer id': '9b98b8c7a33c4b65b9aebfe6a799e6d9'}</td>\n",
       "    </tr>\n",
       "    <tr>\n",
       "      <th>2</th>\n",
       "      <td>offer received</td>\n",
       "      <td>e2127556f4f64592b11af22de27a7932</td>\n",
       "      <td>0</td>\n",
       "      <td>{'offer id': '2906b810c7d4411798c6938adc9daaa5'}</td>\n",
       "    </tr>\n",
       "    <tr>\n",
       "      <th>5</th>\n",
       "      <td>offer received</td>\n",
       "      <td>389bc3fa690240e798340f5a15918d5c</td>\n",
       "      <td>0</td>\n",
       "      <td>{'offer id': 'f19421c1d4aa40978ebb69ca19b0e20d'}</td>\n",
       "    </tr>\n",
       "    <tr>\n",
       "      <th>7</th>\n",
       "      <td>offer received</td>\n",
       "      <td>2eeac8d8feae4a8cad5a6af0499a211d</td>\n",
       "      <td>0</td>\n",
       "      <td>{'offer id': '3f207df678b143eea3cee63160fa8bed'}</td>\n",
       "    </tr>\n",
       "    <tr>\n",
       "      <th>8</th>\n",
       "      <td>offer received</td>\n",
       "      <td>aa4862eba776480b8bb9c68455b8c2e1</td>\n",
       "      <td>0</td>\n",
       "      <td>{'offer id': '0b1e1539f2cc45b7b9fa7c272da2e1d7'}</td>\n",
       "    </tr>\n",
       "  </tbody>\n",
       "</table>\n",
       "</div>"
      ],
      "text/plain": [
       "            event                       customer_id  time  \\\n",
       "0  offer received  78afa995795e4d85b5d9ceeca43f5fef     0   \n",
       "2  offer received  e2127556f4f64592b11af22de27a7932     0   \n",
       "5  offer received  389bc3fa690240e798340f5a15918d5c     0   \n",
       "7  offer received  2eeac8d8feae4a8cad5a6af0499a211d     0   \n",
       "8  offer received  aa4862eba776480b8bb9c68455b8c2e1     0   \n",
       "\n",
       "                                              value  \n",
       "0  {'offer id': '9b98b8c7a33c4b65b9aebfe6a799e6d9'}  \n",
       "2  {'offer id': '2906b810c7d4411798c6938adc9daaa5'}  \n",
       "5  {'offer id': 'f19421c1d4aa40978ebb69ca19b0e20d'}  \n",
       "7  {'offer id': '3f207df678b143eea3cee63160fa8bed'}  \n",
       "8  {'offer id': '0b1e1539f2cc45b7b9fa7c272da2e1d7'}  "
      ]
     },
     "execution_count": 72,
     "metadata": {},
     "output_type": "execute_result"
    }
   ],
   "source": [
    "# Remove observations having customers with age 118 from transcript dataframe\n",
    "transcript = transcript[~transcript['customer_id'].isin(id_age_118)]\n",
    "transcript.head()"
   ]
  },
  {
   "cell_type": "code",
   "execution_count": 73,
   "metadata": {},
   "outputs": [
    {
     "data": {
      "text/plain": [
       "(272762, 4)"
      ]
     },
     "execution_count": 73,
     "metadata": {},
     "output_type": "execute_result"
    }
   ],
   "source": [
    "# Shape of trancript dataframe after removing observations of customers with age 118\n",
    "transcript.shape"
   ]
  },
  {
   "cell_type": "code",
   "execution_count": 74,
   "metadata": {},
   "outputs": [
    {
     "data": {
      "text/plain": [
       "0"
      ]
     },
     "execution_count": 74,
     "metadata": {},
     "output_type": "execute_result"
    }
   ],
   "source": [
    "# Check if customers with age 118 has been removed from transcript dataframe\n",
    "transcript['customer_id'].isin(id_age_118).sum()"
   ]
  },
  {
   "cell_type": "markdown",
   "metadata": {},
   "source": [
    "**From above, we can observe that transcript dataframe has 0 observations with age 118**."
   ]
  },
  {
   "cell_type": "code",
   "execution_count": 75,
   "metadata": {},
   "outputs": [
    {
     "data": {
      "text/plain": [
       "0"
      ]
     },
     "execution_count": 75,
     "metadata": {},
     "output_type": "execute_result"
    }
   ],
   "source": [
    "# Check if all the customers in profile dataframe are also in transcript dataframe\n",
    "len(set(transcript['customer_id'].unique()) - set(profile['customer_id'].unique()))"
   ]
  },
  {
   "cell_type": "markdown",
   "metadata": {},
   "source": [
    "**From above, we can observe that all the customers in profile dataframe have atleast one observation in transcript data i.e. all the customers in profile dataframe are also in transcript dataframe**."
   ]
  },
  {
   "cell_type": "code",
   "execution_count": 76,
   "metadata": {},
   "outputs": [
    {
     "data": {
      "text/plain": [
       "transaction        123957\n",
       "offer received      66501\n",
       "offer viewed        49860\n",
       "offer completed     32444\n",
       "Name: event, dtype: int64"
      ]
     },
     "execution_count": 76,
     "metadata": {},
     "output_type": "execute_result"
    }
   ],
   "source": [
    "# Calculate unique values in event feature\n",
    "transcript['event'].value_counts()"
   ]
  },
  {
   "cell_type": "code",
   "execution_count": 77,
   "metadata": {},
   "outputs": [
    {
     "data": {
      "text/plain": [
       "transaction        45.45\n",
       "offer received     24.38\n",
       "offer viewed       18.28\n",
       "offer completed    11.89\n",
       "Name: event, dtype: float64"
      ]
     },
     "execution_count": 77,
     "metadata": {},
     "output_type": "execute_result"
    }
   ],
   "source": [
    "# Calculate the percentage of unique values in event feature\n",
    "round((transcript['event'].value_counts()/transcript['event'].value_counts().sum())*100,2)"
   ]
  },
  {
   "cell_type": "markdown",
   "metadata": {},
   "source": [
    "**From above, we can observe that there are 45.45% of events as transactions, 24.38% of events as offers received, 18.28% of events as offers viewed and 11.89 % of events as offers completed. We need to separate events with type 'transactions' and 'offers' to be used later on for analysis**."
   ]
  },
  {
   "cell_type": "code",
   "execution_count": 78,
   "metadata": {},
   "outputs": [
    {
     "name": "stdout",
     "output_type": "stream",
     "text": [
      "Percentage of transaction events are: 45.45%\n",
      "Percentage of offers events are: 54.55%\n"
     ]
    }
   ],
   "source": [
    "# Calculate percentage of transaction and offer events\n",
    "event_transaction = transcript['event'].value_counts()[0]\n",
    "event_offers = transcript['event'].value_counts()[1:].sum()\n",
    "event_total = transcript['event'].shape[0]\n",
    "\n",
    "print('Percentage of transaction events are: {}%'.format(round((event_transaction/event_total)*100,2)))\n",
    "print('Percentage of offers events are: {}%'.format(round((event_offers/event_total)*100,2)))"
   ]
  },
  {
   "cell_type": "code",
   "execution_count": 79,
   "metadata": {},
   "outputs": [
    {
     "data": {
      "text/plain": [
       "array(['offer received', 'offer viewed', 'transaction', 'offer completed'], dtype=object)"
      ]
     },
     "execution_count": 79,
     "metadata": {},
     "output_type": "execute_result"
    }
   ],
   "source": [
    "transcript['event'].unique()"
   ]
  },
  {
   "cell_type": "code",
   "execution_count": 80,
   "metadata": {},
   "outputs": [
    {
     "data": {
      "text/plain": [
       "Index(['event', 'customer_id', 'time', 'value'], dtype='object')"
      ]
     },
     "execution_count": 80,
     "metadata": {},
     "output_type": "execute_result"
    }
   ],
   "source": [
    "# Print features of transcript dataframe\n",
    "transcript.columns"
   ]
  },
  {
   "cell_type": "markdown",
   "metadata": {},
   "source": [
    "## Create Offers and transaction dataframe"
   ]
  },
  {
   "cell_type": "code",
   "execution_count": 81,
   "metadata": {},
   "outputs": [],
   "source": [
    "# Create dataframe offers_df containing only offers events and transaction_df containing only transaction event\n",
    "# Create a list of offer event types\n",
    "offer_event_list = ['offer received', 'offer viewed', 'offer completed']\n",
    "\n",
    "# Find index where feature 'event' is 'offer received', 'offer viewed', 'offer completed'\n",
    "offer_index = transcript[transcript['event'].isin(offer_event_list)].index\n",
    "\n",
    "# Find index where feature event is 'transaction'\n",
    "transaction_index = transcript[~transcript['event'].isin(offer_event_list)].index\n",
    "\n",
    "# Create offers_df\n",
    "offers_df = transcript.loc[offer_index,:]\n",
    "\n",
    "# Create transaction_df\n",
    "transaction_df = transcript.loc[transaction_index,:]"
   ]
  },
  {
   "cell_type": "code",
   "execution_count": 82,
   "metadata": {},
   "outputs": [
    {
     "data": {
      "text/plain": [
       "array(['offer received', 'offer viewed', 'offer completed'], dtype=object)"
      ]
     },
     "execution_count": 82,
     "metadata": {},
     "output_type": "execute_result"
    }
   ],
   "source": [
    "# Print unique values in feature event in offers_df\n",
    "offers_df['event'].unique()"
   ]
  },
  {
   "cell_type": "code",
   "execution_count": 83,
   "metadata": {},
   "outputs": [
    {
     "data": {
      "text/plain": [
       "array(['transaction'], dtype=object)"
      ]
     },
     "execution_count": 83,
     "metadata": {},
     "output_type": "execute_result"
    }
   ],
   "source": [
    "# Print unique values in feature event in transaction_df\n",
    "transaction_df['event'].unique()"
   ]
  },
  {
   "cell_type": "markdown",
   "metadata": {},
   "source": [
    "**From above, we can observe that dataframe offers_df contains only events 'offer received', 'offer viewed' and 'offer completed' and dataframe transaction_df contains only event 'transaction'**."
   ]
  },
  {
   "cell_type": "code",
   "execution_count": 84,
   "metadata": {},
   "outputs": [
    {
     "data": {
      "text/plain": [
       "offer received     66501\n",
       "offer viewed       49860\n",
       "offer completed    32444\n",
       "Name: event, dtype: int64"
      ]
     },
     "execution_count": 84,
     "metadata": {},
     "output_type": "execute_result"
    }
   ],
   "source": [
    "# Print value counts in feature offers_df\n",
    "offers_df['event'].value_counts()"
   ]
  },
  {
   "cell_type": "code",
   "execution_count": 85,
   "metadata": {},
   "outputs": [
    {
     "data": {
      "text/plain": [
       "transaction    123957\n",
       "Name: event, dtype: int64"
      ]
     },
     "execution_count": 85,
     "metadata": {},
     "output_type": "execute_result"
    }
   ],
   "source": [
    "# Print value counts in feature transaction_df\n",
    "transaction_df['event'].value_counts()"
   ]
  },
  {
   "cell_type": "code",
   "execution_count": 86,
   "metadata": {},
   "outputs": [
    {
     "data": {
      "text/plain": [
       "272762"
      ]
     },
     "execution_count": 86,
     "metadata": {},
     "output_type": "execute_result"
    }
   ],
   "source": [
    "# Print total number of observations in offers_df and transction_df\n",
    "offers_df.shape[0] + transaction_df.shape[0]"
   ]
  },
  {
   "cell_type": "code",
   "execution_count": 87,
   "metadata": {},
   "outputs": [],
   "source": [
    "# Create function to retrieve offer_id from feature value\n",
    "def func_value_offer_id(x):\n",
    "    for k,v in x.items():\n",
    "        if k in ['offer id','offer_id']:\n",
    "            return str(v)\n",
    "        elif k not in ['offer id','offer_id', 'reward']:\n",
    "            print('key {} not in dict'.format(k))"
   ]
  },
  {
   "cell_type": "code",
   "execution_count": 88,
   "metadata": {},
   "outputs": [],
   "source": [
    "# Create column 'offer_id' and filling in the values using function func_value_offer_id\n",
    "offers_df.loc[:,'offer_id'] = offers_df['value'].apply(func_value_offer_id)"
   ]
  },
  {
   "cell_type": "code",
   "execution_count": 89,
   "metadata": {},
   "outputs": [
    {
     "data": {
      "text/html": [
       "<div>\n",
       "<style scoped>\n",
       "    .dataframe tbody tr th:only-of-type {\n",
       "        vertical-align: middle;\n",
       "    }\n",
       "\n",
       "    .dataframe tbody tr th {\n",
       "        vertical-align: top;\n",
       "    }\n",
       "\n",
       "    .dataframe thead th {\n",
       "        text-align: right;\n",
       "    }\n",
       "</style>\n",
       "<table border=\"1\" class=\"dataframe\">\n",
       "  <thead>\n",
       "    <tr style=\"text-align: right;\">\n",
       "      <th></th>\n",
       "      <th>event</th>\n",
       "      <th>customer_id</th>\n",
       "      <th>time</th>\n",
       "      <th>value</th>\n",
       "      <th>offer_id</th>\n",
       "    </tr>\n",
       "  </thead>\n",
       "  <tbody>\n",
       "    <tr>\n",
       "      <th>0</th>\n",
       "      <td>offer received</td>\n",
       "      <td>78afa995795e4d85b5d9ceeca43f5fef</td>\n",
       "      <td>0</td>\n",
       "      <td>{'offer id': '9b98b8c7a33c4b65b9aebfe6a799e6d9'}</td>\n",
       "      <td>9b98b8c7a33c4b65b9aebfe6a799e6d9</td>\n",
       "    </tr>\n",
       "    <tr>\n",
       "      <th>2</th>\n",
       "      <td>offer received</td>\n",
       "      <td>e2127556f4f64592b11af22de27a7932</td>\n",
       "      <td>0</td>\n",
       "      <td>{'offer id': '2906b810c7d4411798c6938adc9daaa5'}</td>\n",
       "      <td>2906b810c7d4411798c6938adc9daaa5</td>\n",
       "    </tr>\n",
       "    <tr>\n",
       "      <th>5</th>\n",
       "      <td>offer received</td>\n",
       "      <td>389bc3fa690240e798340f5a15918d5c</td>\n",
       "      <td>0</td>\n",
       "      <td>{'offer id': 'f19421c1d4aa40978ebb69ca19b0e20d'}</td>\n",
       "      <td>f19421c1d4aa40978ebb69ca19b0e20d</td>\n",
       "    </tr>\n",
       "    <tr>\n",
       "      <th>7</th>\n",
       "      <td>offer received</td>\n",
       "      <td>2eeac8d8feae4a8cad5a6af0499a211d</td>\n",
       "      <td>0</td>\n",
       "      <td>{'offer id': '3f207df678b143eea3cee63160fa8bed'}</td>\n",
       "      <td>3f207df678b143eea3cee63160fa8bed</td>\n",
       "    </tr>\n",
       "    <tr>\n",
       "      <th>8</th>\n",
       "      <td>offer received</td>\n",
       "      <td>aa4862eba776480b8bb9c68455b8c2e1</td>\n",
       "      <td>0</td>\n",
       "      <td>{'offer id': '0b1e1539f2cc45b7b9fa7c272da2e1d7'}</td>\n",
       "      <td>0b1e1539f2cc45b7b9fa7c272da2e1d7</td>\n",
       "    </tr>\n",
       "  </tbody>\n",
       "</table>\n",
       "</div>"
      ],
      "text/plain": [
       "            event                       customer_id  time  \\\n",
       "0  offer received  78afa995795e4d85b5d9ceeca43f5fef     0   \n",
       "2  offer received  e2127556f4f64592b11af22de27a7932     0   \n",
       "5  offer received  389bc3fa690240e798340f5a15918d5c     0   \n",
       "7  offer received  2eeac8d8feae4a8cad5a6af0499a211d     0   \n",
       "8  offer received  aa4862eba776480b8bb9c68455b8c2e1     0   \n",
       "\n",
       "                                              value  \\\n",
       "0  {'offer id': '9b98b8c7a33c4b65b9aebfe6a799e6d9'}   \n",
       "2  {'offer id': '2906b810c7d4411798c6938adc9daaa5'}   \n",
       "5  {'offer id': 'f19421c1d4aa40978ebb69ca19b0e20d'}   \n",
       "7  {'offer id': '3f207df678b143eea3cee63160fa8bed'}   \n",
       "8  {'offer id': '0b1e1539f2cc45b7b9fa7c272da2e1d7'}   \n",
       "\n",
       "                           offer_id  \n",
       "0  9b98b8c7a33c4b65b9aebfe6a799e6d9  \n",
       "2  2906b810c7d4411798c6938adc9daaa5  \n",
       "5  f19421c1d4aa40978ebb69ca19b0e20d  \n",
       "7  3f207df678b143eea3cee63160fa8bed  \n",
       "8  0b1e1539f2cc45b7b9fa7c272da2e1d7  "
      ]
     },
     "execution_count": 89,
     "metadata": {},
     "output_type": "execute_result"
    }
   ],
   "source": [
    "offers_df.head()"
   ]
  },
  {
   "cell_type": "code",
   "execution_count": 90,
   "metadata": {},
   "outputs": [
    {
     "data": {
      "text/plain": [
       "array(['9b98b8c7a33c4b65b9aebfe6a799e6d9',\n",
       "       '2906b810c7d4411798c6938adc9daaa5',\n",
       "       'f19421c1d4aa40978ebb69ca19b0e20d',\n",
       "       '3f207df678b143eea3cee63160fa8bed',\n",
       "       '0b1e1539f2cc45b7b9fa7c272da2e1d7',\n",
       "       'ae264e3637204a6fb9bb56bc8210ddfd',\n",
       "       'fafdcd668e3743c1bb461111dcafc2a4',\n",
       "       '4d5c57ea9a6940dd891ad53e9dbe8da0',\n",
       "       '2298d6c36e964ae4a3e7e9706d1fb8c2',\n",
       "       '5a8bc65990b245e5a138643cd4eb9837'], dtype=object)"
      ]
     },
     "execution_count": 90,
     "metadata": {},
     "output_type": "execute_result"
    }
   ],
   "source": [
    "# Print unique offer_id in offers_df\n",
    "offers_df['offer_id'].unique()"
   ]
  },
  {
   "cell_type": "code",
   "execution_count": 91,
   "metadata": {},
   "outputs": [
    {
     "data": {
      "text/html": [
       "<div>\n",
       "<style scoped>\n",
       "    .dataframe tbody tr th:only-of-type {\n",
       "        vertical-align: middle;\n",
       "    }\n",
       "\n",
       "    .dataframe tbody tr th {\n",
       "        vertical-align: top;\n",
       "    }\n",
       "\n",
       "    .dataframe thead th {\n",
       "        text-align: right;\n",
       "    }\n",
       "</style>\n",
       "<table border=\"1\" class=\"dataframe\">\n",
       "  <thead>\n",
       "    <tr style=\"text-align: right;\">\n",
       "      <th></th>\n",
       "      <th>event</th>\n",
       "      <th>customer_id</th>\n",
       "      <th>time</th>\n",
       "      <th>value</th>\n",
       "      <th>offer_id</th>\n",
       "      <th>offer_type</th>\n",
       "    </tr>\n",
       "  </thead>\n",
       "  <tbody>\n",
       "    <tr>\n",
       "      <th>0</th>\n",
       "      <td>offer received</td>\n",
       "      <td>78afa995795e4d85b5d9ceeca43f5fef</td>\n",
       "      <td>0</td>\n",
       "      <td>{'offer id': '9b98b8c7a33c4b65b9aebfe6a799e6d9'}</td>\n",
       "      <td>9b98b8c7a33c4b65b9aebfe6a799e6d9</td>\n",
       "      <td>bogo</td>\n",
       "    </tr>\n",
       "    <tr>\n",
       "      <th>2</th>\n",
       "      <td>offer received</td>\n",
       "      <td>e2127556f4f64592b11af22de27a7932</td>\n",
       "      <td>0</td>\n",
       "      <td>{'offer id': '2906b810c7d4411798c6938adc9daaa5'}</td>\n",
       "      <td>2906b810c7d4411798c6938adc9daaa5</td>\n",
       "      <td>discount</td>\n",
       "    </tr>\n",
       "    <tr>\n",
       "      <th>5</th>\n",
       "      <td>offer received</td>\n",
       "      <td>389bc3fa690240e798340f5a15918d5c</td>\n",
       "      <td>0</td>\n",
       "      <td>{'offer id': 'f19421c1d4aa40978ebb69ca19b0e20d'}</td>\n",
       "      <td>f19421c1d4aa40978ebb69ca19b0e20d</td>\n",
       "      <td>bogo</td>\n",
       "    </tr>\n",
       "    <tr>\n",
       "      <th>7</th>\n",
       "      <td>offer received</td>\n",
       "      <td>2eeac8d8feae4a8cad5a6af0499a211d</td>\n",
       "      <td>0</td>\n",
       "      <td>{'offer id': '3f207df678b143eea3cee63160fa8bed'}</td>\n",
       "      <td>3f207df678b143eea3cee63160fa8bed</td>\n",
       "      <td>informational</td>\n",
       "    </tr>\n",
       "    <tr>\n",
       "      <th>8</th>\n",
       "      <td>offer received</td>\n",
       "      <td>aa4862eba776480b8bb9c68455b8c2e1</td>\n",
       "      <td>0</td>\n",
       "      <td>{'offer id': '0b1e1539f2cc45b7b9fa7c272da2e1d7'}</td>\n",
       "      <td>0b1e1539f2cc45b7b9fa7c272da2e1d7</td>\n",
       "      <td>discount</td>\n",
       "    </tr>\n",
       "  </tbody>\n",
       "</table>\n",
       "</div>"
      ],
      "text/plain": [
       "            event                       customer_id  time  \\\n",
       "0  offer received  78afa995795e4d85b5d9ceeca43f5fef     0   \n",
       "2  offer received  e2127556f4f64592b11af22de27a7932     0   \n",
       "5  offer received  389bc3fa690240e798340f5a15918d5c     0   \n",
       "7  offer received  2eeac8d8feae4a8cad5a6af0499a211d     0   \n",
       "8  offer received  aa4862eba776480b8bb9c68455b8c2e1     0   \n",
       "\n",
       "                                              value  \\\n",
       "0  {'offer id': '9b98b8c7a33c4b65b9aebfe6a799e6d9'}   \n",
       "2  {'offer id': '2906b810c7d4411798c6938adc9daaa5'}   \n",
       "5  {'offer id': 'f19421c1d4aa40978ebb69ca19b0e20d'}   \n",
       "7  {'offer id': '3f207df678b143eea3cee63160fa8bed'}   \n",
       "8  {'offer id': '0b1e1539f2cc45b7b9fa7c272da2e1d7'}   \n",
       "\n",
       "                           offer_id     offer_type  \n",
       "0  9b98b8c7a33c4b65b9aebfe6a799e6d9           bogo  \n",
       "2  2906b810c7d4411798c6938adc9daaa5       discount  \n",
       "5  f19421c1d4aa40978ebb69ca19b0e20d           bogo  \n",
       "7  3f207df678b143eea3cee63160fa8bed  informational  \n",
       "8  0b1e1539f2cc45b7b9fa7c272da2e1d7       discount  "
      ]
     },
     "execution_count": 91,
     "metadata": {},
     "output_type": "execute_result"
    }
   ],
   "source": [
    "# Create another column 'offer_type' with respect to feature 'offer_id'\n",
    "offers_df['offer_type'] = offers_df['offer_id'].copy()\n",
    "\n",
    "\n",
    "\n",
    "offers_df['offer_type'].replace(['ae264e3637204a6fb9bb56bc8210ddfd','4d5c57ea9a6940dd891ad53e9dbe8da0',\\\n",
    "                                 '9b98b8c7a33c4b65b9aebfe6a799e6d9','f19421c1d4aa40978ebb69ca19b0e20d'],\\\n",
    "                                 'bogo', inplace=True)\n",
    "\n",
    "offers_df['offer_type'].replace(['0b1e1539f2cc45b7b9fa7c272da2e1d7','2298d6c36e964ae4a3e7e9706d1fb8c2',\\\n",
    "                                 'fafdcd668e3743c1bb461111dcafc2a4','2906b810c7d4411798c6938adc9daaa5'],\\\n",
    "                                 'discount', inplace=True)\n",
    "\n",
    "offers_df['offer_type'].replace(['3f207df678b143eea3cee63160fa8bed','5a8bc65990b245e5a138643cd4eb9837'],\\\n",
    "                                 'informational', inplace=True)\n",
    "\n",
    "offers_df.head()"
   ]
  },
  {
   "cell_type": "code",
   "execution_count": 92,
   "metadata": {},
   "outputs": [
    {
     "data": {
      "text/plain": [
       "offer_type     event          \n",
       "bogo           offer completed    15258\n",
       "               offer received     26537\n",
       "               offer viewed       22039\n",
       "discount       offer completed    17186\n",
       "               offer received     26664\n",
       "               offer viewed       18461\n",
       "informational  offer received     13300\n",
       "               offer viewed        9360\n",
       "Name: customer_id, dtype: int64"
      ]
     },
     "execution_count": 92,
     "metadata": {},
     "output_type": "execute_result"
    }
   ],
   "source": [
    "# Calculate the count of customers by grouping offer type and event\n",
    "offers_df.groupby(['offer_type', 'event'])['customer_id'].count()"
   ]
  },
  {
   "cell_type": "markdown",
   "metadata": {},
   "source": [
    "**From above, we can observe that offer type 'bogo' and 'discount' has event 'offer received', 'offer viewed' and 'offer completed' whereas offer type 'informational' has only event 'offer received' and 'offer viewed'. Therefore, for offer type 'bogo' and 'discount', we will consider the offer as completed when there would be an event 'offer viewed' followed by 'offer completed' within the offer period whereas for offer type 'informational', we will consider it as completed when a customer makes a purchase transaction after viewing the informational offer within the offer period**."
   ]
  },
  {
   "cell_type": "code",
   "execution_count": 93,
   "metadata": {},
   "outputs": [
    {
     "data": {
      "text/html": [
       "<div>\n",
       "<style scoped>\n",
       "    .dataframe tbody tr th:only-of-type {\n",
       "        vertical-align: middle;\n",
       "    }\n",
       "\n",
       "    .dataframe tbody tr th {\n",
       "        vertical-align: top;\n",
       "    }\n",
       "\n",
       "    .dataframe thead th {\n",
       "        text-align: right;\n",
       "    }\n",
       "</style>\n",
       "<table border=\"1\" class=\"dataframe\">\n",
       "  <thead>\n",
       "    <tr style=\"text-align: right;\">\n",
       "      <th></th>\n",
       "      <th>customer_id</th>\n",
       "      <th>offer_id</th>\n",
       "      <th>time</th>\n",
       "      <th>offer_recd</th>\n",
       "      <th>offer_view</th>\n",
       "      <th>offer_comp</th>\n",
       "    </tr>\n",
       "  </thead>\n",
       "  <tbody>\n",
       "    <tr>\n",
       "      <th>0</th>\n",
       "      <td>78afa995795e4d85b5d9ceeca43f5fef</td>\n",
       "      <td>9b98b8c7a33c4b65b9aebfe6a799e6d9</td>\n",
       "      <td>0</td>\n",
       "      <td>1</td>\n",
       "      <td>0</td>\n",
       "      <td>0</td>\n",
       "    </tr>\n",
       "    <tr>\n",
       "      <th>2</th>\n",
       "      <td>e2127556f4f64592b11af22de27a7932</td>\n",
       "      <td>2906b810c7d4411798c6938adc9daaa5</td>\n",
       "      <td>0</td>\n",
       "      <td>1</td>\n",
       "      <td>0</td>\n",
       "      <td>0</td>\n",
       "    </tr>\n",
       "    <tr>\n",
       "      <th>5</th>\n",
       "      <td>389bc3fa690240e798340f5a15918d5c</td>\n",
       "      <td>f19421c1d4aa40978ebb69ca19b0e20d</td>\n",
       "      <td>0</td>\n",
       "      <td>1</td>\n",
       "      <td>0</td>\n",
       "      <td>0</td>\n",
       "    </tr>\n",
       "    <tr>\n",
       "      <th>7</th>\n",
       "      <td>2eeac8d8feae4a8cad5a6af0499a211d</td>\n",
       "      <td>3f207df678b143eea3cee63160fa8bed</td>\n",
       "      <td>0</td>\n",
       "      <td>1</td>\n",
       "      <td>0</td>\n",
       "      <td>0</td>\n",
       "    </tr>\n",
       "    <tr>\n",
       "      <th>8</th>\n",
       "      <td>aa4862eba776480b8bb9c68455b8c2e1</td>\n",
       "      <td>0b1e1539f2cc45b7b9fa7c272da2e1d7</td>\n",
       "      <td>0</td>\n",
       "      <td>1</td>\n",
       "      <td>0</td>\n",
       "      <td>0</td>\n",
       "    </tr>\n",
       "  </tbody>\n",
       "</table>\n",
       "</div>"
      ],
      "text/plain": [
       "                        customer_id                          offer_id  time  \\\n",
       "0  78afa995795e4d85b5d9ceeca43f5fef  9b98b8c7a33c4b65b9aebfe6a799e6d9     0   \n",
       "2  e2127556f4f64592b11af22de27a7932  2906b810c7d4411798c6938adc9daaa5     0   \n",
       "5  389bc3fa690240e798340f5a15918d5c  f19421c1d4aa40978ebb69ca19b0e20d     0   \n",
       "7  2eeac8d8feae4a8cad5a6af0499a211d  3f207df678b143eea3cee63160fa8bed     0   \n",
       "8  aa4862eba776480b8bb9c68455b8c2e1  0b1e1539f2cc45b7b9fa7c272da2e1d7     0   \n",
       "\n",
       "   offer_recd  offer_view  offer_comp  \n",
       "0           1           0           0  \n",
       "2           1           0           0  \n",
       "5           1           0           0  \n",
       "7           1           0           0  \n",
       "8           1           0           0  "
      ]
     },
     "execution_count": 93,
     "metadata": {},
     "output_type": "execute_result"
    }
   ],
   "source": [
    "# Transform offers_df\n",
    "# Drop feature value as it is not required now and drop feature offer_type as that information is also in portfolio dataframe\n",
    "# as well\n",
    "offers_df.drop(columns=['value', 'offer_type'], inplace=True)\n",
    "\n",
    "# OneHotEncoding feature 'income_by_range'\n",
    "offers_df = pd.get_dummies(offers_df, columns=['event'], prefix='', prefix_sep='')\n",
    "\n",
    "# Change column names\n",
    "offers_df.rename(columns = {'offer received': 'offer_recd',\n",
    "                            'offer viewed': 'offer_view',\n",
    "                            'offer completed': 'offer_comp'}, inplace=True)\n",
    "\n",
    "# Re-order columns of offers_df dataframe\n",
    "offers_df_col_order = ['customer_id', 'offer_id', 'time', 'offer_recd', 'offer_view', 'offer_comp']\n",
    "\n",
    "offers_df = offers_df.reindex(offers_df_col_order, axis=1)\n",
    "offers_df.head()"
   ]
  },
  {
   "cell_type": "code",
   "execution_count": 94,
   "metadata": {},
   "outputs": [
    {
     "data": {
      "text/html": [
       "<div>\n",
       "<style scoped>\n",
       "    .dataframe tbody tr th:only-of-type {\n",
       "        vertical-align: middle;\n",
       "    }\n",
       "\n",
       "    .dataframe tbody tr th {\n",
       "        vertical-align: top;\n",
       "    }\n",
       "\n",
       "    .dataframe thead th {\n",
       "        text-align: right;\n",
       "    }\n",
       "</style>\n",
       "<table border=\"1\" class=\"dataframe\">\n",
       "  <thead>\n",
       "    <tr style=\"text-align: right;\">\n",
       "      <th></th>\n",
       "      <th>customer_id</th>\n",
       "      <th>time</th>\n",
       "      <th>amount</th>\n",
       "    </tr>\n",
       "  </thead>\n",
       "  <tbody>\n",
       "    <tr>\n",
       "      <th>12654</th>\n",
       "      <td>02c083884c7d45b39cc68e1314fec56c</td>\n",
       "      <td>0</td>\n",
       "      <td>0.83</td>\n",
       "    </tr>\n",
       "    <tr>\n",
       "      <th>12657</th>\n",
       "      <td>9fa9ae8f57894cc9a3b8a9bbe0fc1b2f</td>\n",
       "      <td>0</td>\n",
       "      <td>34.56</td>\n",
       "    </tr>\n",
       "    <tr>\n",
       "      <th>12659</th>\n",
       "      <td>54890f68699049c2a04d415abc25e717</td>\n",
       "      <td>0</td>\n",
       "      <td>13.23</td>\n",
       "    </tr>\n",
       "    <tr>\n",
       "      <th>12670</th>\n",
       "      <td>b2f1cd155b864803ad8334cdf13c4bd2</td>\n",
       "      <td>0</td>\n",
       "      <td>19.51</td>\n",
       "    </tr>\n",
       "    <tr>\n",
       "      <th>12671</th>\n",
       "      <td>fe97aa22dd3e48c8b143116a8403dd52</td>\n",
       "      <td>0</td>\n",
       "      <td>18.97</td>\n",
       "    </tr>\n",
       "  </tbody>\n",
       "</table>\n",
       "</div>"
      ],
      "text/plain": [
       "                            customer_id  time  amount\n",
       "12654  02c083884c7d45b39cc68e1314fec56c     0    0.83\n",
       "12657  9fa9ae8f57894cc9a3b8a9bbe0fc1b2f     0   34.56\n",
       "12659  54890f68699049c2a04d415abc25e717     0   13.23\n",
       "12670  b2f1cd155b864803ad8334cdf13c4bd2     0   19.51\n",
       "12671  fe97aa22dd3e48c8b143116a8403dd52     0   18.97"
      ]
     },
     "execution_count": 94,
     "metadata": {},
     "output_type": "execute_result"
    }
   ],
   "source": [
    "# Transform transaction_df\n",
    "# Create column 'amount'\n",
    "transaction_df.loc[:,'amount'] = transaction_df['value'].apply(lambda x: x['amount'])\n",
    "\n",
    "# Drop feature 'event' & 'value'\n",
    "transaction_df.drop(columns=['event', 'value'], inplace=True)\n",
    "transaction_df.head()"
   ]
  },
  {
   "cell_type": "markdown",
   "metadata": {},
   "source": [
    "## Combine transaction, demographic and offer data"
   ]
  },
  {
   "cell_type": "code",
   "execution_count": 95,
   "metadata": {},
   "outputs": [
    {
     "name": "stdout",
     "output_type": "stream",
     "text": [
      "Collecting progressbar\n",
      "  Downloading https://files.pythonhosted.org/packages/a3/a6/b8e451f6cff1c99b4747a2f7235aa904d2d49e8e1464e0b798272aa84358/progressbar-2.5.tar.gz\n",
      "Building wheels for collected packages: progressbar\n",
      "  Running setup.py bdist_wheel for progressbar ... \u001b[?25ldone\n",
      "\u001b[?25h  Stored in directory: /root/.cache/pip/wheels/c0/e9/6b/ea01090205e285175842339aa3b491adeb4015206cda272ff0\n",
      "Successfully built progressbar\n",
      "Installing collected packages: progressbar\n",
      "Successfully installed progressbar-2.5\n"
     ]
    }
   ],
   "source": [
    "# Install progressbar in the current Jupyter kernel with pip install\n",
    "import sys\n",
    "!{sys.executable} -m pip install progressbar\n",
    "from progressbar import ProgressBar, Percentage, Bar, RotatingMarker, ETA, FileTransferSpeed"
   ]
  },
  {
   "cell_type": "code",
   "execution_count": 96,
   "metadata": {},
   "outputs": [],
   "source": [
    "# Create function to combine transaction, demographic and offer data\n",
    "def create_combined_data(portfolio, profile, offers_df, transaction_df, combined_data_path='./data/combined_data.csv'):\n",
    "    '''Create a combined dataframe from the transaction, demographic and offer data:\n",
    "    INPUT:\n",
    "        portfolio - (dataframe),offer metadata\n",
    "        profile - (dataframe),customer demographic data\n",
    "        offers_df - (dataframe), offers data for customers\n",
    "        transaction_df - (dataframe), transaction data for customers\n",
    "        combined_data_path - (filepath), path of a .csv file\n",
    "    OUTPUT:\n",
    "        combined_data_df - (dataframe),combined data from transaction, demographic and offer data\n",
    "    '''\n",
    "    if os.path.exists(combined_data_path):\n",
    "        print('Reading combined data .csv file')\n",
    "        combined_data_df = pd.read_csv(combined_data_path)\n",
    "        return combined_data_df\n",
    "    else:\n",
    "        combined_data = [] # Initialize empty list for combined data\n",
    "        customer_id_list = offers_df['customer_id'].unique().tolist() # List of unique customers in offers_df\n",
    "        \n",
    "        # Create widget for progress bar\n",
    "        widgets = [Percentage(), ' ', Bar(marker=RotatingMarker()), ' ', ETA(), ' ', FileTransferSpeed()]\n",
    "        # Create and start progressbar\n",
    "        pbar = ProgressBar(widgets=widgets, maxval=len(customer_id_list)).start()\n",
    "\n",
    "        # Iterate over each customer\n",
    "        for idx,cust_id in enumerate(customer_id_list):\n",
    "            # Select a specific customer profile\n",
    "            cust_profile = profile[profile['customer_id'] == cust_id] \n",
    "            # Select offers for a specific customer\n",
    "            cust_offers_df = offers_df[offers_df['customer_id'] == cust_id]\n",
    "            # Select transactions for a specific customer\n",
    "            cust_transaction_df = transaction_df[transaction_df['customer_id'] == cust_id]\n",
    "            # Select offers received by a specific customer\n",
    "            cust_offers_recd_df = cust_offers_df[cust_offers_df['offer_recd'] == 1]\n",
    "            # Select offers viewed by a specific customer\n",
    "            cust_offers_view_df = cust_offers_df[cust_offers_df['offer_view'] == 1]\n",
    "            # Select offers completed by a specific customer\n",
    "            cust_offers_comp_df = cust_offers_df[cust_offers_df['offer_comp'] == 1]\n",
    "            \n",
    "            # Iterate over each offer received by a customer\n",
    "            cust_offers_response = [] # Initialize empty list for a customer records\n",
    "            \n",
    "            for off_id in cust_offers_recd_df['offer_id'].values.tolist():\n",
    "                # Look-up duration of a particular offer_id\n",
    "                duration = portfolio.loc[portfolio['offer_id'] == off_id, 'duration'].values[0]\n",
    "                # Look-up the time when offer was received\n",
    "                off_recd_time = cust_offers_recd_df.loc[cust_offers_recd_df['offer_id'] == off_id, 'time'].values[0]\n",
    "                # Calculate the time when the offer end\n",
    "                off_end_time = off_recd_time + duration\n",
    "                #Initialize a boolean array that determines if the customer viewed an offer between offer period\n",
    "                offers_viewed = np.logical_and(cust_offers_view_df['time'] >= off_recd_time,\\\n",
    "                                               cust_offers_view_df['time'] <= off_end_time)\n",
    "                \n",
    "                # Check if the offer type is 'bogo' or 'discount'\n",
    "                if (portfolio[portfolio['offer_id'] == off_id]['bogo'].values[0] == 1 or\\\n",
    "                    portfolio[portfolio['offer_id'] == off_id]['discount'].values[0] == 1):\n",
    "                    #Initialize a boolean array that determines if the customer completed an offer between offer period\n",
    "                    offers_comp = np.logical_and(cust_offers_comp_df['time'] >= off_recd_time,\\\n",
    "                                                 cust_offers_comp_df['time'] <= off_end_time)\n",
    "                    \n",
    "                    #Initialize a boolean array that selects customer transctions between offer period\n",
    "                    cust_tran_within_period = cust_transaction_df[np.logical_and(cust_transaction_df['time'] >= off_recd_time,\\\n",
    "                                                                                 cust_transaction_df['time'] <= off_end_time)]\n",
    "                    \n",
    "                    # Determine if the customer responded to an offer(bogo or discount) or not\n",
    "                    cust_response = np.logical_and(offers_viewed.sum() > 0, offers_comp.sum() > 0) and\\\n",
    "                                                    (cust_tran_within_period['amount'].sum() >=\\\n",
    "                                                     portfolio[portfolio['offer_id'] == off_id]['difficulty'].values[0])\n",
    "                \n",
    "                # Check if the offer type is 'informational'\n",
    "                elif portfolio[portfolio['offer_id'] == off_id]['informational'].values[0] == 1:\n",
    "                    #Initialize a boolean array that determines if the customer made any transctions between offer period\n",
    "                    cust_info_tran = np.logical_and(cust_transaction_df['time'] >= off_recd_time,\\\n",
    "                                                    cust_transaction_df['time'] <= off_end_time)                   \n",
    "                    \n",
    "                    # Determine if the customer responded to an offer(informational) or not\n",
    "                    cust_response = offers_viewed.sum() > 0 and cust_info_tran.sum() > 0                  \n",
    "                \n",
    "                    #Initialize a boolean array that selects customer transctions between offer period\n",
    "                    cust_tran_within_period = cust_transaction_df[np.logical_and(cust_transaction_df['time'] >= off_recd_time,\\\n",
    "                                                                                 cust_transaction_df['time'] <= off_end_time)]\n",
    "                \n",
    "                # Initialize a dictionary for a customer with required information for a particular offer\n",
    "                cust_rec = {'cust_response': int(cust_response),\n",
    "                            'time': off_recd_time,\n",
    "                            'total_amount': cust_tran_within_period['amount'].sum()}\n",
    "                cust_rec.update(profile[profile['customer_id'] == cust_id].squeeze().to_dict())\n",
    "                cust_rec.update(portfolio[portfolio['offer_id'] == off_id].squeeze().to_dict())\n",
    "                \n",
    "                # Add the dictionary to list for combined_data\n",
    "                cust_offers_response.append(cust_rec)\n",
    "            \n",
    "            # Add the dictionaries from cust_offers_response list to combined_data list\n",
    "            combined_data.extend(cust_offers_response)\n",
    "            \n",
    "            # Update progressbar\n",
    "            pbar.update(idx+1)\n",
    "        \n",
    "        # Convert combined_data list to dataframe\n",
    "        combined_data_df = pd.DataFrame(combined_data)\n",
    "        \n",
    "        # Re-order columns of combined_data_df\n",
    "        combined_data_df_col_order = ['customer_id', 'offer_id', 'time']\n",
    "#        combined_data_df_col_order = ['customer_id', 'offer_id', 'time', 'difficulty', 'duration', 'reward', 'bogo',\\\n",
    "#                                      'discount', 'informational', 'web', 'email', 'mobile', 'social', 'membership_tenure',\\\n",
    "#                                      'F', 'M', 'O', 'age_10s', 'age_20s', 'age_30s', 'age_40s', 'age_50s', 'age_60s',\\\n",
    "#                                      'age_70s', 'age_80s', 'age_90s', 'age_100s', '2013', '2014', '2015', '2016', '2017',\\\n",
    "#                                      '2018', 'month_1', 'month_2', 'month_3', 'month_4', 'month_5', 'month_6', 'month_7',\\\n",
    "#                                      'month_8', 'month_9', 'month_10', 'month_11', 'month_12', 'income_30ths',\\\n",
    "#                                      'income_40ths', 'income_50ths', 'income_60ths', 'income_70ths', 'income_80ths',\\\n",
    "#                                      'income_90ths', 'income_100ths', 'income_110ths', 'income_120ths',\\\n",
    "#                                      'total_amount', 'cust_response']\n",
    "        port_ls = portfolio.columns.tolist()\n",
    "        port_ls.remove('offer_id')\n",
    "        pro_ls = profile.columns.tolist()\n",
    "        pro_ls.remove('customer_id')\n",
    "        combined_data_df_col_order.extend(port_ls)\n",
    "        combined_data_df_col_order.extend(pro_ls)\n",
    "        combined_data_df_col_order.extend(['total_amount', 'cust_response'])\n",
    "        \n",
    "        combined_data_df = combined_data_df.reindex(combined_data_df_col_order, axis=1)\n",
    "        \n",
    "        # Finish progressbar\n",
    "        pbar.finish()\n",
    "        \n",
    "        # Write combined_data_df to .csv file\n",
    "        print('Saving combined_data_df to .csv file')\n",
    "        combined_data_df.to_csv(combined_data_path, index=False)\n",
    "        \n",
    "        return combined_data_df"
   ]
  },
  {
   "cell_type": "code",
   "execution_count": 97,
   "metadata": {},
   "outputs": [
    {
     "name": "stdout",
     "output_type": "stream",
     "text": [
      "Reading combined data .csv file\n"
     ]
    }
   ],
   "source": [
    "# Prepare Combined data from transaction, demographic and offer data\n",
    "combined_data_df = create_combined_data(portfolio, profile, offers_df, transaction_df,\\\n",
    "                                        combined_data_path='./data/combined_data.csv')"
   ]
  },
  {
   "cell_type": "code",
   "execution_count": 98,
   "metadata": {},
   "outputs": [
    {
     "data": {
      "text/plain": [
       "pandas.core.frame.DataFrame"
      ]
     },
     "execution_count": 98,
     "metadata": {},
     "output_type": "execute_result"
    }
   ],
   "source": [
    "type(combined_data_df)"
   ]
  },
  {
   "cell_type": "code",
   "execution_count": 99,
   "metadata": {},
   "outputs": [
    {
     "data": {
      "text/html": [
       "<div>\n",
       "<style scoped>\n",
       "    .dataframe tbody tr th:only-of-type {\n",
       "        vertical-align: middle;\n",
       "    }\n",
       "\n",
       "    .dataframe tbody tr th {\n",
       "        vertical-align: top;\n",
       "    }\n",
       "\n",
       "    .dataframe thead th {\n",
       "        text-align: right;\n",
       "    }\n",
       "</style>\n",
       "<table border=\"1\" class=\"dataframe\">\n",
       "  <thead>\n",
       "    <tr style=\"text-align: right;\">\n",
       "      <th></th>\n",
       "      <th>customer_id</th>\n",
       "      <th>offer_id</th>\n",
       "      <th>time</th>\n",
       "      <th>difficulty</th>\n",
       "      <th>duration</th>\n",
       "      <th>reward</th>\n",
       "      <th>bogo</th>\n",
       "      <th>discount</th>\n",
       "      <th>informational</th>\n",
       "      <th>web</th>\n",
       "      <th>...</th>\n",
       "      <th>income_50ths</th>\n",
       "      <th>income_60ths</th>\n",
       "      <th>income_70ths</th>\n",
       "      <th>income_80ths</th>\n",
       "      <th>income_90ths</th>\n",
       "      <th>income_100ths</th>\n",
       "      <th>income_110ths</th>\n",
       "      <th>income_120ths</th>\n",
       "      <th>total_amount</th>\n",
       "      <th>cust_response</th>\n",
       "    </tr>\n",
       "  </thead>\n",
       "  <tbody>\n",
       "    <tr>\n",
       "      <th>0</th>\n",
       "      <td>78afa995795e4d85b5d9ceeca43f5fef</td>\n",
       "      <td>9b98b8c7a33c4b65b9aebfe6a799e6d9</td>\n",
       "      <td>0</td>\n",
       "      <td>5</td>\n",
       "      <td>168</td>\n",
       "      <td>5</td>\n",
       "      <td>1</td>\n",
       "      <td>0</td>\n",
       "      <td>0</td>\n",
       "      <td>1</td>\n",
       "      <td>...</td>\n",
       "      <td>0</td>\n",
       "      <td>0</td>\n",
       "      <td>0</td>\n",
       "      <td>0</td>\n",
       "      <td>0</td>\n",
       "      <td>1</td>\n",
       "      <td>0</td>\n",
       "      <td>0</td>\n",
       "      <td>37.67</td>\n",
       "      <td>1</td>\n",
       "    </tr>\n",
       "    <tr>\n",
       "      <th>1</th>\n",
       "      <td>78afa995795e4d85b5d9ceeca43f5fef</td>\n",
       "      <td>5a8bc65990b245e5a138643cd4eb9837</td>\n",
       "      <td>168</td>\n",
       "      <td>0</td>\n",
       "      <td>72</td>\n",
       "      <td>0</td>\n",
       "      <td>0</td>\n",
       "      <td>0</td>\n",
       "      <td>1</td>\n",
       "      <td>0</td>\n",
       "      <td>...</td>\n",
       "      <td>0</td>\n",
       "      <td>0</td>\n",
       "      <td>0</td>\n",
       "      <td>0</td>\n",
       "      <td>0</td>\n",
       "      <td>1</td>\n",
       "      <td>0</td>\n",
       "      <td>0</td>\n",
       "      <td>49.39</td>\n",
       "      <td>1</td>\n",
       "    </tr>\n",
       "    <tr>\n",
       "      <th>2</th>\n",
       "      <td>78afa995795e4d85b5d9ceeca43f5fef</td>\n",
       "      <td>ae264e3637204a6fb9bb56bc8210ddfd</td>\n",
       "      <td>408</td>\n",
       "      <td>10</td>\n",
       "      <td>168</td>\n",
       "      <td>10</td>\n",
       "      <td>1</td>\n",
       "      <td>0</td>\n",
       "      <td>0</td>\n",
       "      <td>0</td>\n",
       "      <td>...</td>\n",
       "      <td>0</td>\n",
       "      <td>0</td>\n",
       "      <td>0</td>\n",
       "      <td>0</td>\n",
       "      <td>0</td>\n",
       "      <td>1</td>\n",
       "      <td>0</td>\n",
       "      <td>0</td>\n",
       "      <td>48.28</td>\n",
       "      <td>1</td>\n",
       "    </tr>\n",
       "    <tr>\n",
       "      <th>3</th>\n",
       "      <td>78afa995795e4d85b5d9ceeca43f5fef</td>\n",
       "      <td>f19421c1d4aa40978ebb69ca19b0e20d</td>\n",
       "      <td>504</td>\n",
       "      <td>5</td>\n",
       "      <td>120</td>\n",
       "      <td>5</td>\n",
       "      <td>1</td>\n",
       "      <td>0</td>\n",
       "      <td>0</td>\n",
       "      <td>1</td>\n",
       "      <td>...</td>\n",
       "      <td>0</td>\n",
       "      <td>0</td>\n",
       "      <td>0</td>\n",
       "      <td>0</td>\n",
       "      <td>0</td>\n",
       "      <td>1</td>\n",
       "      <td>0</td>\n",
       "      <td>0</td>\n",
       "      <td>48.28</td>\n",
       "      <td>1</td>\n",
       "    </tr>\n",
       "    <tr>\n",
       "      <th>4</th>\n",
       "      <td>e2127556f4f64592b11af22de27a7932</td>\n",
       "      <td>2906b810c7d4411798c6938adc9daaa5</td>\n",
       "      <td>0</td>\n",
       "      <td>10</td>\n",
       "      <td>168</td>\n",
       "      <td>2</td>\n",
       "      <td>0</td>\n",
       "      <td>1</td>\n",
       "      <td>0</td>\n",
       "      <td>1</td>\n",
       "      <td>...</td>\n",
       "      <td>0</td>\n",
       "      <td>0</td>\n",
       "      <td>1</td>\n",
       "      <td>0</td>\n",
       "      <td>0</td>\n",
       "      <td>0</td>\n",
       "      <td>0</td>\n",
       "      <td>0</td>\n",
       "      <td>0.00</td>\n",
       "      <td>0</td>\n",
       "    </tr>\n",
       "  </tbody>\n",
       "</table>\n",
       "<p>5 rows × 57 columns</p>\n",
       "</div>"
      ],
      "text/plain": [
       "                        customer_id                          offer_id  time  \\\n",
       "0  78afa995795e4d85b5d9ceeca43f5fef  9b98b8c7a33c4b65b9aebfe6a799e6d9     0   \n",
       "1  78afa995795e4d85b5d9ceeca43f5fef  5a8bc65990b245e5a138643cd4eb9837   168   \n",
       "2  78afa995795e4d85b5d9ceeca43f5fef  ae264e3637204a6fb9bb56bc8210ddfd   408   \n",
       "3  78afa995795e4d85b5d9ceeca43f5fef  f19421c1d4aa40978ebb69ca19b0e20d   504   \n",
       "4  e2127556f4f64592b11af22de27a7932  2906b810c7d4411798c6938adc9daaa5     0   \n",
       "\n",
       "   difficulty  duration  reward  bogo  discount  informational  web  \\\n",
       "0           5       168       5     1         0              0    1   \n",
       "1           0        72       0     0         0              1    0   \n",
       "2          10       168      10     1         0              0    0   \n",
       "3           5       120       5     1         0              0    1   \n",
       "4          10       168       2     0         1              0    1   \n",
       "\n",
       "       ...        income_50ths  income_60ths  income_70ths  income_80ths  \\\n",
       "0      ...                   0             0             0             0   \n",
       "1      ...                   0             0             0             0   \n",
       "2      ...                   0             0             0             0   \n",
       "3      ...                   0             0             0             0   \n",
       "4      ...                   0             0             1             0   \n",
       "\n",
       "   income_90ths  income_100ths  income_110ths  income_120ths  total_amount  \\\n",
       "0             0              1              0              0         37.67   \n",
       "1             0              1              0              0         49.39   \n",
       "2             0              1              0              0         48.28   \n",
       "3             0              1              0              0         48.28   \n",
       "4             0              0              0              0          0.00   \n",
       "\n",
       "   cust_response  \n",
       "0              1  \n",
       "1              1  \n",
       "2              1  \n",
       "3              1  \n",
       "4              0  \n",
       "\n",
       "[5 rows x 57 columns]"
      ]
     },
     "execution_count": 99,
     "metadata": {},
     "output_type": "execute_result"
    }
   ],
   "source": [
    "combined_data_df.head()"
   ]
  },
  {
   "cell_type": "code",
   "execution_count": 100,
   "metadata": {},
   "outputs": [
    {
     "data": {
      "text/plain": [
       "Index(['customer_id', 'offer_id', 'time', 'difficulty', 'duration', 'reward',\n",
       "       'bogo', 'discount', 'informational', 'web', 'email', 'mobile', 'social',\n",
       "       'membership_tenure', 'F', 'M', 'O', 'age_10s', 'age_20s', 'age_30s',\n",
       "       'age_40s', 'age_50s', 'age_60s', 'age_70s', 'age_80s', 'age_90s',\n",
       "       'age_100s', '2013', '2014', '2015', '2016', '2017', '2018', 'month_1',\n",
       "       'month_2', 'month_3', 'month_4', 'month_5', 'month_6', 'month_7',\n",
       "       'month_8', 'month_9', 'month_10', 'month_11', 'month_12',\n",
       "       'income_30ths', 'income_40ths', 'income_50ths', 'income_60ths',\n",
       "       'income_70ths', 'income_80ths', 'income_90ths', 'income_100ths',\n",
       "       'income_110ths', 'income_120ths', 'total_amount', 'cust_response'],\n",
       "      dtype='object')"
      ]
     },
     "execution_count": 100,
     "metadata": {},
     "output_type": "execute_result"
    }
   ],
   "source": [
    "# Print features of combined_data_df dataframe\n",
    "combined_data_df.columns"
   ]
  },
  {
   "cell_type": "markdown",
   "metadata": {},
   "source": [
    "### Analyze Offer Response Rate"
   ]
  },
  {
   "cell_type": "code",
   "execution_count": 101,
   "metadata": {},
   "outputs": [
    {
     "data": {
      "text/html": [
       "<div>\n",
       "<style scoped>\n",
       "    .dataframe tbody tr th:only-of-type {\n",
       "        vertical-align: middle;\n",
       "    }\n",
       "\n",
       "    .dataframe tbody tr th {\n",
       "        vertical-align: top;\n",
       "    }\n",
       "\n",
       "    .dataframe thead th {\n",
       "        text-align: right;\n",
       "    }\n",
       "</style>\n",
       "<table border=\"1\" class=\"dataframe\">\n",
       "  <thead>\n",
       "    <tr style=\"text-align: right;\">\n",
       "      <th></th>\n",
       "      <th>offer_id</th>\n",
       "      <th>count</th>\n",
       "      <th>response_rate</th>\n",
       "      <th>offer_type</th>\n",
       "    </tr>\n",
       "  </thead>\n",
       "  <tbody>\n",
       "    <tr>\n",
       "      <th>9</th>\n",
       "      <td>fafdcd668e3743c1bb461111dcafc2a4</td>\n",
       "      <td>6652</td>\n",
       "      <td>75.20</td>\n",
       "      <td>discount</td>\n",
       "    </tr>\n",
       "    <tr>\n",
       "      <th>1</th>\n",
       "      <td>2298d6c36e964ae4a3e7e9706d1fb8c2</td>\n",
       "      <td>6655</td>\n",
       "      <td>72.28</td>\n",
       "      <td>discount</td>\n",
       "    </tr>\n",
       "    <tr>\n",
       "      <th>8</th>\n",
       "      <td>f19421c1d4aa40978ebb69ca19b0e20d</td>\n",
       "      <td>6576</td>\n",
       "      <td>60.74</td>\n",
       "      <td>bogo</td>\n",
       "    </tr>\n",
       "    <tr>\n",
       "      <th>5</th>\n",
       "      <td>5a8bc65990b245e5a138643cd4eb9837</td>\n",
       "      <td>6643</td>\n",
       "      <td>54.72</td>\n",
       "      <td>informational</td>\n",
       "    </tr>\n",
       "    <tr>\n",
       "      <th>7</th>\n",
       "      <td>ae264e3637204a6fb9bb56bc8210ddfd</td>\n",
       "      <td>6683</td>\n",
       "      <td>53.25</td>\n",
       "      <td>bogo</td>\n",
       "    </tr>\n",
       "    <tr>\n",
       "      <th>4</th>\n",
       "      <td>4d5c57ea9a6940dd891ad53e9dbe8da0</td>\n",
       "      <td>6593</td>\n",
       "      <td>49.98</td>\n",
       "      <td>bogo</td>\n",
       "    </tr>\n",
       "    <tr>\n",
       "      <th>2</th>\n",
       "      <td>2906b810c7d4411798c6938adc9daaa5</td>\n",
       "      <td>6631</td>\n",
       "      <td>47.29</td>\n",
       "      <td>discount</td>\n",
       "    </tr>\n",
       "    <tr>\n",
       "      <th>6</th>\n",
       "      <td>9b98b8c7a33c4b65b9aebfe6a799e6d9</td>\n",
       "      <td>6685</td>\n",
       "      <td>47.28</td>\n",
       "      <td>bogo</td>\n",
       "    </tr>\n",
       "    <tr>\n",
       "      <th>0</th>\n",
       "      <td>0b1e1539f2cc45b7b9fa7c272da2e1d7</td>\n",
       "      <td>6726</td>\n",
       "      <td>41.85</td>\n",
       "      <td>discount</td>\n",
       "    </tr>\n",
       "    <tr>\n",
       "      <th>3</th>\n",
       "      <td>3f207df678b143eea3cee63160fa8bed</td>\n",
       "      <td>6657</td>\n",
       "      <td>36.76</td>\n",
       "      <td>informational</td>\n",
       "    </tr>\n",
       "  </tbody>\n",
       "</table>\n",
       "</div>"
      ],
      "text/plain": [
       "                           offer_id  count  response_rate     offer_type\n",
       "9  fafdcd668e3743c1bb461111dcafc2a4   6652          75.20       discount\n",
       "1  2298d6c36e964ae4a3e7e9706d1fb8c2   6655          72.28       discount\n",
       "8  f19421c1d4aa40978ebb69ca19b0e20d   6576          60.74           bogo\n",
       "5  5a8bc65990b245e5a138643cd4eb9837   6643          54.72  informational\n",
       "7  ae264e3637204a6fb9bb56bc8210ddfd   6683          53.25           bogo\n",
       "4  4d5c57ea9a6940dd891ad53e9dbe8da0   6593          49.98           bogo\n",
       "2  2906b810c7d4411798c6938adc9daaa5   6631          47.29       discount\n",
       "6  9b98b8c7a33c4b65b9aebfe6a799e6d9   6685          47.28           bogo\n",
       "0  0b1e1539f2cc45b7b9fa7c272da2e1d7   6726          41.85       discount\n",
       "3  3f207df678b143eea3cee63160fa8bed   6657          36.76  informational"
      ]
     },
     "execution_count": 101,
     "metadata": {},
     "output_type": "execute_result"
    }
   ],
   "source": [
    "# Create dataframe offer_response for distribution of offer_id, response_rate and offer_type\n",
    "offer_response = combined_data_df.groupby(['offer_id'])['cust_response'].count().reset_index()\n",
    "offer_response.rename(columns={'cust_response': 'count'}, inplace=True)\n",
    "response_rate = combined_data_df.groupby(['offer_id'])['cust_response'].sum()/\\\n",
    "                combined_data_df.groupby(['offer_id'])['cust_response'].count()\n",
    "np.round(response_rate.values*100,2)\n",
    "offer_response['response_rate'] = np.round(response_rate.values*100,2)                                  \n",
    "offer_response['offer_type'] = offer_response['offer_id'].map({'ae264e3637204a6fb9bb56bc8210ddfd': 'bogo',\\\n",
    "                                                               '4d5c57ea9a6940dd891ad53e9dbe8da0': 'bogo',\\\n",
    "                                                               '3f207df678b143eea3cee63160fa8bed': 'informational',\\\n",
    "                                                               '9b98b8c7a33c4b65b9aebfe6a799e6d9': 'bogo',\\\n",
    "                                                               '0b1e1539f2cc45b7b9fa7c272da2e1d7': 'discount',\\\n",
    "                                                               '2298d6c36e964ae4a3e7e9706d1fb8c2': 'discount',\\\n",
    "                                                               'fafdcd668e3743c1bb461111dcafc2a4': 'discount',\\\n",
    "                                                               '5a8bc65990b245e5a138643cd4eb9837': 'informational',\\\n",
    "                                                               'f19421c1d4aa40978ebb69ca19b0e20d': 'bogo',\\\n",
    "                                                               '2906b810c7d4411798c6938adc9daaa5': 'discount'})\n",
    "\n",
    "offer_response.sort_values(by=['response_rate'], ascending=False)"
   ]
  },
  {
   "cell_type": "code",
   "execution_count": 102,
   "metadata": {},
   "outputs": [
    {
     "data": {
      "image/png": "[encoded data removed]",
      "text/plain": [
       "<matplotlib.figure.Figure at 0x7fa7f96e40b8>"
      ]
     },
     "metadata": {
      "needs_background": "light"
     },
     "output_type": "display_data"
    }
   ],
   "source": [
    "# Plot distribution of offer_id \n",
    "combined_data_df.groupby(['offer_id'])['cust_response'].count().sort_values(ascending=True).plot.barh(figsize=(10,6),\\\n",
    "                                                                                                    fontsize=12,color='teal');\n",
    "plt.xlabel('Count', fontsize=18)\n",
    "plt.ylabel('offer_id', fontsize=18)\n",
    "plt.title('Distribution of offer_id', fontsize=18)\n",
    "plt.show()"
   ]
  },
  {
   "cell_type": "markdown",
   "metadata": {},
   "source": [
    "**From above, we can observe that the distribution of offers sent to customers are nearly and distribution is uniform**."
   ]
  },
  {
   "cell_type": "code",
   "execution_count": 103,
   "metadata": {},
   "outputs": [
    {
     "data": {
      "image/png": "[encoded data removed]",
      "text/plain": [
       "<matplotlib.figure.Figure at 0x7fa7f94c3be0>"
      ]
     },
     "metadata": {
      "needs_background": "light"
     },
     "output_type": "display_data"
    }
   ],
   "source": [
    "# Plot distribution of response_rate\n",
    "response_rate.sort_values(ascending=True).plot.barh(figsize=(10,6), fontsize=12,color='teal');\n",
    "plt.xlabel('Percentage', fontsize=18)\n",
    "plt.ylabel('offer_id', fontsize=18)\n",
    "plt.title('Response Rate of offer_id', fontsize=18)\n",
    "plt.show()"
   ]
  },
  {
   "cell_type": "markdown",
   "metadata": {},
   "source": [
    "**From above, we can observe that offer with offer_id as fafdcd668e3743c1bb461111dcafc2a4 having offer type as 'discount' got the highest response from customers with 76% response rate whereas offer with offer_id as 3f207df678b143eea3cee63160fa8bed with offer type as 'informational' got the lowest response from the customers with 37% response rate**."
   ]
  },
  {
   "cell_type": "code",
   "execution_count": 104,
   "metadata": {},
   "outputs": [
    {
     "data": {
      "text/html": [
       "<div>\n",
       "<style scoped>\n",
       "    .dataframe tbody tr th:only-of-type {\n",
       "        vertical-align: middle;\n",
       "    }\n",
       "\n",
       "    .dataframe tbody tr th {\n",
       "        vertical-align: top;\n",
       "    }\n",
       "\n",
       "    .dataframe thead th {\n",
       "        text-align: right;\n",
       "    }\n",
       "</style>\n",
       "<table border=\"1\" class=\"dataframe\">\n",
       "  <thead>\n",
       "    <tr style=\"text-align: right;\">\n",
       "      <th></th>\n",
       "      <th>offer_id</th>\n",
       "      <th>difficulty</th>\n",
       "      <th>duration</th>\n",
       "      <th>reward</th>\n",
       "      <th>bogo</th>\n",
       "      <th>discount</th>\n",
       "      <th>informational</th>\n",
       "      <th>web</th>\n",
       "      <th>email</th>\n",
       "      <th>mobile</th>\n",
       "      <th>social</th>\n",
       "    </tr>\n",
       "  </thead>\n",
       "  <tbody>\n",
       "    <tr>\n",
       "      <th>6</th>\n",
       "      <td>fafdcd668e3743c1bb461111dcafc2a4</td>\n",
       "      <td>10</td>\n",
       "      <td>240</td>\n",
       "      <td>2</td>\n",
       "      <td>0</td>\n",
       "      <td>1</td>\n",
       "      <td>0</td>\n",
       "      <td>1</td>\n",
       "      <td>1</td>\n",
       "      <td>1</td>\n",
       "      <td>1</td>\n",
       "    </tr>\n",
       "  </tbody>\n",
       "</table>\n",
       "</div>"
      ],
      "text/plain": [
       "                           offer_id  difficulty  duration  reward  bogo  \\\n",
       "6  fafdcd668e3743c1bb461111dcafc2a4          10       240       2     0   \n",
       "\n",
       "   discount  informational  web  email  mobile  social  \n",
       "6         1              0    1      1       1       1  "
      ]
     },
     "execution_count": 104,
     "metadata": {},
     "output_type": "execute_result"
    }
   ],
   "source": [
    "# Check details of the offers with highest response rate\n",
    "offer_high_resp = portfolio[portfolio['offer_id'] == 'fafdcd668e3743c1bb461111dcafc2a4']\n",
    "offer_high_resp"
   ]
  },
  {
   "cell_type": "code",
   "execution_count": 105,
   "metadata": {},
   "outputs": [
    {
     "data": {
      "text/html": [
       "<div>\n",
       "<style scoped>\n",
       "    .dataframe tbody tr th:only-of-type {\n",
       "        vertical-align: middle;\n",
       "    }\n",
       "\n",
       "    .dataframe tbody tr th {\n",
       "        vertical-align: top;\n",
       "    }\n",
       "\n",
       "    .dataframe thead th {\n",
       "        text-align: right;\n",
       "    }\n",
       "</style>\n",
       "<table border=\"1\" class=\"dataframe\">\n",
       "  <thead>\n",
       "    <tr style=\"text-align: right;\">\n",
       "      <th></th>\n",
       "      <th>offer_id</th>\n",
       "      <th>difficulty</th>\n",
       "      <th>duration</th>\n",
       "      <th>reward</th>\n",
       "      <th>bogo</th>\n",
       "      <th>discount</th>\n",
       "      <th>informational</th>\n",
       "      <th>web</th>\n",
       "      <th>email</th>\n",
       "      <th>mobile</th>\n",
       "      <th>social</th>\n",
       "    </tr>\n",
       "  </thead>\n",
       "  <tbody>\n",
       "    <tr>\n",
       "      <th>2</th>\n",
       "      <td>3f207df678b143eea3cee63160fa8bed</td>\n",
       "      <td>0</td>\n",
       "      <td>96</td>\n",
       "      <td>0</td>\n",
       "      <td>0</td>\n",
       "      <td>0</td>\n",
       "      <td>1</td>\n",
       "      <td>1</td>\n",
       "      <td>1</td>\n",
       "      <td>1</td>\n",
       "      <td>0</td>\n",
       "    </tr>\n",
       "  </tbody>\n",
       "</table>\n",
       "</div>"
      ],
      "text/plain": [
       "                           offer_id  difficulty  duration  reward  bogo  \\\n",
       "2  3f207df678b143eea3cee63160fa8bed           0        96       0     0   \n",
       "\n",
       "   discount  informational  web  email  mobile  social  \n",
       "2         0              1    1      1       1       0  "
      ]
     },
     "execution_count": 105,
     "metadata": {},
     "output_type": "execute_result"
    }
   ],
   "source": [
    "# Check details of the offers with highest response rate\n",
    "offer_low_resp = portfolio[portfolio['offer_id'] == '3f207df678b143eea3cee63160fa8bed']\n",
    "offer_low_resp"
   ]
  },
  {
   "cell_type": "markdown",
   "metadata": {},
   "source": [
    "#### Analyze Offer with highest response rate"
   ]
  },
  {
   "cell_type": "code",
   "execution_count": 106,
   "metadata": {},
   "outputs": [
    {
     "data": {
      "text/plain": [
       "'fafdcd668e3743c1bb461111dcafc2a4'"
      ]
     },
     "execution_count": 106,
     "metadata": {},
     "output_type": "execute_result"
    }
   ],
   "source": [
    "# Analyze Offer with highest response rate\n",
    "offer_id_high_resp = offer_high_resp['offer_id'].values[0]\n",
    "offer_id_high_resp"
   ]
  },
  {
   "cell_type": "code",
   "execution_count": 107,
   "metadata": {},
   "outputs": [
    {
     "data": {
      "text/plain": [
       "'3f207df678b143eea3cee63160fa8bed'"
      ]
     },
     "execution_count": 107,
     "metadata": {},
     "output_type": "execute_result"
    }
   ],
   "source": [
    "# Analyze Offer with lowest response rate\n",
    "offer_id_low_resp = offer_low_resp['offer_id'].values[0]\n",
    "offer_id_low_resp"
   ]
  },
  {
   "cell_type": "code",
   "execution_count": 108,
   "metadata": {},
   "outputs": [],
   "source": [
    "# Create dataframe for high response and low resposne\n",
    "combined_data_high_resp_df = combined_data_df.loc[combined_data_df['offer_id'] == offer_id_high_resp,:]\n",
    "combined_data_low_resp_df = combined_data_df.loc[combined_data_df['offer_id'] == offer_id_low_resp,:]"
   ]
  },
  {
   "cell_type": "code",
   "execution_count": 109,
   "metadata": {},
   "outputs": [],
   "source": [
    "# Create dataframe for customers for offers with high response rate whom responded to offer\n",
    "# and whom did not responded to offer\n",
    "cust_responded_high_rep_df = combined_data_high_resp_df.loc[combined_data_high_resp_df['cust_response'] == 1,:]\n",
    "cust_not_responded_high_rep_df = combined_data_high_resp_df.loc[combined_data_high_resp_df['cust_response'] == 0,:]"
   ]
  },
  {
   "cell_type": "markdown",
   "metadata": {},
   "source": [
    "#### Compare gender distribution of customers in offers with highest response whom responded and whom did not responded"
   ]
  },
  {
   "cell_type": "code",
   "execution_count": 110,
   "metadata": {},
   "outputs": [
    {
     "data": {
      "text/plain": [
       "F    44.18\n",
       "M    54.52\n",
       "O     1.30\n",
       "dtype: float64"
      ]
     },
     "execution_count": 110,
     "metadata": {},
     "output_type": "execute_result"
    }
   ],
   "source": [
    "# Calculate percentage of each gender in highest response offer for customers whom responded\n",
    "round(cust_responded_high_rep_df[['F', 'M', 'O']].mean()*100,2)"
   ]
  },
  {
   "cell_type": "code",
   "execution_count": 111,
   "metadata": {},
   "outputs": [
    {
     "data": {
      "text/plain": [
       "F    29.45\n",
       "M    69.15\n",
       "O     1.39\n",
       "dtype: float64"
      ]
     },
     "execution_count": 111,
     "metadata": {},
     "output_type": "execute_result"
    }
   ],
   "source": [
    "# Calculate percentage of each gender in lowest response offer for customers whom did not responded\n",
    "round(cust_not_responded_high_rep_df[['F', 'M', 'O']].mean()*100,2)"
   ]
  },
  {
   "cell_type": "code",
   "execution_count": 112,
   "metadata": {},
   "outputs": [
    {
     "data": {
      "image/png": "[encoded data removed]",
      "text/plain": [
       "<matplotlib.figure.Figure at 0x7fa7f94fafd0>"
      ]
     },
     "metadata": {
      "needs_background": "light"
     },
     "output_type": "display_data"
    }
   ],
   "source": [
    "# Compare gender distribution in offers with highest response when offer was successful and unsuccessful\n",
    "fig, ax = plt.subplots(figsize=(20, 6),\n",
    "                       nrows=1,\n",
    "                       ncols=2,\n",
    "                       sharex=True,\n",
    "                       sharey=True)\n",
    "\n",
    "plt.subplot(121)\n",
    "round(cust_responded_high_rep_df[['F', 'M', 'O']].mean()*100,2).plot.bar(figsize=(20,4), fontsize=12,color='teal');\n",
    "plt.xlabel('Gender', fontsize=18)\n",
    "plt.xticks(rotation='horizontal')\n",
    "plt.ylabel('Percentage', fontsize=18)\n",
    "plt.title('Gender % whom responded', fontsize=18)\n",
    "\n",
    "\n",
    "plt.subplot(122)\n",
    "round(cust_not_responded_high_rep_df[['F', 'M', 'O']].mean()*100,2).plot.bar(figsize=(20,4), fontsize=12,color='teal');\n",
    "plt.xlabel('Gender', fontsize=18)\n",
    "plt.xticks(rotation='horizontal')\n",
    "plt.ylabel('Percentage', fontsize=18)\n",
    "plt.title('Gender % whom not responded', fontsize=18)\n",
    "\n",
    "plt.show()"
   ]
  },
  {
   "cell_type": "markdown",
   "metadata": {},
   "source": [
    "**From above, we can observe that males responded more in successful & unsuccessful offers**."
   ]
  },
  {
   "cell_type": "markdown",
   "metadata": {},
   "source": [
    "#### Compare age distribution of customers in offers with highest response whom responded and whom did not responded"
   ]
  },
  {
   "cell_type": "code",
   "execution_count": 113,
   "metadata": {},
   "outputs": [
    {
     "data": {
      "text/plain": [
       "age_10s      0.96\n",
       "age_20s      8.24\n",
       "age_30s     10.34\n",
       "age_40s     14.77\n",
       "age_50s     24.99\n",
       "age_60s     21.39\n",
       "age_70s     11.58\n",
       "age_80s      5.84\n",
       "age_90s      1.68\n",
       "age_100s     0.22\n",
       "dtype: float64"
      ]
     },
     "execution_count": 113,
     "metadata": {},
     "output_type": "execute_result"
    }
   ],
   "source": [
    "# Calculate percentage of each age group in highest response offer when offer was sucessful\n",
    "age_grp_list = ['age_10s', 'age_20s', 'age_30s', 'age_40s', 'age_50s', 'age_60s', 'age_70s', 'age_80s', 'age_90s', 'age_100s']\n",
    "round(cust_responded_high_rep_df[age_grp_list].mean()*100,2)"
   ]
  },
  {
   "cell_type": "code",
   "execution_count": 114,
   "metadata": {},
   "outputs": [
    {
     "data": {
      "text/plain": [
       "age_10s      1.94\n",
       "age_20s     12.73\n",
       "age_30s     10.97\n",
       "age_40s     17.33\n",
       "age_50s     19.58\n",
       "age_60s     19.64\n",
       "age_70s     12.00\n",
       "age_80s      4.12\n",
       "age_90s      1.58\n",
       "age_100s     0.12\n",
       "dtype: float64"
      ]
     },
     "execution_count": 114,
     "metadata": {},
     "output_type": "execute_result"
    }
   ],
   "source": [
    "# Calculate percentage of each age group in highest response offer when offer was unsucessful\n",
    "round(cust_not_responded_high_rep_df[age_grp_list].mean()*100,2)"
   ]
  },
  {
   "cell_type": "code",
   "execution_count": 115,
   "metadata": {},
   "outputs": [
    {
     "data": {
      "image/png": "[encoded data removed]",
      "text/plain": [
       "<matplotlib.figure.Figure at 0x7fa7f9169748>"
      ]
     },
     "metadata": {
      "needs_background": "light"
     },
     "output_type": "display_data"
    }
   ],
   "source": [
    "# Compare age group distribution in offers with highest response when offer was successful and unsuccessful\n",
    "fig, ax = plt.subplots(figsize=(20, 6),\n",
    "                       nrows=1,\n",
    "                       ncols=2,\n",
    "                       sharex=True,\n",
    "                       sharey=True)\n",
    "\n",
    "plt.subplot(121)\n",
    "round(cust_responded_high_rep_df[age_grp_list].mean()*100,2).plot.barh(figsize=(20,6), fontsize=12,color='teal');\n",
    "plt.xlabel('Percentage', fontsize=18)\n",
    "#plt.xticks(rotation='horizontal')\n",
    "plt.ylabel('Age Group', fontsize=18)\n",
    "plt.title('Age Group % whom responded', fontsize=18)\n",
    "\n",
    "\n",
    "plt.subplot(122)\n",
    "round(cust_not_responded_high_rep_df[age_grp_list].mean()*100,2).plot.barh(figsize=(20,6), fontsize=12,color='teal');\n",
    "plt.xlabel('Percentage', fontsize=18)\n",
    "#plt.xticks(rotation='horizontal')\n",
    "plt.ylabel('Age Group', fontsize=18)\n",
    "plt.title('Age Group % whom not responded', fontsize=18)\n",
    "\n",
    "plt.show()"
   ]
  },
  {
   "cell_type": "markdown",
   "metadata": {},
   "source": [
    "**Again, from above, we can observe that higher percentage of age distribution is 25% for age group age_50s when offer is successful and higher percentage of age distribution is 20% for age groups age_50s & age_60s when offer is unsuccessful**."
   ]
  },
  {
   "cell_type": "markdown",
   "metadata": {},
   "source": [
    "#### Compare income distribution of customers in offers with highest response whom responded and whom did not responded"
   ]
  },
  {
   "cell_type": "code",
   "execution_count": 116,
   "metadata": {},
   "outputs": [
    {
     "data": {
      "text/plain": [
       "income_30ths     11.22\n",
       "income_40ths     10.92\n",
       "income_50ths     17.09\n",
       "income_60ths     15.89\n",
       "income_70ths     16.83\n",
       "income_80ths     10.96\n",
       "income_90ths      8.38\n",
       "income_100ths     4.50\n",
       "income_110ths     4.18\n",
       "income_120ths     0.04\n",
       "dtype: float64"
      ]
     },
     "execution_count": 116,
     "metadata": {},
     "output_type": "execute_result"
    }
   ],
   "source": [
    "# Calculate percentage of each income group in highest response offer when offer was sucessful\n",
    "income_grp_list = ['income_30ths', 'income_40ths', 'income_50ths', 'income_60ths','income_70ths', 'income_80ths',\\\n",
    "                   'income_90ths', 'income_100ths', 'income_110ths', 'income_120ths']\n",
    "round(cust_responded_high_rep_df[income_grp_list].mean()*100,2)"
   ]
  },
  {
   "cell_type": "code",
   "execution_count": 117,
   "metadata": {},
   "outputs": [
    {
     "data": {
      "text/plain": [
       "income_30ths     18.97\n",
       "income_40ths     16.12\n",
       "income_50ths     19.64\n",
       "income_60ths     17.58\n",
       "income_70ths     12.67\n",
       "income_80ths      5.33\n",
       "income_90ths      6.18\n",
       "income_100ths     1.76\n",
       "income_110ths     1.70\n",
       "income_120ths     0.06\n",
       "dtype: float64"
      ]
     },
     "execution_count": 117,
     "metadata": {},
     "output_type": "execute_result"
    }
   ],
   "source": [
    "# Calculate percentage of each income group in highest response offer when offer was unsucessful\n",
    "round(cust_not_responded_high_rep_df[income_grp_list].mean()*100,2)"
   ]
  },
  {
   "cell_type": "code",
   "execution_count": 118,
   "metadata": {},
   "outputs": [
    {
     "data": {
      "image/png": "[encoded data removed]",
      "text/plain": [
       "<matplotlib.figure.Figure at 0x7fa7fa638320>"
      ]
     },
     "metadata": {
      "needs_background": "light"
     },
     "output_type": "display_data"
    }
   ],
   "source": [
    "# Compare income group distribution in offers with highest response when offer was successful and unsuccessful\n",
    "fig, ax = plt.subplots(figsize=(20, 6),\n",
    "                       nrows=1,\n",
    "                       ncols=2,\n",
    "                       sharex=True,\n",
    "                       sharey=True)\n",
    "\n",
    "plt.subplot(121)\n",
    "round(cust_responded_high_rep_df[income_grp_list].mean()*100,2).plot.barh(figsize=(20,6), fontsize=12,color='teal');\n",
    "plt.xlabel('Percentage', fontsize=18)\n",
    "#plt.xticks(rotation='horizontal')\n",
    "plt.ylabel('Income Group', fontsize=18)\n",
    "plt.title('Income Group % whom responded', fontsize=18)\n",
    "\n",
    "\n",
    "plt.subplot(122)\n",
    "round(combined_data_low_resp_df[income_grp_list].mean()*100,2).plot.barh(figsize=(20,6), fontsize=12,color='teal');\n",
    "plt.xlabel('Percentage', fontsize=18)\n",
    "#plt.xticks(rotation='horizontal')\n",
    "plt.ylabel('Income Group', fontsize=18)\n",
    "plt.title('Income Group % whom not responded', fontsize=18)\n",
    "\n",
    "plt.show()"
   ]
  },
  {
   "cell_type": "markdown",
   "metadata": {},
   "source": [
    "**Again, from above, we can observe that higher percentage of income distribution is 17% for income group income_50ths & income_70ths when offer is successful and higher percentage of income distribution is 19% for age groups income_50ths & income_60ths when offer is unsuccessful**."
   ]
  },
  {
   "cell_type": "markdown",
   "metadata": {},
   "source": [
    "### Split the combined data into training and test data"
   ]
  },
  {
   "cell_type": "markdown",
   "metadata": {},
   "source": [
    "**Before splitting the combined data, let us drop the features from combined data which would not play any role in training the model**."
   ]
  },
  {
   "cell_type": "code",
   "execution_count": 119,
   "metadata": {},
   "outputs": [
    {
     "data": {
      "text/html": [
       "<div>\n",
       "<style scoped>\n",
       "    .dataframe tbody tr th:only-of-type {\n",
       "        vertical-align: middle;\n",
       "    }\n",
       "\n",
       "    .dataframe tbody tr th {\n",
       "        vertical-align: top;\n",
       "    }\n",
       "\n",
       "    .dataframe thead th {\n",
       "        text-align: right;\n",
       "    }\n",
       "</style>\n",
       "<table border=\"1\" class=\"dataframe\">\n",
       "  <thead>\n",
       "    <tr style=\"text-align: right;\">\n",
       "      <th></th>\n",
       "      <th>difficulty</th>\n",
       "      <th>duration</th>\n",
       "      <th>reward</th>\n",
       "      <th>bogo</th>\n",
       "      <th>discount</th>\n",
       "      <th>informational</th>\n",
       "      <th>web</th>\n",
       "      <th>mobile</th>\n",
       "      <th>social</th>\n",
       "      <th>membership_tenure</th>\n",
       "      <th>...</th>\n",
       "      <th>income_50ths</th>\n",
       "      <th>income_60ths</th>\n",
       "      <th>income_70ths</th>\n",
       "      <th>income_80ths</th>\n",
       "      <th>income_90ths</th>\n",
       "      <th>income_100ths</th>\n",
       "      <th>income_110ths</th>\n",
       "      <th>income_120ths</th>\n",
       "      <th>total_amount</th>\n",
       "      <th>cust_response</th>\n",
       "    </tr>\n",
       "  </thead>\n",
       "  <tbody>\n",
       "    <tr>\n",
       "      <th>0</th>\n",
       "      <td>5</td>\n",
       "      <td>168</td>\n",
       "      <td>5</td>\n",
       "      <td>1</td>\n",
       "      <td>0</td>\n",
       "      <td>0</td>\n",
       "      <td>1</td>\n",
       "      <td>1</td>\n",
       "      <td>0</td>\n",
       "      <td>960</td>\n",
       "      <td>...</td>\n",
       "      <td>0</td>\n",
       "      <td>0</td>\n",
       "      <td>0</td>\n",
       "      <td>0</td>\n",
       "      <td>0</td>\n",
       "      <td>1</td>\n",
       "      <td>0</td>\n",
       "      <td>0</td>\n",
       "      <td>37.67</td>\n",
       "      <td>1</td>\n",
       "    </tr>\n",
       "    <tr>\n",
       "      <th>1</th>\n",
       "      <td>0</td>\n",
       "      <td>72</td>\n",
       "      <td>0</td>\n",
       "      <td>0</td>\n",
       "      <td>0</td>\n",
       "      <td>1</td>\n",
       "      <td>0</td>\n",
       "      <td>1</td>\n",
       "      <td>1</td>\n",
       "      <td>960</td>\n",
       "      <td>...</td>\n",
       "      <td>0</td>\n",
       "      <td>0</td>\n",
       "      <td>0</td>\n",
       "      <td>0</td>\n",
       "      <td>0</td>\n",
       "      <td>1</td>\n",
       "      <td>0</td>\n",
       "      <td>0</td>\n",
       "      <td>49.39</td>\n",
       "      <td>1</td>\n",
       "    </tr>\n",
       "    <tr>\n",
       "      <th>2</th>\n",
       "      <td>10</td>\n",
       "      <td>168</td>\n",
       "      <td>10</td>\n",
       "      <td>1</td>\n",
       "      <td>0</td>\n",
       "      <td>0</td>\n",
       "      <td>0</td>\n",
       "      <td>1</td>\n",
       "      <td>1</td>\n",
       "      <td>960</td>\n",
       "      <td>...</td>\n",
       "      <td>0</td>\n",
       "      <td>0</td>\n",
       "      <td>0</td>\n",
       "      <td>0</td>\n",
       "      <td>0</td>\n",
       "      <td>1</td>\n",
       "      <td>0</td>\n",
       "      <td>0</td>\n",
       "      <td>48.28</td>\n",
       "      <td>1</td>\n",
       "    </tr>\n",
       "    <tr>\n",
       "      <th>3</th>\n",
       "      <td>5</td>\n",
       "      <td>120</td>\n",
       "      <td>5</td>\n",
       "      <td>1</td>\n",
       "      <td>0</td>\n",
       "      <td>0</td>\n",
       "      <td>1</td>\n",
       "      <td>1</td>\n",
       "      <td>1</td>\n",
       "      <td>960</td>\n",
       "      <td>...</td>\n",
       "      <td>0</td>\n",
       "      <td>0</td>\n",
       "      <td>0</td>\n",
       "      <td>0</td>\n",
       "      <td>0</td>\n",
       "      <td>1</td>\n",
       "      <td>0</td>\n",
       "      <td>0</td>\n",
       "      <td>48.28</td>\n",
       "      <td>1</td>\n",
       "    </tr>\n",
       "    <tr>\n",
       "      <th>4</th>\n",
       "      <td>10</td>\n",
       "      <td>168</td>\n",
       "      <td>2</td>\n",
       "      <td>0</td>\n",
       "      <td>1</td>\n",
       "      <td>0</td>\n",
       "      <td>1</td>\n",
       "      <td>1</td>\n",
       "      <td>0</td>\n",
       "      <td>608</td>\n",
       "      <td>...</td>\n",
       "      <td>0</td>\n",
       "      <td>0</td>\n",
       "      <td>1</td>\n",
       "      <td>0</td>\n",
       "      <td>0</td>\n",
       "      <td>0</td>\n",
       "      <td>0</td>\n",
       "      <td>0</td>\n",
       "      <td>0.00</td>\n",
       "      <td>0</td>\n",
       "    </tr>\n",
       "  </tbody>\n",
       "</table>\n",
       "<p>5 rows × 53 columns</p>\n",
       "</div>"
      ],
      "text/plain": [
       "   difficulty  duration  reward  bogo  discount  informational  web  mobile  \\\n",
       "0           5       168       5     1         0              0    1       1   \n",
       "1           0        72       0     0         0              1    0       1   \n",
       "2          10       168      10     1         0              0    0       1   \n",
       "3           5       120       5     1         0              0    1       1   \n",
       "4          10       168       2     0         1              0    1       1   \n",
       "\n",
       "   social  membership_tenure      ...        income_50ths  income_60ths  \\\n",
       "0       0                960      ...                   0             0   \n",
       "1       1                960      ...                   0             0   \n",
       "2       1                960      ...                   0             0   \n",
       "3       1                960      ...                   0             0   \n",
       "4       0                608      ...                   0             0   \n",
       "\n",
       "   income_70ths  income_80ths  income_90ths  income_100ths  income_110ths  \\\n",
       "0             0             0             0              1              0   \n",
       "1             0             0             0              1              0   \n",
       "2             0             0             0              1              0   \n",
       "3             0             0             0              1              0   \n",
       "4             1             0             0              0              0   \n",
       "\n",
       "   income_120ths  total_amount  cust_response  \n",
       "0              0         37.67              1  \n",
       "1              0         49.39              1  \n",
       "2              0         48.28              1  \n",
       "3              0         48.28              1  \n",
       "4              0          0.00              0  \n",
       "\n",
       "[5 rows x 53 columns]"
      ]
     },
     "execution_count": 119,
     "metadata": {},
     "output_type": "execute_result"
    }
   ],
   "source": [
    "# Drop features from combined_data_df which are not required for training the model\n",
    "# Drop 'customer_id' & 'offer_id' as these are unique identifier\n",
    "# Drop 'time' as it is not rqeuired. It was used to check if a customer responded to an offer or not\n",
    "# and to calculate total amount\n",
    "# Drop 'email' as it has only 1 value in all the observations and the value is 1\n",
    "combined_data_df.drop(columns=['customer_id', 'offer_id', 'time', 'email'], inplace=True)\n",
    "combined_data_df.head()"
   ]
  },
  {
   "cell_type": "code",
   "execution_count": 120,
   "metadata": {},
   "outputs": [],
   "source": [
    "# Separate features and labels of combined_data_df\n",
    "X = combined_data_df.drop(columns=['cust_response'])\n",
    "y = combined_data_df.loc[:,['cust_response']]"
   ]
  },
  {
   "cell_type": "code",
   "execution_count": 121,
   "metadata": {},
   "outputs": [],
   "source": [
    "# Split features and labels into train & test set\n",
    "X_train, X_test, y_train, y_test = train_test_split(X, y, test_size=0.25, random_state=42)"
   ]
  },
  {
   "cell_type": "code",
   "execution_count": 122,
   "metadata": {},
   "outputs": [
    {
     "data": {
      "text/html": [
       "<div>\n",
       "<style scoped>\n",
       "    .dataframe tbody tr th:only-of-type {\n",
       "        vertical-align: middle;\n",
       "    }\n",
       "\n",
       "    .dataframe tbody tr th {\n",
       "        vertical-align: top;\n",
       "    }\n",
       "\n",
       "    .dataframe thead th {\n",
       "        text-align: right;\n",
       "    }\n",
       "</style>\n",
       "<table border=\"1\" class=\"dataframe\">\n",
       "  <thead>\n",
       "    <tr style=\"text-align: right;\">\n",
       "      <th></th>\n",
       "      <th>difficulty</th>\n",
       "      <th>duration</th>\n",
       "      <th>reward</th>\n",
       "      <th>bogo</th>\n",
       "      <th>discount</th>\n",
       "      <th>informational</th>\n",
       "      <th>web</th>\n",
       "      <th>mobile</th>\n",
       "      <th>social</th>\n",
       "      <th>membership_tenure</th>\n",
       "      <th>...</th>\n",
       "      <th>income_40ths</th>\n",
       "      <th>income_50ths</th>\n",
       "      <th>income_60ths</th>\n",
       "      <th>income_70ths</th>\n",
       "      <th>income_80ths</th>\n",
       "      <th>income_90ths</th>\n",
       "      <th>income_100ths</th>\n",
       "      <th>income_110ths</th>\n",
       "      <th>income_120ths</th>\n",
       "      <th>total_amount</th>\n",
       "    </tr>\n",
       "  </thead>\n",
       "  <tbody>\n",
       "    <tr>\n",
       "      <th>3422</th>\n",
       "      <td>0</td>\n",
       "      <td>96</td>\n",
       "      <td>0</td>\n",
       "      <td>0</td>\n",
       "      <td>0</td>\n",
       "      <td>1</td>\n",
       "      <td>1</td>\n",
       "      <td>1</td>\n",
       "      <td>0</td>\n",
       "      <td>1619</td>\n",
       "      <td>...</td>\n",
       "      <td>1</td>\n",
       "      <td>0</td>\n",
       "      <td>0</td>\n",
       "      <td>0</td>\n",
       "      <td>0</td>\n",
       "      <td>0</td>\n",
       "      <td>0</td>\n",
       "      <td>0</td>\n",
       "      <td>0</td>\n",
       "      <td>3.21</td>\n",
       "    </tr>\n",
       "    <tr>\n",
       "      <th>64365</th>\n",
       "      <td>10</td>\n",
       "      <td>168</td>\n",
       "      <td>10</td>\n",
       "      <td>1</td>\n",
       "      <td>0</td>\n",
       "      <td>0</td>\n",
       "      <td>0</td>\n",
       "      <td>1</td>\n",
       "      <td>1</td>\n",
       "      <td>1006</td>\n",
       "      <td>...</td>\n",
       "      <td>0</td>\n",
       "      <td>0</td>\n",
       "      <td>1</td>\n",
       "      <td>0</td>\n",
       "      <td>0</td>\n",
       "      <td>0</td>\n",
       "      <td>0</td>\n",
       "      <td>0</td>\n",
       "      <td>0</td>\n",
       "      <td>109.55</td>\n",
       "    </tr>\n",
       "    <tr>\n",
       "      <th>64981</th>\n",
       "      <td>10</td>\n",
       "      <td>168</td>\n",
       "      <td>2</td>\n",
       "      <td>0</td>\n",
       "      <td>1</td>\n",
       "      <td>0</td>\n",
       "      <td>1</td>\n",
       "      <td>1</td>\n",
       "      <td>0</td>\n",
       "      <td>710</td>\n",
       "      <td>...</td>\n",
       "      <td>0</td>\n",
       "      <td>0</td>\n",
       "      <td>0</td>\n",
       "      <td>1</td>\n",
       "      <td>0</td>\n",
       "      <td>0</td>\n",
       "      <td>0</td>\n",
       "      <td>0</td>\n",
       "      <td>0</td>\n",
       "      <td>87.60</td>\n",
       "    </tr>\n",
       "    <tr>\n",
       "      <th>59855</th>\n",
       "      <td>5</td>\n",
       "      <td>120</td>\n",
       "      <td>5</td>\n",
       "      <td>1</td>\n",
       "      <td>0</td>\n",
       "      <td>0</td>\n",
       "      <td>1</td>\n",
       "      <td>1</td>\n",
       "      <td>1</td>\n",
       "      <td>1200</td>\n",
       "      <td>...</td>\n",
       "      <td>0</td>\n",
       "      <td>1</td>\n",
       "      <td>0</td>\n",
       "      <td>0</td>\n",
       "      <td>0</td>\n",
       "      <td>0</td>\n",
       "      <td>0</td>\n",
       "      <td>0</td>\n",
       "      <td>0</td>\n",
       "      <td>55.47</td>\n",
       "    </tr>\n",
       "    <tr>\n",
       "      <th>27439</th>\n",
       "      <td>0</td>\n",
       "      <td>72</td>\n",
       "      <td>0</td>\n",
       "      <td>0</td>\n",
       "      <td>0</td>\n",
       "      <td>1</td>\n",
       "      <td>0</td>\n",
       "      <td>1</td>\n",
       "      <td>1</td>\n",
       "      <td>1595</td>\n",
       "      <td>...</td>\n",
       "      <td>0</td>\n",
       "      <td>1</td>\n",
       "      <td>0</td>\n",
       "      <td>0</td>\n",
       "      <td>0</td>\n",
       "      <td>0</td>\n",
       "      <td>0</td>\n",
       "      <td>0</td>\n",
       "      <td>0</td>\n",
       "      <td>46.86</td>\n",
       "    </tr>\n",
       "  </tbody>\n",
       "</table>\n",
       "<p>5 rows × 52 columns</p>\n",
       "</div>"
      ],
      "text/plain": [
       "       difficulty  duration  reward  bogo  discount  informational  web  \\\n",
       "3422            0        96       0     0         0              1    1   \n",
       "64365          10       168      10     1         0              0    0   \n",
       "64981          10       168       2     0         1              0    1   \n",
       "59855           5       120       5     1         0              0    1   \n",
       "27439           0        72       0     0         0              1    0   \n",
       "\n",
       "       mobile  social  membership_tenure      ...       income_40ths  \\\n",
       "3422        1       0               1619      ...                  1   \n",
       "64365       1       1               1006      ...                  0   \n",
       "64981       1       0                710      ...                  0   \n",
       "59855       1       1               1200      ...                  0   \n",
       "27439       1       1               1595      ...                  0   \n",
       "\n",
       "       income_50ths  income_60ths  income_70ths  income_80ths  income_90ths  \\\n",
       "3422              0             0             0             0             0   \n",
       "64365             0             1             0             0             0   \n",
       "64981             0             0             1             0             0   \n",
       "59855             1             0             0             0             0   \n",
       "27439             1             0             0             0             0   \n",
       "\n",
       "       income_100ths  income_110ths  income_120ths  total_amount  \n",
       "3422               0              0              0          3.21  \n",
       "64365              0              0              0        109.55  \n",
       "64981              0              0              0         87.60  \n",
       "59855              0              0              0         55.47  \n",
       "27439              0              0              0         46.86  \n",
       "\n",
       "[5 rows x 52 columns]"
      ]
     },
     "execution_count": 122,
     "metadata": {},
     "output_type": "execute_result"
    }
   ],
   "source": [
    "X_train.head()"
   ]
  },
  {
   "cell_type": "markdown",
   "metadata": {},
   "source": [
    "### Scale selected features"
   ]
  },
  {
   "cell_type": "code",
   "execution_count": 123,
   "metadata": {},
   "outputs": [],
   "source": [
    "# Prepare list of features to scale\n",
    "feat_to_scale = ['difficulty', 'duration', 'reward', 'membership_tenure', 'total_amount']"
   ]
  },
  {
   "cell_type": "code",
   "execution_count": 124,
   "metadata": {},
   "outputs": [],
   "source": [
    "# Prepare a function func_feat_scale to scale features in train and test set\n",
    "def func_feat_scale(df, feat=feat_to_scale):\n",
    "        \"\"\"\n",
    "    Scale list features in a given dataframe\n",
    "    \n",
    "    INPUT:\n",
    "    - df (dataframe): dataframe having features to scale\n",
    "    - feat (list): list of features in dataframe to scale\n",
    "            \n",
    "    OUTPUT:\n",
    "    - scaled_df (dataframe): dataframe containing scaled features\n",
    "    \"\"\"\n",
    "        # Prepare dataframe of only features to scale\n",
    "        df_feat_scale = df.loc[:,feat]\n",
    "        \n",
    "        # Apply feature scaling to df\n",
    "        scaler = MinMaxScaler()\n",
    "        df_feat_scale = pd.DataFrame(scaler.fit_transform(df_feat_scale), columns = df_feat_scale.columns,\\\n",
    "                                     index=df_feat_scale.index)\n",
    "        \n",
    "        # Drop orignal features to scale from df and add scaled features back to df\n",
    "        df = df.drop(columns=feat, axis=1)\n",
    "        df_scaled = pd.concat([df, df_feat_scale], axis=1)\n",
    "        \n",
    "        return df_scaled"
   ]
  },
  {
   "cell_type": "code",
   "execution_count": 125,
   "metadata": {},
   "outputs": [
    {
     "data": {
      "text/html": [
       "<div>\n",
       "<style scoped>\n",
       "    .dataframe tbody tr th:only-of-type {\n",
       "        vertical-align: middle;\n",
       "    }\n",
       "\n",
       "    .dataframe tbody tr th {\n",
       "        vertical-align: top;\n",
       "    }\n",
       "\n",
       "    .dataframe thead th {\n",
       "        text-align: right;\n",
       "    }\n",
       "</style>\n",
       "<table border=\"1\" class=\"dataframe\">\n",
       "  <thead>\n",
       "    <tr style=\"text-align: right;\">\n",
       "      <th></th>\n",
       "      <th>bogo</th>\n",
       "      <th>discount</th>\n",
       "      <th>informational</th>\n",
       "      <th>web</th>\n",
       "      <th>mobile</th>\n",
       "      <th>social</th>\n",
       "      <th>F</th>\n",
       "      <th>M</th>\n",
       "      <th>O</th>\n",
       "      <th>age_10s</th>\n",
       "      <th>...</th>\n",
       "      <th>income_80ths</th>\n",
       "      <th>income_90ths</th>\n",
       "      <th>income_100ths</th>\n",
       "      <th>income_110ths</th>\n",
       "      <th>income_120ths</th>\n",
       "      <th>difficulty</th>\n",
       "      <th>duration</th>\n",
       "      <th>reward</th>\n",
       "      <th>membership_tenure</th>\n",
       "      <th>total_amount</th>\n",
       "    </tr>\n",
       "  </thead>\n",
       "  <tbody>\n",
       "    <tr>\n",
       "      <th>3422</th>\n",
       "      <td>0</td>\n",
       "      <td>0</td>\n",
       "      <td>1</td>\n",
       "      <td>1</td>\n",
       "      <td>1</td>\n",
       "      <td>0</td>\n",
       "      <td>0</td>\n",
       "      <td>1</td>\n",
       "      <td>0</td>\n",
       "      <td>0</td>\n",
       "      <td>...</td>\n",
       "      <td>0</td>\n",
       "      <td>0</td>\n",
       "      <td>0</td>\n",
       "      <td>0</td>\n",
       "      <td>0</td>\n",
       "      <td>0.00</td>\n",
       "      <td>0.142857</td>\n",
       "      <td>0.0</td>\n",
       "      <td>0.604498</td>\n",
       "      <td>0.002862</td>\n",
       "    </tr>\n",
       "    <tr>\n",
       "      <th>64365</th>\n",
       "      <td>1</td>\n",
       "      <td>0</td>\n",
       "      <td>0</td>\n",
       "      <td>0</td>\n",
       "      <td>1</td>\n",
       "      <td>1</td>\n",
       "      <td>0</td>\n",
       "      <td>1</td>\n",
       "      <td>0</td>\n",
       "      <td>0</td>\n",
       "      <td>...</td>\n",
       "      <td>0</td>\n",
       "      <td>0</td>\n",
       "      <td>0</td>\n",
       "      <td>0</td>\n",
       "      <td>0</td>\n",
       "      <td>0.50</td>\n",
       "      <td>0.571429</td>\n",
       "      <td>1.0</td>\n",
       "      <td>0.268239</td>\n",
       "      <td>0.097662</td>\n",
       "    </tr>\n",
       "    <tr>\n",
       "      <th>64981</th>\n",
       "      <td>0</td>\n",
       "      <td>1</td>\n",
       "      <td>0</td>\n",
       "      <td>1</td>\n",
       "      <td>1</td>\n",
       "      <td>0</td>\n",
       "      <td>0</td>\n",
       "      <td>1</td>\n",
       "      <td>0</td>\n",
       "      <td>0</td>\n",
       "      <td>...</td>\n",
       "      <td>0</td>\n",
       "      <td>0</td>\n",
       "      <td>0</td>\n",
       "      <td>0</td>\n",
       "      <td>0</td>\n",
       "      <td>0.50</td>\n",
       "      <td>0.571429</td>\n",
       "      <td>0.2</td>\n",
       "      <td>0.105869</td>\n",
       "      <td>0.078094</td>\n",
       "    </tr>\n",
       "    <tr>\n",
       "      <th>59855</th>\n",
       "      <td>1</td>\n",
       "      <td>0</td>\n",
       "      <td>0</td>\n",
       "      <td>1</td>\n",
       "      <td>1</td>\n",
       "      <td>1</td>\n",
       "      <td>0</td>\n",
       "      <td>0</td>\n",
       "      <td>1</td>\n",
       "      <td>0</td>\n",
       "      <td>...</td>\n",
       "      <td>0</td>\n",
       "      <td>0</td>\n",
       "      <td>0</td>\n",
       "      <td>0</td>\n",
       "      <td>0</td>\n",
       "      <td>0.25</td>\n",
       "      <td>0.285714</td>\n",
       "      <td>0.5</td>\n",
       "      <td>0.374657</td>\n",
       "      <td>0.049450</td>\n",
       "    </tr>\n",
       "    <tr>\n",
       "      <th>27439</th>\n",
       "      <td>0</td>\n",
       "      <td>0</td>\n",
       "      <td>1</td>\n",
       "      <td>0</td>\n",
       "      <td>1</td>\n",
       "      <td>1</td>\n",
       "      <td>0</td>\n",
       "      <td>1</td>\n",
       "      <td>0</td>\n",
       "      <td>0</td>\n",
       "      <td>...</td>\n",
       "      <td>0</td>\n",
       "      <td>0</td>\n",
       "      <td>0</td>\n",
       "      <td>0</td>\n",
       "      <td>0</td>\n",
       "      <td>0.00</td>\n",
       "      <td>0.000000</td>\n",
       "      <td>0.0</td>\n",
       "      <td>0.591333</td>\n",
       "      <td>0.041775</td>\n",
       "    </tr>\n",
       "  </tbody>\n",
       "</table>\n",
       "<p>5 rows × 52 columns</p>\n",
       "</div>"
      ],
      "text/plain": [
       "       bogo  discount  informational  web  mobile  social  F  M  O  age_10s  \\\n",
       "3422      0         0              1    1       1       0  0  1  0        0   \n",
       "64365     1         0              0    0       1       1  0  1  0        0   \n",
       "64981     0         1              0    1       1       0  0  1  0        0   \n",
       "59855     1         0              0    1       1       1  0  0  1        0   \n",
       "27439     0         0              1    0       1       1  0  1  0        0   \n",
       "\n",
       "           ...       income_80ths  income_90ths  income_100ths  income_110ths  \\\n",
       "3422       ...                  0             0              0              0   \n",
       "64365      ...                  0             0              0              0   \n",
       "64981      ...                  0             0              0              0   \n",
       "59855      ...                  0             0              0              0   \n",
       "27439      ...                  0             0              0              0   \n",
       "\n",
       "       income_120ths  difficulty  duration  reward  membership_tenure  \\\n",
       "3422               0        0.00  0.142857     0.0           0.604498   \n",
       "64365              0        0.50  0.571429     1.0           0.268239   \n",
       "64981              0        0.50  0.571429     0.2           0.105869   \n",
       "59855              0        0.25  0.285714     0.5           0.374657   \n",
       "27439              0        0.00  0.000000     0.0           0.591333   \n",
       "\n",
       "       total_amount  \n",
       "3422       0.002862  \n",
       "64365      0.097662  \n",
       "64981      0.078094  \n",
       "59855      0.049450  \n",
       "27439      0.041775  \n",
       "\n",
       "[5 rows x 52 columns]"
      ]
     },
     "execution_count": 125,
     "metadata": {},
     "output_type": "execute_result"
    }
   ],
   "source": [
    "# Scale selected features in training set i.e. X_train\n",
    "X_train_scaled = func_feat_scale(X_train, feat=feat_to_scale)\n",
    "X_train_scaled.head()"
   ]
  },
  {
   "cell_type": "code",
   "execution_count": 126,
   "metadata": {},
   "outputs": [
    {
     "data": {
      "text/plain": [
       "(49875, 52)"
      ]
     },
     "execution_count": 126,
     "metadata": {},
     "output_type": "execute_result"
    }
   ],
   "source": [
    "# Print shape of dataframe X_train_scaled\n",
    "X_train_scaled.shape"
   ]
  },
  {
   "cell_type": "code",
   "execution_count": 127,
   "metadata": {},
   "outputs": [
    {
     "data": {
      "text/plain": [
       "(49875, 1)"
      ]
     },
     "execution_count": 127,
     "metadata": {},
     "output_type": "execute_result"
    }
   ],
   "source": [
    "# Print shape of y_train\n",
    "y_train.shape"
   ]
  },
  {
   "cell_type": "markdown",
   "metadata": {},
   "source": [
    "## Train the classifier"
   ]
  },
  {
   "cell_type": "markdown",
   "metadata": {},
   "source": [
    "### Select the performance matrix"
   ]
  },
  {
   "cell_type": "markdown",
   "metadata": {},
   "source": [
    "***For this case, evaluating a model with precision and recall would provide better insight to its performance rather than accuracy. Because, Starbucks would like to send offers to those customers whom have more chances of redeeming the offers rather than to send offers to all customers. F1-score metric is \"the harmonic mean of the precision and recall metrics\" and is better way of providing greater predictive power on the problem and how good the predictive model is making predictions.\n",
    "Refer [Classification Accuracy is Not Enough: More Performance Measures You Can Use](https://machinelearningmastery.com/classification-accuracy-is-not-enough-more-performance-measures-you-can-use/) for more information***."
   ]
  },
  {
   "cell_type": "code",
   "execution_count": 128,
   "metadata": {},
   "outputs": [
    {
     "name": "stdout",
     "output_type": "stream",
     "text": [
      "baseline model have f1_score: 0.6996\n"
     ]
    }
   ],
   "source": [
    "# Create a baseline model against which we would compare our model to determine\n",
    "# if our model is performing better than baseline model or not\n",
    "# Our baseline model would predict that all users would respond to the offer\n",
    "# So, we will calculate f1_score of the baseline model\n",
    "\n",
    "baseline_model_f1_score = f1_score(y_train.squeeze().values, np.ones(y_train.shape[0]))\n",
    "print('baseline model have f1_score: {}'.format(round(baseline_model_f1_score,4)))"
   ]
  },
  {
   "cell_type": "markdown",
   "metadata": {},
   "source": [
    "**Our base model produced f1_score of 0.6996. Therefore, our other trained classifier should produce better f1_score than the threshold f1_score of 0.6996.**"
   ]
  },
  {
   "cell_type": "code",
   "execution_count": 129,
   "metadata": {},
   "outputs": [],
   "source": [
    "# Define fit_classifier function to fit different classifiers on training dataset i.e. X_train_scaled\n",
    "# to find the best performing classifier algorithm\n",
    "def fit_classifier(clf, param_grid, X=X_train_scaled.values, y=y_train.squeeze().values):\n",
    "    \"\"\"\n",
    "    Fits a classifier to its training data using GridSearchCV and calculates f1_score\n",
    "    \n",
    "    INPUT:\n",
    "    - clf (classifier): classifier to fit\n",
    "    - param_grid (dict): classifier parameters used with GridSearchCV\n",
    "    - X_train_scaled (DataFrame): training features\n",
    "    - y_train (DataFrame): training label\n",
    "            \n",
    "    OUTPUT:\n",
    "    - classifier: input classifier fitted to the training data\n",
    "    \"\"\"\n",
    "    \n",
    "    # cv uses StratifiedKFold\n",
    "    # scoring f1 available as parameter\n",
    "    start = time.time()\n",
    "    grid = GridSearchCV(estimator=clf, param_grid=param_grid, scoring='f1', cv=5, verbose=0)\n",
    "    print(\"Training {} :\".format(clf.__class__.__name__))\n",
    "    grid.fit(X, y)\n",
    "    end = time.time()\n",
    "    time_taken = round(end-start,2)\n",
    "\n",
    "    print(clf.__class__.__name__)\n",
    "    print(\"Time taken : {} secs\".format(time_taken))\n",
    "    print(\"Best f1_score : {}\".format(round(grid.best_score_,4)))\n",
    "    print(\"*\"*40)\n",
    "    \n",
    "    return grid.best_score_, grid.best_estimator_, time_taken"
   ]
  },
  {
   "cell_type": "code",
   "execution_count": 130,
   "metadata": {},
   "outputs": [],
   "source": [
    "# Initialize classification algorithms\n",
    "lor = LogisticRegression(random_state=42) # LogisticRegression\n",
    "rfc = RandomForestClassifier(random_state=42) # RandomForestClassifier\n",
    "abc = AdaBoostClassifier(random_state=42) # AdaBoostClassifier\n",
    "gbc = GradientBoostingClassifier(random_state=42) # GradientBoostingClassifier"
   ]
  },
  {
   "cell_type": "code",
   "execution_count": 131,
   "metadata": {},
   "outputs": [
    {
     "name": "stdout",
     "output_type": "stream",
     "text": [
      "Training LogisticRegression :\n",
      "LogisticRegression\n",
      "Time taken : 5.1 secs\n",
      "Best f1_score : 0.8429\n",
      "****************************************\n",
      "Training RandomForestClassifier :\n",
      "RandomForestClassifier\n",
      "Time taken : 4.56 secs\n",
      "Best f1_score : 0.9216\n",
      "****************************************\n",
      "Training AdaBoostClassifier :\n",
      "AdaBoostClassifier\n",
      "Time taken : 18.82 secs\n",
      "Best f1_score : 0.896\n",
      "****************************************\n",
      "Training GradientBoostingClassifier :\n",
      "GradientBoostingClassifier\n",
      "Time taken : 60.56 secs\n",
      "Best f1_score : 0.9209\n",
      "****************************************\n"
     ]
    }
   ],
   "source": [
    "# Find best classification algorithm\n",
    "clf_names = []\n",
    "clf_scores = []\n",
    "clf_best_ests = []\n",
    "clf_time_taken = []\n",
    "clf_dict = {}\n",
    "\n",
    "for clf in [lor, rfc, abc, gbc]:\n",
    "    best_score, best_est, time_taken = fit_classifier(clf, {})\n",
    "    clf_names.append(clf.__class__.__name__)\n",
    "    clf_scores.append(best_score)\n",
    "    clf_best_ests.append(best_est)\n",
    "    clf_time_taken.append(time_taken)"
   ]
  },
  {
   "cell_type": "code",
   "execution_count": 132,
   "metadata": {},
   "outputs": [
    {
     "data": {
      "text/html": [
       "<div>\n",
       "<style scoped>\n",
       "    .dataframe tbody tr th:only-of-type {\n",
       "        vertical-align: middle;\n",
       "    }\n",
       "\n",
       "    .dataframe tbody tr th {\n",
       "        vertical-align: top;\n",
       "    }\n",
       "\n",
       "    .dataframe thead th {\n",
       "        text-align: right;\n",
       "    }\n",
       "</style>\n",
       "<table border=\"1\" class=\"dataframe\">\n",
       "  <thead>\n",
       "    <tr style=\"text-align: right;\">\n",
       "      <th></th>\n",
       "      <th>best_f1_score</th>\n",
       "      <th>time_taken(s)</th>\n",
       "      <th>best_est</th>\n",
       "    </tr>\n",
       "  </thead>\n",
       "  <tbody>\n",
       "    <tr>\n",
       "      <th>LogisticRegression</th>\n",
       "      <td>0.842906</td>\n",
       "      <td>5.10</td>\n",
       "      <td>LogisticRegression(C=1.0, class_weight=None, d...</td>\n",
       "    </tr>\n",
       "    <tr>\n",
       "      <th>RandomForestClassifier</th>\n",
       "      <td>0.921618</td>\n",
       "      <td>4.56</td>\n",
       "      <td>(DecisionTreeClassifier(class_weight=None, cri...</td>\n",
       "    </tr>\n",
       "    <tr>\n",
       "      <th>AdaBoostClassifier</th>\n",
       "      <td>0.896027</td>\n",
       "      <td>18.82</td>\n",
       "      <td>(DecisionTreeClassifier(class_weight=None, cri...</td>\n",
       "    </tr>\n",
       "    <tr>\n",
       "      <th>GradientBoostingClassifier</th>\n",
       "      <td>0.920881</td>\n",
       "      <td>60.56</td>\n",
       "      <td>([DecisionTreeRegressor(criterion='friedman_ms...</td>\n",
       "    </tr>\n",
       "  </tbody>\n",
       "</table>\n",
       "</div>"
      ],
      "text/plain": [
       "                            best_f1_score  time_taken(s)  \\\n",
       "LogisticRegression               0.842906           5.10   \n",
       "RandomForestClassifier           0.921618           4.56   \n",
       "AdaBoostClassifier               0.896027          18.82   \n",
       "GradientBoostingClassifier       0.920881          60.56   \n",
       "\n",
       "                                                                     best_est  \n",
       "LogisticRegression          LogisticRegression(C=1.0, class_weight=None, d...  \n",
       "RandomForestClassifier      (DecisionTreeClassifier(class_weight=None, cri...  \n",
       "AdaBoostClassifier          (DecisionTreeClassifier(class_weight=None, cri...  \n",
       "GradientBoostingClassifier  ([DecisionTreeRegressor(criterion='friedman_ms...  "
      ]
     },
     "execution_count": 132,
     "metadata": {},
     "output_type": "execute_result"
    }
   ],
   "source": [
    "# Create clf_df dataframe from clf_dict\n",
    "clf_dict['best_f1_score'] = clf_scores\n",
    "clf_dict['time_taken(s)'] = clf_time_taken\n",
    "clf_dict['best_est'] = clf_best_ests\n",
    "clf_df = pd.DataFrame(clf_dict, index=clf_names)\n",
    "clf_df"
   ]
  },
  {
   "cell_type": "markdown",
   "metadata": {},
   "source": [
    "**From above, we can observe that the all our trained classifier produce better f1_score than the threshold f1_score of 0.6996.\n",
    "RandomForestClassifier and GradientBoostingClassifier has nearly equal f1_score(approx. 0.92) but RandomForestClassifier take very less time to train than the GradientBoostingClassifier. Therefore, best performing classifier algorithm among the above 4 classifiers is RandomForestClassifier.**"
   ]
  },
  {
   "cell_type": "code",
   "execution_count": 133,
   "metadata": {},
   "outputs": [
    {
     "data": {
      "text/plain": [
       "RandomForestClassifier(bootstrap=True, class_weight=None, criterion='gini',\n",
       "            max_depth=None, max_features='auto', max_leaf_nodes=None,\n",
       "            min_impurity_decrease=0.0, min_impurity_split=None,\n",
       "            min_samples_leaf=1, min_samples_split=2,\n",
       "            min_weight_fraction_leaf=0.0, n_estimators=10, n_jobs=1,\n",
       "            oob_score=False, random_state=42, verbose=0, warm_start=False)"
      ]
     },
     "execution_count": 133,
     "metadata": {},
     "output_type": "execute_result"
    }
   ],
   "source": [
    "# Print the best estimator of RandomForestClassifier\n",
    "clf_df.loc['RandomForestClassifier', 'best_est']"
   ]
  },
  {
   "cell_type": "code",
   "execution_count": 134,
   "metadata": {},
   "outputs": [
    {
     "data": {
      "text/plain": [
       "array([0, 1])"
      ]
     },
     "execution_count": 134,
     "metadata": {},
     "output_type": "execute_result"
    }
   ],
   "source": [
    "# Print the classes known to the best estimator of RandomForestClassifier\n",
    "clf_df.loc['RandomForestClassifier', 'best_est'].classes_"
   ]
  },
  {
   "cell_type": "markdown",
   "metadata": {},
   "source": [
    "### Fine tune the trained model"
   ]
  },
  {
   "cell_type": "code",
   "execution_count": 135,
   "metadata": {},
   "outputs": [
    {
     "name": "stdout",
     "output_type": "stream",
     "text": [
      "Training RandomForestClassifier :\n",
      "RandomForestClassifier\n",
      "Time taken : 19.83 secs\n",
      "Best f1_score : 0.9319\n",
      "****************************************\n"
     ]
    },
    {
     "data": {
      "text/plain": [
       "RandomForestClassifier(bootstrap=True, class_weight=None, criterion='gini',\n",
       "            max_depth=None, max_features='auto', max_leaf_nodes=None,\n",
       "            min_impurity_decrease=0.0, min_impurity_split=None,\n",
       "            min_samples_leaf=1, min_samples_split=3,\n",
       "            min_weight_fraction_leaf=0.0, n_estimators=50, n_jobs=1,\n",
       "            oob_score=False, random_state=42, verbose=0, warm_start=False)"
      ]
     },
     "execution_count": 135,
     "metadata": {},
     "output_type": "execute_result"
    }
   ],
   "source": [
    "# Tune the best classifier(RandomForestClassifier) with the help of param grid in GridSearchCV\n",
    "# The fine tuned model will be used with the test set\n",
    "param_grid = {#'n_estimators': [10, 50, 80, 100],\n",
    "              'n_estimators': [50],\n",
    "              #'max_depth': [None, 2, 3, 4],\n",
    "              'max_depth': [None],\n",
    "              #'min_samples_split': [2,3,4],\n",
    "              'min_samples_split': [3],\n",
    "              #'min_samples_leaf': [1,2,3],\n",
    "              'min_samples_leaf': [1]\n",
    "             }\n",
    "\n",
    "rfc = RandomForestClassifier(random_state=42)\n",
    "rfc_best_score, rfc_best_est, _ = fit_classifier(rfc, param_grid)\n",
    "rfc_best_est"
   ]
  },
  {
   "cell_type": "markdown",
   "metadata": {},
   "source": [
    "**From above, we can observe that after fine tuning the trained RandomForestClassifier, we get improved and more better f1_score of 0.9319**."
   ]
  },
  {
   "cell_type": "markdown",
   "metadata": {},
   "source": [
    "### Feature Importances given by best estimator of trained model"
   ]
  },
  {
   "cell_type": "code",
   "execution_count": 136,
   "metadata": {},
   "outputs": [
    {
     "data": {
      "text/plain": [
       "array([  4.73778202e-03,   4.88131414e-03,   5.31021640e-03,\n",
       "         5.14710721e-03,   4.64540668e-03,   1.86772350e-02,\n",
       "         6.82320425e-03,   7.27729138e-03,   1.14704517e-03,\n",
       "         1.75422080e-03,   5.84117391e-03,   5.58822964e-03,\n",
       "         6.47512543e-03,   7.51663834e-03,   7.36934003e-03,\n",
       "         6.07272091e-03,   4.19019093e-03,   2.16191356e-03,\n",
       "         1.30503797e-04,   1.17601710e-03,   2.29013947e-03,\n",
       "         4.19585024e-03,   1.04213591e-02,   4.65628201e-03,\n",
       "         1.23648035e-02,   4.25730593e-03,   3.86961636e-03,\n",
       "         4.20549488e-03,   4.32480661e-03,   4.21046041e-03,\n",
       "         4.11720635e-03,   4.33477372e-03,   4.42233119e-03,\n",
       "         4.44105960e-03,   4.48856380e-03,   4.56184607e-03,\n",
       "         4.46509981e-03,   7.92205269e-03,   6.77998684e-03,\n",
       "         6.16906698e-03,   5.49462117e-03,   5.77049450e-03,\n",
       "         5.16543536e-03,   4.59383635e-03,   3.48839480e-03,\n",
       "         3.85458082e-03,   2.52440068e-04,   1.60824526e-02,\n",
       "         1.55237721e-02,   1.45034138e-02,   9.36572503e-02,\n",
       "         6.18192526e-01])"
      ]
     },
     "execution_count": 136,
     "metadata": {},
     "output_type": "execute_result"
    }
   ],
   "source": [
    "# Print RandomForestClassifier best estimator feature importances\n",
    "rfc_best_est.feature_importances_"
   ]
  },
  {
   "cell_type": "code",
   "execution_count": 137,
   "metadata": {},
   "outputs": [
    {
     "data": {
      "text/plain": [
       "(52,)"
      ]
     },
     "execution_count": 137,
     "metadata": {},
     "output_type": "execute_result"
    }
   ],
   "source": [
    "# Print shape of RandomForestClassifier best estimator feature importances\n",
    "rfc_best_est.feature_importances_.shape"
   ]
  },
  {
   "cell_type": "code",
   "execution_count": 138,
   "metadata": {},
   "outputs": [
    {
     "data": {
      "text/html": [
       "<div>\n",
       "<style scoped>\n",
       "    .dataframe tbody tr th:only-of-type {\n",
       "        vertical-align: middle;\n",
       "    }\n",
       "\n",
       "    .dataframe tbody tr th {\n",
       "        vertical-align: top;\n",
       "    }\n",
       "\n",
       "    .dataframe thead th {\n",
       "        text-align: right;\n",
       "    }\n",
       "</style>\n",
       "<table border=\"1\" class=\"dataframe\">\n",
       "  <thead>\n",
       "    <tr style=\"text-align: right;\">\n",
       "      <th></th>\n",
       "      <th>feature</th>\n",
       "      <th>feat_imp</th>\n",
       "      <th>feat_imp_perc</th>\n",
       "    </tr>\n",
       "  </thead>\n",
       "  <tbody>\n",
       "    <tr>\n",
       "      <th>0</th>\n",
       "      <td>total_amount</td>\n",
       "      <td>0.618193</td>\n",
       "      <td>61.82</td>\n",
       "    </tr>\n",
       "    <tr>\n",
       "      <th>1</th>\n",
       "      <td>membership_tenure</td>\n",
       "      <td>0.093657</td>\n",
       "      <td>9.37</td>\n",
       "    </tr>\n",
       "    <tr>\n",
       "      <th>2</th>\n",
       "      <td>social</td>\n",
       "      <td>0.018677</td>\n",
       "      <td>1.87</td>\n",
       "    </tr>\n",
       "    <tr>\n",
       "      <th>3</th>\n",
       "      <td>difficulty</td>\n",
       "      <td>0.016082</td>\n",
       "      <td>1.61</td>\n",
       "    </tr>\n",
       "    <tr>\n",
       "      <th>4</th>\n",
       "      <td>duration</td>\n",
       "      <td>0.015524</td>\n",
       "      <td>1.55</td>\n",
       "    </tr>\n",
       "    <tr>\n",
       "      <th>5</th>\n",
       "      <td>reward</td>\n",
       "      <td>0.014503</td>\n",
       "      <td>1.45</td>\n",
       "    </tr>\n",
       "    <tr>\n",
       "      <th>6</th>\n",
       "      <td>2018</td>\n",
       "      <td>0.012365</td>\n",
       "      <td>1.24</td>\n",
       "    </tr>\n",
       "    <tr>\n",
       "      <th>7</th>\n",
       "      <td>2016</td>\n",
       "      <td>0.010421</td>\n",
       "      <td>1.04</td>\n",
       "    </tr>\n",
       "    <tr>\n",
       "      <th>8</th>\n",
       "      <td>income_30ths</td>\n",
       "      <td>0.007922</td>\n",
       "      <td>0.79</td>\n",
       "    </tr>\n",
       "    <tr>\n",
       "      <th>9</th>\n",
       "      <td>age_50s</td>\n",
       "      <td>0.007517</td>\n",
       "      <td>0.75</td>\n",
       "    </tr>\n",
       "    <tr>\n",
       "      <th>10</th>\n",
       "      <td>age_60s</td>\n",
       "      <td>0.007369</td>\n",
       "      <td>0.74</td>\n",
       "    </tr>\n",
       "    <tr>\n",
       "      <th>11</th>\n",
       "      <td>M</td>\n",
       "      <td>0.007277</td>\n",
       "      <td>0.73</td>\n",
       "    </tr>\n",
       "    <tr>\n",
       "      <th>12</th>\n",
       "      <td>income_40ths</td>\n",
       "      <td>0.006780</td>\n",
       "      <td>0.68</td>\n",
       "    </tr>\n",
       "    <tr>\n",
       "      <th>13</th>\n",
       "      <td>F</td>\n",
       "      <td>0.006823</td>\n",
       "      <td>0.68</td>\n",
       "    </tr>\n",
       "    <tr>\n",
       "      <th>14</th>\n",
       "      <td>age_40s</td>\n",
       "      <td>0.006475</td>\n",
       "      <td>0.65</td>\n",
       "    </tr>\n",
       "    <tr>\n",
       "      <th>15</th>\n",
       "      <td>income_50ths</td>\n",
       "      <td>0.006169</td>\n",
       "      <td>0.62</td>\n",
       "    </tr>\n",
       "    <tr>\n",
       "      <th>16</th>\n",
       "      <td>age_70s</td>\n",
       "      <td>0.006073</td>\n",
       "      <td>0.61</td>\n",
       "    </tr>\n",
       "    <tr>\n",
       "      <th>17</th>\n",
       "      <td>income_70ths</td>\n",
       "      <td>0.005770</td>\n",
       "      <td>0.58</td>\n",
       "    </tr>\n",
       "    <tr>\n",
       "      <th>18</th>\n",
       "      <td>age_20s</td>\n",
       "      <td>0.005841</td>\n",
       "      <td>0.58</td>\n",
       "    </tr>\n",
       "    <tr>\n",
       "      <th>19</th>\n",
       "      <td>age_30s</td>\n",
       "      <td>0.005588</td>\n",
       "      <td>0.56</td>\n",
       "    </tr>\n",
       "    <tr>\n",
       "      <th>20</th>\n",
       "      <td>income_60ths</td>\n",
       "      <td>0.005495</td>\n",
       "      <td>0.55</td>\n",
       "    </tr>\n",
       "    <tr>\n",
       "      <th>21</th>\n",
       "      <td>informational</td>\n",
       "      <td>0.005310</td>\n",
       "      <td>0.53</td>\n",
       "    </tr>\n",
       "    <tr>\n",
       "      <th>22</th>\n",
       "      <td>income_80ths</td>\n",
       "      <td>0.005165</td>\n",
       "      <td>0.52</td>\n",
       "    </tr>\n",
       "    <tr>\n",
       "      <th>23</th>\n",
       "      <td>web</td>\n",
       "      <td>0.005147</td>\n",
       "      <td>0.51</td>\n",
       "    </tr>\n",
       "    <tr>\n",
       "      <th>24</th>\n",
       "      <td>discount</td>\n",
       "      <td>0.004881</td>\n",
       "      <td>0.49</td>\n",
       "    </tr>\n",
       "    <tr>\n",
       "      <th>25</th>\n",
       "      <td>bogo</td>\n",
       "      <td>0.004738</td>\n",
       "      <td>0.47</td>\n",
       "    </tr>\n",
       "    <tr>\n",
       "      <th>26</th>\n",
       "      <td>2017</td>\n",
       "      <td>0.004656</td>\n",
       "      <td>0.47</td>\n",
       "    </tr>\n",
       "    <tr>\n",
       "      <th>27</th>\n",
       "      <td>income_90ths</td>\n",
       "      <td>0.004594</td>\n",
       "      <td>0.46</td>\n",
       "    </tr>\n",
       "    <tr>\n",
       "      <th>28</th>\n",
       "      <td>mobile</td>\n",
       "      <td>0.004645</td>\n",
       "      <td>0.46</td>\n",
       "    </tr>\n",
       "    <tr>\n",
       "      <th>29</th>\n",
       "      <td>month_11</td>\n",
       "      <td>0.004562</td>\n",
       "      <td>0.46</td>\n",
       "    </tr>\n",
       "    <tr>\n",
       "      <th>30</th>\n",
       "      <td>month_10</td>\n",
       "      <td>0.004489</td>\n",
       "      <td>0.45</td>\n",
       "    </tr>\n",
       "    <tr>\n",
       "      <th>31</th>\n",
       "      <td>month_12</td>\n",
       "      <td>0.004465</td>\n",
       "      <td>0.45</td>\n",
       "    </tr>\n",
       "    <tr>\n",
       "      <th>32</th>\n",
       "      <td>month_8</td>\n",
       "      <td>0.004422</td>\n",
       "      <td>0.44</td>\n",
       "    </tr>\n",
       "    <tr>\n",
       "      <th>33</th>\n",
       "      <td>month_9</td>\n",
       "      <td>0.004441</td>\n",
       "      <td>0.44</td>\n",
       "    </tr>\n",
       "    <tr>\n",
       "      <th>34</th>\n",
       "      <td>month_1</td>\n",
       "      <td>0.004257</td>\n",
       "      <td>0.43</td>\n",
       "    </tr>\n",
       "    <tr>\n",
       "      <th>35</th>\n",
       "      <td>month_7</td>\n",
       "      <td>0.004335</td>\n",
       "      <td>0.43</td>\n",
       "    </tr>\n",
       "    <tr>\n",
       "      <th>36</th>\n",
       "      <td>month_4</td>\n",
       "      <td>0.004325</td>\n",
       "      <td>0.43</td>\n",
       "    </tr>\n",
       "    <tr>\n",
       "      <th>37</th>\n",
       "      <td>month_5</td>\n",
       "      <td>0.004210</td>\n",
       "      <td>0.42</td>\n",
       "    </tr>\n",
       "    <tr>\n",
       "      <th>38</th>\n",
       "      <td>2015</td>\n",
       "      <td>0.004196</td>\n",
       "      <td>0.42</td>\n",
       "    </tr>\n",
       "    <tr>\n",
       "      <th>39</th>\n",
       "      <td>month_3</td>\n",
       "      <td>0.004205</td>\n",
       "      <td>0.42</td>\n",
       "    </tr>\n",
       "    <tr>\n",
       "      <th>40</th>\n",
       "      <td>age_80s</td>\n",
       "      <td>0.004190</td>\n",
       "      <td>0.42</td>\n",
       "    </tr>\n",
       "    <tr>\n",
       "      <th>41</th>\n",
       "      <td>month_6</td>\n",
       "      <td>0.004117</td>\n",
       "      <td>0.41</td>\n",
       "    </tr>\n",
       "    <tr>\n",
       "      <th>42</th>\n",
       "      <td>income_110ths</td>\n",
       "      <td>0.003855</td>\n",
       "      <td>0.39</td>\n",
       "    </tr>\n",
       "    <tr>\n",
       "      <th>43</th>\n",
       "      <td>month_2</td>\n",
       "      <td>0.003870</td>\n",
       "      <td>0.39</td>\n",
       "    </tr>\n",
       "    <tr>\n",
       "      <th>44</th>\n",
       "      <td>income_100ths</td>\n",
       "      <td>0.003488</td>\n",
       "      <td>0.35</td>\n",
       "    </tr>\n",
       "    <tr>\n",
       "      <th>45</th>\n",
       "      <td>2014</td>\n",
       "      <td>0.002290</td>\n",
       "      <td>0.23</td>\n",
       "    </tr>\n",
       "    <tr>\n",
       "      <th>46</th>\n",
       "      <td>age_90s</td>\n",
       "      <td>0.002162</td>\n",
       "      <td>0.22</td>\n",
       "    </tr>\n",
       "    <tr>\n",
       "      <th>47</th>\n",
       "      <td>age_10s</td>\n",
       "      <td>0.001754</td>\n",
       "      <td>0.18</td>\n",
       "    </tr>\n",
       "    <tr>\n",
       "      <th>48</th>\n",
       "      <td>2013</td>\n",
       "      <td>0.001176</td>\n",
       "      <td>0.12</td>\n",
       "    </tr>\n",
       "    <tr>\n",
       "      <th>49</th>\n",
       "      <td>O</td>\n",
       "      <td>0.001147</td>\n",
       "      <td>0.11</td>\n",
       "    </tr>\n",
       "    <tr>\n",
       "      <th>50</th>\n",
       "      <td>income_120ths</td>\n",
       "      <td>0.000252</td>\n",
       "      <td>0.03</td>\n",
       "    </tr>\n",
       "    <tr>\n",
       "      <th>51</th>\n",
       "      <td>age_100s</td>\n",
       "      <td>0.000131</td>\n",
       "      <td>0.01</td>\n",
       "    </tr>\n",
       "  </tbody>\n",
       "</table>\n",
       "</div>"
      ],
      "text/plain": [
       "              feature  feat_imp  feat_imp_perc\n",
       "0        total_amount  0.618193          61.82\n",
       "1   membership_tenure  0.093657           9.37\n",
       "2              social  0.018677           1.87\n",
       "3          difficulty  0.016082           1.61\n",
       "4            duration  0.015524           1.55\n",
       "5              reward  0.014503           1.45\n",
       "6                2018  0.012365           1.24\n",
       "7                2016  0.010421           1.04\n",
       "8        income_30ths  0.007922           0.79\n",
       "9             age_50s  0.007517           0.75\n",
       "10            age_60s  0.007369           0.74\n",
       "11                  M  0.007277           0.73\n",
       "12       income_40ths  0.006780           0.68\n",
       "13                  F  0.006823           0.68\n",
       "14            age_40s  0.006475           0.65\n",
       "15       income_50ths  0.006169           0.62\n",
       "16            age_70s  0.006073           0.61\n",
       "17       income_70ths  0.005770           0.58\n",
       "18            age_20s  0.005841           0.58\n",
       "19            age_30s  0.005588           0.56\n",
       "20       income_60ths  0.005495           0.55\n",
       "21      informational  0.005310           0.53\n",
       "22       income_80ths  0.005165           0.52\n",
       "23                web  0.005147           0.51\n",
       "24           discount  0.004881           0.49\n",
       "25               bogo  0.004738           0.47\n",
       "26               2017  0.004656           0.47\n",
       "27       income_90ths  0.004594           0.46\n",
       "28             mobile  0.004645           0.46\n",
       "29           month_11  0.004562           0.46\n",
       "30           month_10  0.004489           0.45\n",
       "31           month_12  0.004465           0.45\n",
       "32            month_8  0.004422           0.44\n",
       "33            month_9  0.004441           0.44\n",
       "34            month_1  0.004257           0.43\n",
       "35            month_7  0.004335           0.43\n",
       "36            month_4  0.004325           0.43\n",
       "37            month_5  0.004210           0.42\n",
       "38               2015  0.004196           0.42\n",
       "39            month_3  0.004205           0.42\n",
       "40            age_80s  0.004190           0.42\n",
       "41            month_6  0.004117           0.41\n",
       "42      income_110ths  0.003855           0.39\n",
       "43            month_2  0.003870           0.39\n",
       "44      income_100ths  0.003488           0.35\n",
       "45               2014  0.002290           0.23\n",
       "46            age_90s  0.002162           0.22\n",
       "47            age_10s  0.001754           0.18\n",
       "48               2013  0.001176           0.12\n",
       "49                  O  0.001147           0.11\n",
       "50      income_120ths  0.000252           0.03\n",
       "51           age_100s  0.000131           0.01"
      ]
     },
     "execution_count": 138,
     "metadata": {},
     "output_type": "execute_result"
    }
   ],
   "source": [
    "# Prepare the dataframe of feature importances given to features by best estimator of RandomForestClassifier\n",
    "feat_imp_df = pd.DataFrame(rfc_best_est.feature_importances_,\\\n",
    "                           index=X_train_scaled.columns.tolist(),\\\n",
    "                           columns=['feat_imp']).reset_index()\n",
    "\n",
    "feat_imp_df.rename(columns={'index': 'feature'}, inplace=True)\n",
    "feat_imp_df['feat_imp_perc'] = np.round((feat_imp_df['feat_imp']/feat_imp_df['feat_imp'].sum())*100,2)\n",
    "feat_imp_df = feat_imp_df.sort_values(by=['feat_imp_perc'], ascending=False).reset_index(drop=True)\n",
    "feat_imp_df"
   ]
  },
  {
   "cell_type": "code",
   "execution_count": 139,
   "metadata": {},
   "outputs": [
    {
     "data": {
      "image/png": "[encoded data removed]",
      "text/plain": [
       "<matplotlib.figure.Figure at 0x7fa7f989d198>"
      ]
     },
     "metadata": {
      "needs_background": "light"
     },
     "output_type": "display_data"
    }
   ],
   "source": [
    "# Plot horizontal bar graph of features with their importances given by best estimator of RandomForestClassifier\n",
    "fig, ax = plt.subplots(figsize=(10, 20),\n",
    "                       nrows=1,\n",
    "                       ncols=1)\n",
    "\n",
    "sns.barplot(x='feat_imp_perc', y='feature', color='teal', data=feat_imp_df)\n",
    "plt.xlabel('Percentage')\n",
    "#plt.xticks(rotation='horizontal')\n",
    "plt.ylabel('Feature')\n",
    "plt.title('Top 10 Feature Importance Percentage')\n",
    "plt.show()"
   ]
  },
  {
   "cell_type": "code",
   "execution_count": 140,
   "metadata": {},
   "outputs": [
    {
     "data": {
      "text/html": [
       "<div>\n",
       "<style scoped>\n",
       "    .dataframe tbody tr th:only-of-type {\n",
       "        vertical-align: middle;\n",
       "    }\n",
       "\n",
       "    .dataframe tbody tr th {\n",
       "        vertical-align: top;\n",
       "    }\n",
       "\n",
       "    .dataframe thead th {\n",
       "        text-align: right;\n",
       "    }\n",
       "</style>\n",
       "<table border=\"1\" class=\"dataframe\">\n",
       "  <thead>\n",
       "    <tr style=\"text-align: right;\">\n",
       "      <th></th>\n",
       "      <th>feature</th>\n",
       "      <th>feat_imp</th>\n",
       "      <th>feat_imp_perc</th>\n",
       "    </tr>\n",
       "  </thead>\n",
       "  <tbody>\n",
       "    <tr>\n",
       "      <th>0</th>\n",
       "      <td>total_amount</td>\n",
       "      <td>0.618193</td>\n",
       "      <td>61.82</td>\n",
       "    </tr>\n",
       "    <tr>\n",
       "      <th>1</th>\n",
       "      <td>membership_tenure</td>\n",
       "      <td>0.093657</td>\n",
       "      <td>9.37</td>\n",
       "    </tr>\n",
       "    <tr>\n",
       "      <th>2</th>\n",
       "      <td>social</td>\n",
       "      <td>0.018677</td>\n",
       "      <td>1.87</td>\n",
       "    </tr>\n",
       "    <tr>\n",
       "      <th>3</th>\n",
       "      <td>difficulty</td>\n",
       "      <td>0.016082</td>\n",
       "      <td>1.61</td>\n",
       "    </tr>\n",
       "    <tr>\n",
       "      <th>4</th>\n",
       "      <td>duration</td>\n",
       "      <td>0.015524</td>\n",
       "      <td>1.55</td>\n",
       "    </tr>\n",
       "    <tr>\n",
       "      <th>5</th>\n",
       "      <td>reward</td>\n",
       "      <td>0.014503</td>\n",
       "      <td>1.45</td>\n",
       "    </tr>\n",
       "    <tr>\n",
       "      <th>6</th>\n",
       "      <td>2018</td>\n",
       "      <td>0.012365</td>\n",
       "      <td>1.24</td>\n",
       "    </tr>\n",
       "    <tr>\n",
       "      <th>7</th>\n",
       "      <td>2016</td>\n",
       "      <td>0.010421</td>\n",
       "      <td>1.04</td>\n",
       "    </tr>\n",
       "    <tr>\n",
       "      <th>8</th>\n",
       "      <td>income_30ths</td>\n",
       "      <td>0.007922</td>\n",
       "      <td>0.79</td>\n",
       "    </tr>\n",
       "    <tr>\n",
       "      <th>9</th>\n",
       "      <td>age_50s</td>\n",
       "      <td>0.007517</td>\n",
       "      <td>0.75</td>\n",
       "    </tr>\n",
       "  </tbody>\n",
       "</table>\n",
       "</div>"
      ],
      "text/plain": [
       "             feature  feat_imp  feat_imp_perc\n",
       "0       total_amount  0.618193          61.82\n",
       "1  membership_tenure  0.093657           9.37\n",
       "2             social  0.018677           1.87\n",
       "3         difficulty  0.016082           1.61\n",
       "4           duration  0.015524           1.55\n",
       "5             reward  0.014503           1.45\n",
       "6               2018  0.012365           1.24\n",
       "7               2016  0.010421           1.04\n",
       "8       income_30ths  0.007922           0.79\n",
       "9            age_50s  0.007517           0.75"
      ]
     },
     "execution_count": 140,
     "metadata": {},
     "output_type": "execute_result"
    }
   ],
   "source": [
    "# Print top 10 features\n",
    "feat_imp_df[:10]"
   ]
  },
  {
   "cell_type": "markdown",
   "metadata": {},
   "source": [
    "From above, we can observe the following:\n",
    "* Top 10 features which influence whether the customer will respond to an offer or not after viewing the offer are: `'total_amount', 'membership_tenure' , 'social', 'difficulty', 'duration', 'reward', '2018', '2016', 'income_30ths'` and `'age_50s'`.\n",
    "* `total_amount` spent by the customer is the biggest and largest feature which could one sided influence if the customer will complete an offer after viewing the offer i.e. how much a customer spend is likely to decide if a customer will complete an offer. Therefore, knowing how much a customer can spend beforehand can definitely help in determining if a customer will respond to an offer and complete it. For this, another supervised learning algorithms i.e. regression models would be required in order to predict the total amount an individual could spend based on offer data and customer demographic data.\n",
    "* After `'total_amount'`, `'membership_tenure'` is the second largest feature - which represents, how long the customer has been the member of Starbucks reward program heavily influence if the customer will complete an offer after responding to it.\n",
    "* After `'membership_tenure'`, `'social feature'` - which represents, if Starbucks sent the offer to customer via social media is likely to be responded more that other mode of communication.\n",
    "* After `'social'` feature, the `'difficulty'` feature - which represents, minimum amount to spent in order to complete the offer influence if the customer would response and complete the offer.\n",
    "* After `'difficulty'` feature, `'duration'` feature - which represents, how long the offer is valid influence the customer response and completion of the offer.\n",
    "* After `'duration'` feature, `'reward'` feature - which represents, how much amount as a reward, a customer is getting back influence if the customer would response and complete the offer.\n",
    "* After `'reward'` feature, `'2018'` and `'2016'` feature, which represents - if a customer became member of Starbucks reward program in years 2016 & 2018, had more chance of responding to an offer and completing it.\n",
    "* After `'2018'` and `'2016'` feature, `'income_30ths'` feature, which represents - if customer's income is in 30000's which is the starting income group, then customer is likely to respond more to an offer and complete it.\n",
    "* After `'income_30ths` feature, `'age_50s'` feature which represents - if the customer age is in 50's, then customer is likely to respond more to an offer and complete it."
   ]
  },
  {
   "cell_type": "markdown",
   "metadata": {},
   "source": [
    "### Predict classes for the test data"
   ]
  },
  {
   "cell_type": "code",
   "execution_count": 141,
   "metadata": {},
   "outputs": [
    {
     "data": {
      "text/html": [
       "<div>\n",
       "<style scoped>\n",
       "    .dataframe tbody tr th:only-of-type {\n",
       "        vertical-align: middle;\n",
       "    }\n",
       "\n",
       "    .dataframe tbody tr th {\n",
       "        vertical-align: top;\n",
       "    }\n",
       "\n",
       "    .dataframe thead th {\n",
       "        text-align: right;\n",
       "    }\n",
       "</style>\n",
       "<table border=\"1\" class=\"dataframe\">\n",
       "  <thead>\n",
       "    <tr style=\"text-align: right;\">\n",
       "      <th></th>\n",
       "      <th>bogo</th>\n",
       "      <th>discount</th>\n",
       "      <th>informational</th>\n",
       "      <th>web</th>\n",
       "      <th>mobile</th>\n",
       "      <th>social</th>\n",
       "      <th>F</th>\n",
       "      <th>M</th>\n",
       "      <th>O</th>\n",
       "      <th>age_10s</th>\n",
       "      <th>...</th>\n",
       "      <th>income_80ths</th>\n",
       "      <th>income_90ths</th>\n",
       "      <th>income_100ths</th>\n",
       "      <th>income_110ths</th>\n",
       "      <th>income_120ths</th>\n",
       "      <th>difficulty</th>\n",
       "      <th>duration</th>\n",
       "      <th>reward</th>\n",
       "      <th>membership_tenure</th>\n",
       "      <th>total_amount</th>\n",
       "    </tr>\n",
       "  </thead>\n",
       "  <tbody>\n",
       "    <tr>\n",
       "      <th>20034</th>\n",
       "      <td>1</td>\n",
       "      <td>0</td>\n",
       "      <td>0</td>\n",
       "      <td>1</td>\n",
       "      <td>1</td>\n",
       "      <td>0</td>\n",
       "      <td>0</td>\n",
       "      <td>1</td>\n",
       "      <td>0</td>\n",
       "      <td>0</td>\n",
       "      <td>...</td>\n",
       "      <td>0</td>\n",
       "      <td>0</td>\n",
       "      <td>0</td>\n",
       "      <td>0</td>\n",
       "      <td>0</td>\n",
       "      <td>0.25</td>\n",
       "      <td>0.571429</td>\n",
       "      <td>0.5</td>\n",
       "      <td>0.503017</td>\n",
       "      <td>0.004838</td>\n",
       "    </tr>\n",
       "    <tr>\n",
       "      <th>55752</th>\n",
       "      <td>1</td>\n",
       "      <td>0</td>\n",
       "      <td>0</td>\n",
       "      <td>0</td>\n",
       "      <td>1</td>\n",
       "      <td>1</td>\n",
       "      <td>0</td>\n",
       "      <td>1</td>\n",
       "      <td>0</td>\n",
       "      <td>0</td>\n",
       "      <td>...</td>\n",
       "      <td>0</td>\n",
       "      <td>0</td>\n",
       "      <td>0</td>\n",
       "      <td>0</td>\n",
       "      <td>0</td>\n",
       "      <td>0.50</td>\n",
       "      <td>0.571429</td>\n",
       "      <td>1.0</td>\n",
       "      <td>0.815688</td>\n",
       "      <td>0.016028</td>\n",
       "    </tr>\n",
       "    <tr>\n",
       "      <th>61495</th>\n",
       "      <td>1</td>\n",
       "      <td>0</td>\n",
       "      <td>0</td>\n",
       "      <td>1</td>\n",
       "      <td>1</td>\n",
       "      <td>1</td>\n",
       "      <td>0</td>\n",
       "      <td>1</td>\n",
       "      <td>0</td>\n",
       "      <td>0</td>\n",
       "      <td>...</td>\n",
       "      <td>0</td>\n",
       "      <td>0</td>\n",
       "      <td>0</td>\n",
       "      <td>0</td>\n",
       "      <td>0</td>\n",
       "      <td>0.25</td>\n",
       "      <td>0.285714</td>\n",
       "      <td>0.5</td>\n",
       "      <td>0.399342</td>\n",
       "      <td>0.016362</td>\n",
       "    </tr>\n",
       "    <tr>\n",
       "      <th>34391</th>\n",
       "      <td>1</td>\n",
       "      <td>0</td>\n",
       "      <td>0</td>\n",
       "      <td>1</td>\n",
       "      <td>1</td>\n",
       "      <td>1</td>\n",
       "      <td>0</td>\n",
       "      <td>1</td>\n",
       "      <td>0</td>\n",
       "      <td>0</td>\n",
       "      <td>...</td>\n",
       "      <td>0</td>\n",
       "      <td>0</td>\n",
       "      <td>0</td>\n",
       "      <td>0</td>\n",
       "      <td>0</td>\n",
       "      <td>0.25</td>\n",
       "      <td>0.285714</td>\n",
       "      <td>0.5</td>\n",
       "      <td>0.116292</td>\n",
       "      <td>0.000000</td>\n",
       "    </tr>\n",
       "    <tr>\n",
       "      <th>36619</th>\n",
       "      <td>1</td>\n",
       "      <td>0</td>\n",
       "      <td>0</td>\n",
       "      <td>1</td>\n",
       "      <td>1</td>\n",
       "      <td>1</td>\n",
       "      <td>0</td>\n",
       "      <td>1</td>\n",
       "      <td>0</td>\n",
       "      <td>0</td>\n",
       "      <td>...</td>\n",
       "      <td>0</td>\n",
       "      <td>0</td>\n",
       "      <td>0</td>\n",
       "      <td>0</td>\n",
       "      <td>0</td>\n",
       "      <td>0.25</td>\n",
       "      <td>0.285714</td>\n",
       "      <td>0.5</td>\n",
       "      <td>0.149205</td>\n",
       "      <td>0.000669</td>\n",
       "    </tr>\n",
       "  </tbody>\n",
       "</table>\n",
       "<p>5 rows × 52 columns</p>\n",
       "</div>"
      ],
      "text/plain": [
       "       bogo  discount  informational  web  mobile  social  F  M  O  age_10s  \\\n",
       "20034     1         0              0    1       1       0  0  1  0        0   \n",
       "55752     1         0              0    0       1       1  0  1  0        0   \n",
       "61495     1         0              0    1       1       1  0  1  0        0   \n",
       "34391     1         0              0    1       1       1  0  1  0        0   \n",
       "36619     1         0              0    1       1       1  0  1  0        0   \n",
       "\n",
       "           ...       income_80ths  income_90ths  income_100ths  income_110ths  \\\n",
       "20034      ...                  0             0              0              0   \n",
       "55752      ...                  0             0              0              0   \n",
       "61495      ...                  0             0              0              0   \n",
       "34391      ...                  0             0              0              0   \n",
       "36619      ...                  0             0              0              0   \n",
       "\n",
       "       income_120ths  difficulty  duration  reward  membership_tenure  \\\n",
       "20034              0        0.25  0.571429     0.5           0.503017   \n",
       "55752              0        0.50  0.571429     1.0           0.815688   \n",
       "61495              0        0.25  0.285714     0.5           0.399342   \n",
       "34391              0        0.25  0.285714     0.5           0.116292   \n",
       "36619              0        0.25  0.285714     0.5           0.149205   \n",
       "\n",
       "       total_amount  \n",
       "20034      0.004838  \n",
       "55752      0.016028  \n",
       "61495      0.016362  \n",
       "34391      0.000000  \n",
       "36619      0.000669  \n",
       "\n",
       "[5 rows x 52 columns]"
      ]
     },
     "execution_count": 141,
     "metadata": {},
     "output_type": "execute_result"
    }
   ],
   "source": [
    "# Prepare test data in order to predict classes for the test data\n",
    "# Scale selected features in test set i.e. X_test\n",
    "X_test_scaled = func_feat_scale(X_test, feat=feat_to_scale)\n",
    "X_test_scaled.head()"
   ]
  },
  {
   "cell_type": "code",
   "execution_count": 142,
   "metadata": {},
   "outputs": [
    {
     "data": {
      "text/plain": [
       "(16626, 52)"
      ]
     },
     "execution_count": 142,
     "metadata": {},
     "output_type": "execute_result"
    }
   ],
   "source": [
    "# Print shape of dataframe X_test_scaled\n",
    "X_test_scaled.shape"
   ]
  },
  {
   "cell_type": "code",
   "execution_count": 143,
   "metadata": {},
   "outputs": [
    {
     "data": {
      "text/plain": [
       "(16626, 1)"
      ]
     },
     "execution_count": 143,
     "metadata": {},
     "output_type": "execute_result"
    }
   ],
   "source": [
    "# Print shape of y_test\n",
    "y_test.shape"
   ]
  },
  {
   "cell_type": "code",
   "execution_count": 144,
   "metadata": {},
   "outputs": [
    {
     "data": {
      "text/plain": [
       "array([0, 1, 1, ..., 0, 0, 1])"
      ]
     },
     "execution_count": 144,
     "metadata": {},
     "output_type": "execute_result"
    }
   ],
   "source": [
    "# Classification of test data using best model trained on train data\n",
    "y_pred = rfc_best_est.predict(X_test_scaled)\n",
    "y_pred"
   ]
  },
  {
   "cell_type": "code",
   "execution_count": 145,
   "metadata": {},
   "outputs": [
    {
     "data": {
      "text/plain": [
       "(16626,)"
      ]
     },
     "execution_count": 145,
     "metadata": {},
     "output_type": "execute_result"
    }
   ],
   "source": [
    "# Print shape of y_pred\n",
    "y_pred.shape"
   ]
  },
  {
   "cell_type": "markdown",
   "metadata": {},
   "source": [
    "### Confusion Matrix"
   ]
  },
  {
   "cell_type": "code",
   "execution_count": 146,
   "metadata": {},
   "outputs": [
    {
     "data": {
      "text/plain": [
       "array([[6733,  873],\n",
       "       [ 359, 8661]])"
      ]
     },
     "execution_count": 146,
     "metadata": {},
     "output_type": "execute_result"
    }
   ],
   "source": [
    "# Calculate confusion matrix\n",
    "confusion_matrix(y_test.squeeze().values, y_pred)"
   ]
  },
  {
   "cell_type": "code",
   "execution_count": 147,
   "metadata": {},
   "outputs": [
    {
     "name": "stdout",
     "output_type": "stream",
     "text": [
      "true negatives: 6733\n",
      "false postives: 873\n",
      "false negatives: 359\n",
      "true postives: 8661\n"
     ]
    }
   ],
   "source": [
    "# Calculate tn, fp, fn, tp from confusion matrix\n",
    "tn, fp, fn, tp = confusion_matrix(y_test.squeeze().values, y_pred).ravel()\n",
    "print('true negatives: {}'.format(tn))\n",
    "print('false postives: {}'.format(fp))\n",
    "print('false negatives: {}'.format(fn))\n",
    "print('true postives: {}'.format(tp))"
   ]
  },
  {
   "cell_type": "code",
   "execution_count": 148,
   "metadata": {},
   "outputs": [
    {
     "name": "stdout",
     "output_type": "stream",
     "text": [
      "f1_score on test data: 0.9336\n",
      "precision score on test data: 0.9084\n",
      "recall score on test data: 0.9602\n"
     ]
    }
   ],
   "source": [
    "# Calculate precision, recall and f1_score of the test data\n",
    "test_data_f1_score = f1_score(y_test.squeeze().values, y_pred)\n",
    "test_data_precision_score = precision_score(y_test.squeeze().values.tolist(), y_pred)\n",
    "test_data_recall_score = recall_score(y_test.squeeze().values, y_pred)\n",
    "print('f1_score on test data: {}'.format(round(test_data_f1_score,4)))\n",
    "print('precision score on test data: {}'.format(round(test_data_precision_score,4)))\n",
    "print('recall score on test data: {}'.format(round(test_data_recall_score,4)))"
   ]
  },
  {
   "cell_type": "markdown",
   "metadata": {},
   "source": [
    "**From above, we observe that the trained RandomForestClassifier best estimator produced f1_score of 0.9336 on test data, which is quite good.**"
   ]
  },
  {
   "cell_type": "code",
   "execution_count": 149,
   "metadata": {},
   "outputs": [],
   "source": [
    "# Define function plot_confusion_matrix which plots confusion matrix\n",
    "def plot_confusion_matrix(y_true, y_pred, classes,\n",
    "                          normalize=False,\n",
    "                          title=None,\n",
    "                          cmap=plt.cm.Blues):\n",
    "    \"\"\"\n",
    "    This function prints and plots the confusion matrix.\n",
    "    Normalization can be applied by setting `normalize=True`.\n",
    "    \n",
    "    INPUT:\n",
    "    - y_true (np.array): array containing true labels\n",
    "    - y_pred (np.array): array containing predicted labels\n",
    "    - normalize (boolean): boolean value to determine whether to normalize the confusion matrix or not\n",
    "    - title (str): title to use in confusion matrix plot\n",
    "            \n",
    "    OUTPUT:\n",
    "    - ax (Axes object): Axes object to plot confusion matrix plot\n",
    "    \"\"\"\n",
    "    if not title:\n",
    "        if normalize:\n",
    "            title = 'Normalized confusion matrix'\n",
    "        else:\n",
    "            title = 'Confusion matrix, without normalization'\n",
    "\n",
    "    # Compute confusion matrix\n",
    "    cm = confusion_matrix(y_true, y_pred)\n",
    "    # Only use the labels that appear in the data\n",
    "    classes = classes[unique_labels(y_true, y_pred)]\n",
    "    if normalize:\n",
    "        cm = cm.astype('float') / cm.sum(axis=1)[:, np.newaxis]\n",
    "        print(\"Normalized confusion matrix\")\n",
    "    else:\n",
    "        print('Confusion matrix, without normalization')\n",
    "\n",
    "    print(cm)\n",
    "\n",
    "    fig, ax = plt.subplots()\n",
    "    im = ax.imshow(cm, interpolation='nearest', cmap=cmap)\n",
    "    ax.figure.colorbar(im, ax=ax)\n",
    "    # We want to show all ticks...\n",
    "    ax.set(xticks=np.arange(cm.shape[1]),\n",
    "           yticks=np.arange(cm.shape[0]),\n",
    "           # ... and label them with the respective list entries\n",
    "           xticklabels=classes, yticklabels=classes,\n",
    "           title=title,\n",
    "           ylabel='True label',\n",
    "           xlabel='Predicted label')\n",
    "\n",
    "    # Rotate the tick labels and set their alignment.\n",
    "    plt.setp(ax.get_xticklabels(), rotation=0, ha=\"right\",\n",
    "             rotation_mode=\"anchor\")\n",
    "\n",
    "    # Loop over data dimensions and create text annotations.\n",
    "    fmt = '.2f' if normalize else 'd'\n",
    "    thresh = cm.max() / 2.\n",
    "    for i in range(cm.shape[0]):\n",
    "        for j in range(cm.shape[1]):\n",
    "            ax.text(j, i, format(cm[i, j], fmt),\n",
    "                    ha=\"center\", va=\"center\",\n",
    "                    color=\"white\" if cm[i, j] > thresh else \"black\")\n",
    "    fig.tight_layout()\n",
    "    return ax"
   ]
  },
  {
   "cell_type": "code",
   "execution_count": 150,
   "metadata": {},
   "outputs": [
    {
     "name": "stdout",
     "output_type": "stream",
     "text": [
      "Confusion matrix, without normalization\n",
      "[[6733  873]\n",
      " [ 359 8661]]\n"
     ]
    },
    {
     "data": {
      "image/png": "[encoded data removed]",
      "text/plain": [
       "<matplotlib.figure.Figure at 0x7fa7f9179588>"
      ]
     },
     "metadata": {
      "needs_background": "light"
     },
     "output_type": "display_data"
    }
   ],
   "source": [
    "# Plot non-normalized confusion matrix\n",
    "np.set_printoptions(precision=2)\n",
    "class_names = np.array([0, 1])\n",
    "\n",
    "plot_confusion_matrix(y_test.squeeze().values, y_pred, classes=class_names,\n",
    "                      title='Confusion matrix, without normalization')\n",
    "\n",
    "plt.show()"
   ]
  },
  {
   "cell_type": "code",
   "execution_count": 151,
   "metadata": {},
   "outputs": [
    {
     "name": "stdout",
     "output_type": "stream",
     "text": [
      "Normalized confusion matrix\n",
      "[[ 0.89  0.11]\n",
      " [ 0.04  0.96]]\n"
     ]
    },
    {
     "data": {
      "image/png": "[encoded data removed]",
      "text/plain": [
       "<matplotlib.figure.Figure at 0x7fa7fa4c1ef0>"
      ]
     },
     "metadata": {
      "needs_background": "light"
     },
     "output_type": "display_data"
    }
   ],
   "source": [
    "# Plot normalized confusion matrix\n",
    "plot_confusion_matrix(y_test.squeeze().values, y_pred, classes=class_names, normalize=True,\n",
    "                      title='Normalized confusion matrix')\n",
    "\n",
    "plt.show()"
   ]
  },
  {
   "cell_type": "markdown",
   "metadata": {},
   "source": [
    "**From above normalized confusion matrix, we observed that there are 4% of chances of misclassifying an indvidual whom would normally respond to an individual that would not respond to offer. Similarly, there are 11% of chances of misclassifying an individual whom would not respond to an individual whom would respond to an offer. As, False Negatives is less than False Positives, our predictive model is doing good as it has very low chances of missing an individual whom would respond. As Starbucks would not like to miss to send offers to individuals whom would respond to offers, this model would work fine in this case and by using this model Starbucks would not miss sending offers by great extent to individuals whom would respond to offers and therefore, overall business revenue would not get affected. Also, Starbucks would not mind sending offers to few individuals whom would not respond if Starbucks is able to make sure that they have covered up the individuals whom would respond to offers to great extent. Therefore, our predictive model is well suited for this case.**\n",
    "\n",
    "**Also, we can improve this project by taking up another probelm statement i.e. determining how much a customer could spend based upon the offer data and demographic data using the supervised regression algorithms.**"
   ]
  },
  {
   "cell_type": "code",
   "execution_count": null,
   "metadata": {},
   "outputs": [],
   "source": []
  },
  {
   "cell_type": "code",
   "execution_count": null,
   "metadata": {},
   "outputs": [],
   "source": []
  },
  {
   "cell_type": "code",
   "execution_count": null,
   "metadata": {},
   "outputs": [],
   "source": []
  }
 ],
 "metadata": {
  "kernelspec": {
   "display_name": "Python 3",
   "language": "python",
   "name": "python3"
  },
  "language_info": {
   "codemirror_mode": {
    "name": "ipython",
    "version": 3
   },
   "file_extension": ".py",
   "mimetype": "text/x-python",
   "name": "python",
   "nbconvert_exporter": "python",
   "pygments_lexer": "ipython3",
   "version": "3.6.3"
  }
 },
 "nbformat": 4,
 "nbformat_minor": 2
}
